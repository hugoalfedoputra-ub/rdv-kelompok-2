{
 "cells": [
  {
   "cell_type": "code",
   "execution_count": 1,
   "id": "deb778f3",
   "metadata": {},
   "outputs": [],
   "source": [
    "import os\n",
    "from dotenv import load_dotenv\n",
    "\n",
    "import requests\n",
    "import json\n",
    "from kafka import KafkaProducer, KafkaConsumer"
   ]
  },
  {
   "cell_type": "markdown",
   "id": "3bf12298",
   "metadata": {},
   "source": [
    "# Definitions"
   ]
  },
  {
   "cell_type": "code",
   "execution_count": 2,
   "id": "3d698e9d",
   "metadata": {},
   "outputs": [],
   "source": [
    "load_dotenv()\n",
    "\n",
    "OPEN_WEATHER_KEY = os.getenv('OPEN_WEATHER_KEY')\n",
    "FREE_WEATHER_KEY = os.getenv('FREE_WEATHER_KEY')\n",
    "\n",
    "OPEN_WEATHER_URL = f\"https://api.openweathermap.org/data/2.5/weather?lat=-7.95&lon=112.61&appid={OPEN_WEATHER_KEY}\"\n",
    "OPEN_METEO_URL = \"https://api.open-meteo.com/v1/forecast?latitude=-7.95&longitude=112.61&current=temperature_2m,apparent_temperature,relative_humidity_2m,rain,precipitation,weather_code,cloud_cover,showers,wind_speed_10m,wind_direction_10m,pressure_msl,surface_pressure,wind_gusts_10m&timezone=Asia%2FBangkok&forecast_days=1\"\n",
    "FREE_WEATHER_URL = f\"https://api.weatherapi.com/v1/current.json?key={FREE_WEATHER_KEY}&q=-7.95,112.61&aqi=no\""
   ]
  },
  {
   "cell_type": "markdown",
   "id": "da1c7506",
   "metadata": {},
   "source": [
    "# Helpers"
   ]
  },
  {
   "cell_type": "code",
   "execution_count": 3,
   "id": "3c81a1d3",
   "metadata": {},
   "outputs": [],
   "source": [
    "def get_open_weather():\n",
    "    '''\n",
    "        Ideally GET every 15 minutes\n",
    "    '''\n",
    "    try:\n",
    "        res = requests.get(OPEN_WEATHER_URL)\n",
    "        if res.status_code == 200:\n",
    "            data = res.json()\n",
    "        else:\n",
    "            print(res.status_code)\n",
    "    except Exception as e:\n",
    "        print(e)\n",
    "        return None\n",
    "    return data\n",
    "\n",
    "def get_open_meteo():\n",
    "    '''\n",
    "        Ideally GET at every chance (but new data is pushed every 15 minutes).\n",
    "        Based on API limit, you can GET up to 3 requests per minute.\n",
    "    '''\n",
    "    try:\n",
    "        res = requests.get(OPEN_METEO_URL)\n",
    "        if res.status_code == 200:\n",
    "            data = res.json()\n",
    "        else:\n",
    "            print(res.status_code)\n",
    "    except Exception as e:\n",
    "        print(e)\n",
    "        return None\n",
    "    return data\n",
    "\n",
    "def get_free_weather():\n",
    "    '''\n",
    "        Ideally GET at every chance (but new data is pushed every 15 minutes).\n",
    "        Based on API limit, you can GET up to 22 requests per minute.\n",
    "    '''\n",
    "    try:\n",
    "        res = requests.get(FREE_WEATHER_URL)\n",
    "        if res.status_code == 200:\n",
    "            data = res.json()\n",
    "        else:\n",
    "            print(res.status_code)\n",
    "    except Exception as e:\n",
    "        print(e)\n",
    "        return None\n",
    "    return data"
   ]
  },
  {
   "cell_type": "markdown",
   "id": "d9b670be",
   "metadata": {},
   "source": [
    "# Kafka Producer\n",
    "\n",
    "Topics:\n",
    "- hourly\n",
    "- real-time"
   ]
  },
  {
   "cell_type": "code",
   "execution_count": 4,
   "id": "39232b2a",
   "metadata": {},
   "outputs": [],
   "source": [
    "HOURLY_TOPIC = 'hourly'\n",
    "REAL_TIME_TOPIC = 'real-time'"
   ]
  },
  {
   "cell_type": "code",
   "execution_count": 12,
   "id": "e26e9396",
   "metadata": {},
   "outputs": [],
   "source": [
    "producer = KafkaProducer(\n",
    "    bootstrap_servers='localhost:29092',\n",
    "    value_serializer=lambda v: json.dumps(v).encode('utf-8')\n",
    ")"
   ]
  },
  {
   "cell_type": "markdown",
   "id": "155e8ca9",
   "metadata": {},
   "source": [
    "# Get data then publish"
   ]
  },
  {
   "cell_type": "code",
   "execution_count": 22,
   "id": "5bee8c1d",
   "metadata": {},
   "outputs": [],
   "source": [
    "ow_data = get_open_weather()\n",
    "future = producer.send(HOURLY_TOPIC, ow_data)"
   ]
  },
  {
   "cell_type": "markdown",
   "id": "c85cf809",
   "metadata": {},
   "source": [
    "# Debugging"
   ]
  },
  {
   "cell_type": "code",
   "execution_count": 8,
   "id": "c04cd6b0",
   "metadata": {},
   "outputs": [],
   "source": [
    "future = producer.send('test', {'hello': 'world'})"
   ]
  },
  {
   "cell_type": "code",
   "execution_count": 15,
   "id": "68708158",
   "metadata": {},
   "outputs": [],
   "source": [
    "consumer = KafkaConsumer(\n",
    "    'free-weather',\n",
    "    bootstrap_servers=['localhost:29092'],\n",
    "    auto_offset_reset='earliest',\n",
    "    enable_auto_commit=False,\n",
    "    client_id='test_fw_consumer',\n",
    "    group_id='i_fw_you',\n",
    "    value_deserializer=lambda m: json.loads(m.decode('ascii')),\n",
    "    # remove this parameter for continuous listening\n",
    "    consumer_timeout_ms=1000\n",
    ")"
   ]
  },
  {
   "cell_type": "code",
   "execution_count": 17,
   "id": "001b5bf3",
   "metadata": {},
   "outputs": [],
   "source": [
    "consumer.poll()\n",
    "for message in consumer:\n",
    "    # message value and key are raw bytes -- decode if necessary!\n",
    "    # e.g., for unicode: `message.value.decode('utf-8')`\n",
    "    print (\"%s:%d:%d: key=%s value=%s\" % (message.topic, message.partition,\n",
    "                                          message.offset, message.key,\n",
    "                                          message.value))\n",
    "    # consumer.commit()"
   ]
  },
  {
   "cell_type": "code",
   "execution_count": 1,
   "id": "fa02ebf2",
   "metadata": {},
   "outputs": [
    {
     "data": {
      "text/html": [
       "\n",
       "            <div>\n",
       "                <p><b>SparkSession - in-memory</b></p>\n",
       "                \n",
       "        <div>\n",
       "            <p><b>SparkContext</b></p>\n",
       "\n",
       "            <p><a href=\"http://192.168.56.1:4040\">Spark UI</a></p>\n",
       "\n",
       "            <dl>\n",
       "              <dt>Version</dt>\n",
       "                <dd><code>v3.5.5</code></dd>\n",
       "              <dt>Master</dt>\n",
       "                <dd><code>local</code></dd>\n",
       "              <dt>AppName</dt>\n",
       "                <dd><code>RDV1</code></dd>\n",
       "            </dl>\n",
       "        </div>\n",
       "        \n",
       "            </div>\n",
       "        "
      ],
      "text/plain": [
       "<pyspark.sql.session.SparkSession at 0x20c95f1c7f0>"
      ]
     },
     "execution_count": 1,
     "metadata": {},
     "output_type": "execute_result"
    }
   ],
   "source": [
    "import findspark\n",
    "findspark.init()\n",
    "findspark.find()\n",
    "\n",
    "from pyspark import SparkContext, SparkConf\n",
    "from pyspark.sql import SparkSession\n",
    "\n",
    "SparkContext.setSystemProperty('spark.executor.memory', '2g')\n",
    "\n",
    "conf = SparkConf().setAppName('RDV1').setMaster('local')\n",
    "sc = SparkContext(conf=conf)\n",
    "spark = SparkSession(sc)\n",
    "\n",
    "spark"
   ]
  }
 ],
 "metadata": {
  "kernelspec": {
   "display_name": "rdvenv",
   "language": "python",
   "name": "python3"
  },
  "language_info": {
   "codemirror_mode": {
    "name": "ipython",
    "version": 3
   },
   "file_extension": ".py",
   "mimetype": "text/x-python",
   "name": "python",
   "nbconvert_exporter": "python",
   "pygments_lexer": "ipython3",
   "version": "3.9.22"
  }
 },
 "nbformat": 4,
 "nbformat_minor": 5
}
