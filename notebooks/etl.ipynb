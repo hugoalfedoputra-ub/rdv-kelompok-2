{
 "cells": [
  {
   "cell_type": "markdown",
   "id": "47bd25a5",
   "metadata": {},
   "source": [
    "# Capstone 1: Implementasi ETL"
   ]
  },
  {
   "cell_type": "code",
   "execution_count": 1,
   "id": "f04c1973",
   "metadata": {},
   "outputs": [],
   "source": [
    "import pandas as pd\n",
    "import seaborn as sns\n",
    "import matplotlib.pyplot as plt\n",
    "sns.set_style('whitegrid')\n",
    "\n",
    "import requests"
   ]
  },
  {
   "cell_type": "markdown",
   "id": "3669d0dc",
   "metadata": {},
   "source": [
    "## Unduh data dari source\n",
    "\n",
    "Data diunduh dengan menggunakan API Kaggle. Jalankan command berikut di dalam folder `data`. Apabila folder tersebut belum ada saat melakukan pull dari repo ini, silakan dibuat terlebih dahulu\n",
    "\n",
    "```kaggle datasets download selfishgene/historical-hourly-weather-data```"
   ]
  },
  {
   "cell_type": "markdown",
   "id": "05b5364a",
   "metadata": {},
   "source": [
    "### Discovery\n",
    "\n",
    "Dataset ini terdiri dari 36 kota dari Amerika Serikat, Kanada, dan Israel. Kota yang akan menjadi fokus utama adalah San Francisco, Amerika Serikat. Alasan kota ini dipilih karena resolusi dari dataset yang tinggi, yaitu per jam. Sebagian besar dataset lain memiliki resolusi yang kecil, biasanya per hari. Karena proyek ini bertujuan untuk melakukan prediksi terhadap suhu udara di setiap jamnya, diperlukan dataset dengan resolusi yang sesuai pula."
   ]
  },
  {
   "cell_type": "code",
   "execution_count": 2,
   "id": "dbcaf0f0",
   "metadata": {},
   "outputs": [
    {
     "data": {
      "text/plain": [
       "City         San Francisco\n",
       "Country      United States\n",
       "Latitude         37.774929\n",
       "Longitude      -122.419418\n",
       "Name: 2, dtype: object"
      ]
     },
     "execution_count": 2,
     "metadata": {},
     "output_type": "execute_result"
    }
   ],
   "source": [
    "cattr = pd.read_csv('../data/historical-hourly-weather-data/city_attributes.csv')\n",
    "cattr.iloc[2]"
   ]
  },
  {
   "cell_type": "code",
   "execution_count": 3,
   "id": "542284f3",
   "metadata": {},
   "outputs": [
    {
     "data": {
      "text/html": [
       "<div>\n",
       "<style scoped>\n",
       "    .dataframe tbody tr th:only-of-type {\n",
       "        vertical-align: middle;\n",
       "    }\n",
       "\n",
       "    .dataframe tbody tr th {\n",
       "        vertical-align: top;\n",
       "    }\n",
       "\n",
       "    .dataframe thead th {\n",
       "        text-align: right;\n",
       "    }\n",
       "</style>\n",
       "<table border=\"1\" class=\"dataframe\">\n",
       "  <thead>\n",
       "    <tr style=\"text-align: right;\">\n",
       "      <th></th>\n",
       "      <th>datetime</th>\n",
       "      <th>Vancouver</th>\n",
       "      <th>Portland</th>\n",
       "      <th>San Francisco</th>\n",
       "      <th>Seattle</th>\n",
       "      <th>Los Angeles</th>\n",
       "      <th>San Diego</th>\n",
       "      <th>Las Vegas</th>\n",
       "      <th>Phoenix</th>\n",
       "      <th>Albuquerque</th>\n",
       "      <th>...</th>\n",
       "      <th>Philadelphia</th>\n",
       "      <th>New York</th>\n",
       "      <th>Montreal</th>\n",
       "      <th>Boston</th>\n",
       "      <th>Beersheba</th>\n",
       "      <th>Tel Aviv District</th>\n",
       "      <th>Eilat</th>\n",
       "      <th>Haifa</th>\n",
       "      <th>Nahariyya</th>\n",
       "      <th>Jerusalem</th>\n",
       "    </tr>\n",
       "  </thead>\n",
       "  <tbody>\n",
       "    <tr>\n",
       "      <th>0</th>\n",
       "      <td>2012-10-01 12:00:00</td>\n",
       "      <td>NaN</td>\n",
       "      <td>NaN</td>\n",
       "      <td>NaN</td>\n",
       "      <td>NaN</td>\n",
       "      <td>NaN</td>\n",
       "      <td>NaN</td>\n",
       "      <td>NaN</td>\n",
       "      <td>NaN</td>\n",
       "      <td>NaN</td>\n",
       "      <td>...</td>\n",
       "      <td>NaN</td>\n",
       "      <td>NaN</td>\n",
       "      <td>NaN</td>\n",
       "      <td>NaN</td>\n",
       "      <td>NaN</td>\n",
       "      <td>NaN</td>\n",
       "      <td>309.100000</td>\n",
       "      <td>NaN</td>\n",
       "      <td>NaN</td>\n",
       "      <td>NaN</td>\n",
       "    </tr>\n",
       "    <tr>\n",
       "      <th>1</th>\n",
       "      <td>2012-10-01 13:00:00</td>\n",
       "      <td>284.630000</td>\n",
       "      <td>282.080000</td>\n",
       "      <td>289.480000</td>\n",
       "      <td>281.800000</td>\n",
       "      <td>291.870000</td>\n",
       "      <td>291.530000</td>\n",
       "      <td>293.410000</td>\n",
       "      <td>296.600000</td>\n",
       "      <td>285.120000</td>\n",
       "      <td>...</td>\n",
       "      <td>285.630000</td>\n",
       "      <td>288.220000</td>\n",
       "      <td>285.830000</td>\n",
       "      <td>287.170000</td>\n",
       "      <td>307.590000</td>\n",
       "      <td>305.470000</td>\n",
       "      <td>310.580000</td>\n",
       "      <td>304.4</td>\n",
       "      <td>304.4</td>\n",
       "      <td>303.5</td>\n",
       "    </tr>\n",
       "    <tr>\n",
       "      <th>2</th>\n",
       "      <td>2012-10-01 14:00:00</td>\n",
       "      <td>284.629041</td>\n",
       "      <td>282.083252</td>\n",
       "      <td>289.474993</td>\n",
       "      <td>281.797217</td>\n",
       "      <td>291.868186</td>\n",
       "      <td>291.533501</td>\n",
       "      <td>293.403141</td>\n",
       "      <td>296.608509</td>\n",
       "      <td>285.154558</td>\n",
       "      <td>...</td>\n",
       "      <td>285.663208</td>\n",
       "      <td>288.247676</td>\n",
       "      <td>285.834650</td>\n",
       "      <td>287.186092</td>\n",
       "      <td>307.590000</td>\n",
       "      <td>304.310000</td>\n",
       "      <td>310.495769</td>\n",
       "      <td>304.4</td>\n",
       "      <td>304.4</td>\n",
       "      <td>303.5</td>\n",
       "    </tr>\n",
       "    <tr>\n",
       "      <th>3</th>\n",
       "      <td>2012-10-01 15:00:00</td>\n",
       "      <td>284.626998</td>\n",
       "      <td>282.091866</td>\n",
       "      <td>289.460618</td>\n",
       "      <td>281.789833</td>\n",
       "      <td>291.862844</td>\n",
       "      <td>291.543355</td>\n",
       "      <td>293.392177</td>\n",
       "      <td>296.631487</td>\n",
       "      <td>285.233952</td>\n",
       "      <td>...</td>\n",
       "      <td>285.756824</td>\n",
       "      <td>288.326940</td>\n",
       "      <td>285.847790</td>\n",
       "      <td>287.231672</td>\n",
       "      <td>307.391513</td>\n",
       "      <td>304.281841</td>\n",
       "      <td>310.411538</td>\n",
       "      <td>304.4</td>\n",
       "      <td>304.4</td>\n",
       "      <td>303.5</td>\n",
       "    </tr>\n",
       "    <tr>\n",
       "      <th>4</th>\n",
       "      <td>2012-10-01 16:00:00</td>\n",
       "      <td>284.624955</td>\n",
       "      <td>282.100481</td>\n",
       "      <td>289.446243</td>\n",
       "      <td>281.782449</td>\n",
       "      <td>291.857503</td>\n",
       "      <td>291.553209</td>\n",
       "      <td>293.381213</td>\n",
       "      <td>296.654466</td>\n",
       "      <td>285.313345</td>\n",
       "      <td>...</td>\n",
       "      <td>285.850440</td>\n",
       "      <td>288.406203</td>\n",
       "      <td>285.860929</td>\n",
       "      <td>287.277251</td>\n",
       "      <td>307.145200</td>\n",
       "      <td>304.238015</td>\n",
       "      <td>310.327308</td>\n",
       "      <td>304.4</td>\n",
       "      <td>304.4</td>\n",
       "      <td>303.5</td>\n",
       "    </tr>\n",
       "  </tbody>\n",
       "</table>\n",
       "<p>5 rows × 37 columns</p>\n",
       "</div>"
      ],
      "text/plain": [
       "              datetime   Vancouver    Portland  San Francisco     Seattle  \\\n",
       "0  2012-10-01 12:00:00         NaN         NaN            NaN         NaN   \n",
       "1  2012-10-01 13:00:00  284.630000  282.080000     289.480000  281.800000   \n",
       "2  2012-10-01 14:00:00  284.629041  282.083252     289.474993  281.797217   \n",
       "3  2012-10-01 15:00:00  284.626998  282.091866     289.460618  281.789833   \n",
       "4  2012-10-01 16:00:00  284.624955  282.100481     289.446243  281.782449   \n",
       "\n",
       "   Los Angeles   San Diego   Las Vegas     Phoenix  Albuquerque  ...  \\\n",
       "0          NaN         NaN         NaN         NaN          NaN  ...   \n",
       "1   291.870000  291.530000  293.410000  296.600000   285.120000  ...   \n",
       "2   291.868186  291.533501  293.403141  296.608509   285.154558  ...   \n",
       "3   291.862844  291.543355  293.392177  296.631487   285.233952  ...   \n",
       "4   291.857503  291.553209  293.381213  296.654466   285.313345  ...   \n",
       "\n",
       "   Philadelphia    New York    Montreal      Boston   Beersheba  \\\n",
       "0           NaN         NaN         NaN         NaN         NaN   \n",
       "1    285.630000  288.220000  285.830000  287.170000  307.590000   \n",
       "2    285.663208  288.247676  285.834650  287.186092  307.590000   \n",
       "3    285.756824  288.326940  285.847790  287.231672  307.391513   \n",
       "4    285.850440  288.406203  285.860929  287.277251  307.145200   \n",
       "\n",
       "   Tel Aviv District       Eilat  Haifa  Nahariyya  Jerusalem  \n",
       "0                NaN  309.100000    NaN        NaN        NaN  \n",
       "1         305.470000  310.580000  304.4      304.4      303.5  \n",
       "2         304.310000  310.495769  304.4      304.4      303.5  \n",
       "3         304.281841  310.411538  304.4      304.4      303.5  \n",
       "4         304.238015  310.327308  304.4      304.4      303.5  \n",
       "\n",
       "[5 rows x 37 columns]"
      ]
     },
     "execution_count": 3,
     "metadata": {},
     "output_type": "execute_result"
    }
   ],
   "source": [
    "tdf = pd.read_csv('../data/historical-hourly-weather-data/temperature.csv')\n",
    "tdf.head()"
   ]
  },
  {
   "cell_type": "markdown",
   "id": "9477ceee",
   "metadata": {},
   "source": [
    "## Transform data"
   ]
  },
  {
   "cell_type": "markdown",
   "id": "be1257b8",
   "metadata": {},
   "source": [
    "### Structuring"
   ]
  },
  {
   "cell_type": "markdown",
   "id": "9ae1fdfc",
   "metadata": {},
   "source": [
    "Terlihat saat data discovery bahwa file .csv untuk suhu (temperature.csv) dibagi per kota di mana tiap kota mendapatkan satu kolom tersendiri. Untuk proyek ini, kami hanya tertarik pada kolom San Francisco, maka perlu dilakukan filtering untuk membuat dataframe baru yang berisi kolom datetime dan kota San Francisco saja."
   ]
  },
  {
   "cell_type": "code",
   "execution_count": 4,
   "id": "1abd975a",
   "metadata": {},
   "outputs": [
    {
     "data": {
      "text/html": [
       "<div>\n",
       "<style scoped>\n",
       "    .dataframe tbody tr th:only-of-type {\n",
       "        vertical-align: middle;\n",
       "    }\n",
       "\n",
       "    .dataframe tbody tr th {\n",
       "        vertical-align: top;\n",
       "    }\n",
       "\n",
       "    .dataframe thead th {\n",
       "        text-align: right;\n",
       "    }\n",
       "</style>\n",
       "<table border=\"1\" class=\"dataframe\">\n",
       "  <thead>\n",
       "    <tr style=\"text-align: right;\">\n",
       "      <th></th>\n",
       "      <th>datetime</th>\n",
       "      <th>San Francisco</th>\n",
       "    </tr>\n",
       "  </thead>\n",
       "  <tbody>\n",
       "    <tr>\n",
       "      <th>0</th>\n",
       "      <td>2012-10-01 12:00:00</td>\n",
       "      <td>NaN</td>\n",
       "    </tr>\n",
       "    <tr>\n",
       "      <th>1</th>\n",
       "      <td>2012-10-01 13:00:00</td>\n",
       "      <td>289.480000</td>\n",
       "    </tr>\n",
       "    <tr>\n",
       "      <th>2</th>\n",
       "      <td>2012-10-01 14:00:00</td>\n",
       "      <td>289.474993</td>\n",
       "    </tr>\n",
       "    <tr>\n",
       "      <th>3</th>\n",
       "      <td>2012-10-01 15:00:00</td>\n",
       "      <td>289.460618</td>\n",
       "    </tr>\n",
       "    <tr>\n",
       "      <th>4</th>\n",
       "      <td>2012-10-01 16:00:00</td>\n",
       "      <td>289.446243</td>\n",
       "    </tr>\n",
       "  </tbody>\n",
       "</table>\n",
       "</div>"
      ],
      "text/plain": [
       "              datetime  San Francisco\n",
       "0  2012-10-01 12:00:00            NaN\n",
       "1  2012-10-01 13:00:00     289.480000\n",
       "2  2012-10-01 14:00:00     289.474993\n",
       "3  2012-10-01 15:00:00     289.460618\n",
       "4  2012-10-01 16:00:00     289.446243"
      ]
     },
     "execution_count": 4,
     "metadata": {},
     "output_type": "execute_result"
    }
   ],
   "source": [
    "tdf_sf = tdf.filter(items=['datetime', 'San Francisco'])\n",
    "tdf_sf.head()"
   ]
  },
  {
   "cell_type": "code",
   "execution_count": 5,
   "id": "d14ff4ee",
   "metadata": {},
   "outputs": [
    {
     "name": "stdout",
     "output_type": "stream",
     "text": [
      "<class 'pandas.core.frame.DataFrame'>\n",
      "RangeIndex: 45253 entries, 0 to 45252\n",
      "Data columns (total 2 columns):\n",
      " #   Column         Non-Null Count  Dtype  \n",
      "---  ------         --------------  -----  \n",
      " 0   datetime       45253 non-null  object \n",
      " 1   San Francisco  44460 non-null  float64\n",
      "dtypes: float64(1), object(1)\n",
      "memory usage: 707.2+ KB\n"
     ]
    }
   ],
   "source": [
    "tdf_sf.info()"
   ]
  },
  {
   "cell_type": "markdown",
   "id": "d351ec0a",
   "metadata": {},
   "source": [
    "### Cleaning"
   ]
  },
  {
   "cell_type": "markdown",
   "id": "a0c46341",
   "metadata": {},
   "source": [
    "Data suhu pada dataframe `tdf` dalam satuan Kelvin dan terdapat beberapa record yang kosong. Tahap ini akan mengubah suhu menjadi satuan Celcius dan melakukan imputasi pada nilai-nilai yang kosong."
   ]
  },
  {
   "cell_type": "code",
   "execution_count": 6,
   "id": "a22a9986",
   "metadata": {},
   "outputs": [
    {
     "data": {
      "image/png": "[encoded data removed]",
      "text/plain": [
       "<Figure size 1600x600 with 1 Axes>"
      ]
     },
     "metadata": {},
     "output_type": "display_data"
    }
   ],
   "source": [
    "fig, ax = plt.subplots(figsize=(16,6))\n",
    "sns.heatmap(tdf_sf.isna().transpose(), cbar=False, ax=ax)\n",
    "plt.title(\"missing values heatmap\", fontsize=12)\n",
    "plt.xlabel(\"column\", fontsize=10) \n",
    "plt.ylabel(\"missing values\", fontsize=10)\n",
    "plt.show()"
   ]
  },
  {
   "cell_type": "code",
   "execution_count": 7,
   "id": "e8649092",
   "metadata": {},
   "outputs": [
    {
     "name": "stdout",
     "output_type": "stream",
     "text": [
      "Persentase data yang missing\n",
      "datetime         0.00000\n",
      "San Francisco    1.75237\n",
      "dtype: float64\n"
     ]
    }
   ],
   "source": [
    "print(\"Persentase data yang missing\")\n",
    "print(100*(tdf_sf.isnull().sum())/len(tdf_sf))"
   ]
  },
  {
   "cell_type": "markdown",
   "id": "574afcaf",
   "metadata": {},
   "source": [
    "Terlihat pada missing values heatmap bahwa terdapat nilai-nilai kosong pada record-record terakhir di dataset. Pola dari nilai-nilai kosong tersebut pula terlihat tidak tersebar sehingga dapat disimpulkan bahwa ekstraksi data oleh pemilik dataset hanya mengalami kegagalan pada waktu-waktu terakhir. Dalam kata lain, proses ekstraksi data tidak mengalami kegagalan intermiten yang memerlukan suatu strategi imputasi data; menghapus baris-baris yang kosong saja sudah cukup. Penghapusan baris-baris yang kosong pula tidak akan berdampak buruk pada kelengkapan data karena data kosong hanya 1,75% dari keseluruhan data. \n",
    "\n",
    "Namun, terlihat pada head atau 5 indeks pertama dari dataframe suhu (`tdf_sf`) bahwa indeks pertama kosong. Kekosongan ini dapat diisi dengan menggunakan nilai nilai pada indeks kedua atau pada jam berikutnya. Hal ini dapat diterapkan karena suhu udara tidak mengalami fluktuasi yang tajam dari jam ke jam, terlebih untuk lokasi-lokasi di luar lingkar kutub, sehingga mengestimasi nilai sebelumnya dengan nilai pada jam berikutnya sudah cukup."
   ]
  },
  {
   "cell_type": "code",
   "execution_count": 8,
   "id": "e3e20dc8",
   "metadata": {},
   "outputs": [
    {
     "data": {
      "text/html": [
       "<div>\n",
       "<style scoped>\n",
       "    .dataframe tbody tr th:only-of-type {\n",
       "        vertical-align: middle;\n",
       "    }\n",
       "\n",
       "    .dataframe tbody tr th {\n",
       "        vertical-align: top;\n",
       "    }\n",
       "\n",
       "    .dataframe thead th {\n",
       "        text-align: right;\n",
       "    }\n",
       "</style>\n",
       "<table border=\"1\" class=\"dataframe\">\n",
       "  <thead>\n",
       "    <tr style=\"text-align: right;\">\n",
       "      <th></th>\n",
       "      <th>datetime</th>\n",
       "      <th>San Francisco</th>\n",
       "    </tr>\n",
       "  </thead>\n",
       "  <tbody>\n",
       "    <tr>\n",
       "      <th>0</th>\n",
       "      <td>2012-10-01 12:00:00</td>\n",
       "      <td>289.480000</td>\n",
       "    </tr>\n",
       "    <tr>\n",
       "      <th>1</th>\n",
       "      <td>2012-10-01 13:00:00</td>\n",
       "      <td>289.480000</td>\n",
       "    </tr>\n",
       "    <tr>\n",
       "      <th>2</th>\n",
       "      <td>2012-10-01 14:00:00</td>\n",
       "      <td>289.474993</td>\n",
       "    </tr>\n",
       "    <tr>\n",
       "      <th>3</th>\n",
       "      <td>2012-10-01 15:00:00</td>\n",
       "      <td>289.460618</td>\n",
       "    </tr>\n",
       "    <tr>\n",
       "      <th>4</th>\n",
       "      <td>2012-10-01 16:00:00</td>\n",
       "      <td>289.446243</td>\n",
       "    </tr>\n",
       "  </tbody>\n",
       "</table>\n",
       "</div>"
      ],
      "text/plain": [
       "              datetime  San Francisco\n",
       "0  2012-10-01 12:00:00     289.480000\n",
       "1  2012-10-01 13:00:00     289.480000\n",
       "2  2012-10-01 14:00:00     289.474993\n",
       "3  2012-10-01 15:00:00     289.460618\n",
       "4  2012-10-01 16:00:00     289.446243"
      ]
     },
     "execution_count": 8,
     "metadata": {},
     "output_type": "execute_result"
    }
   ],
   "source": [
    "tdf_sf = tdf_sf.bfill(limit=1)\n",
    "tdf_sf.head()"
   ]
  },
  {
   "cell_type": "markdown",
   "id": "24767c74",
   "metadata": {},
   "source": [
    "Timezone yang digunakan oleh pemilik dataset adalah GMT+3 seperti observasi oleh seorang pengguna pada forum diskusi ini: https://www.kaggle.com/datasets/selfishgene/historical-hourly-weather-data/discussion/56294. Observasi ini didasari dari melihat tinggi rendahnya suhu pada setiap jam. Pengguna tersebut mengasumsikan timezone adalah GMT+3 (Israel). Asumsi ini dianggap benar karena pemilik dataset juga mengekstrak data suhu untuk kota-kota di Israel dan suhu pada setiap jam untuk kota-kota tersebut sesuai. Maka, kolom datetime pada dataset tersebut perlu diundur selama 10 jam (San Francisco berada di GMT-7).\n",
    "\n",
    "Catatan: pengunduran kolom dataset tidak mengakomodir Daylight Saving Time"
   ]
  },
  {
   "cell_type": "code",
   "execution_count": 9,
   "id": "f1c80f3d",
   "metadata": {},
   "outputs": [
    {
     "data": {
      "text/html": [
       "<div>\n",
       "<style scoped>\n",
       "    .dataframe tbody tr th:only-of-type {\n",
       "        vertical-align: middle;\n",
       "    }\n",
       "\n",
       "    .dataframe tbody tr th {\n",
       "        vertical-align: top;\n",
       "    }\n",
       "\n",
       "    .dataframe thead th {\n",
       "        text-align: right;\n",
       "    }\n",
       "</style>\n",
       "<table border=\"1\" class=\"dataframe\">\n",
       "  <thead>\n",
       "    <tr style=\"text-align: right;\">\n",
       "      <th></th>\n",
       "      <th>datetime</th>\n",
       "      <th>San Francisco</th>\n",
       "    </tr>\n",
       "  </thead>\n",
       "  <tbody>\n",
       "    <tr>\n",
       "      <th>0</th>\n",
       "      <td>2012-10-01T02:00</td>\n",
       "      <td>16.330000</td>\n",
       "    </tr>\n",
       "    <tr>\n",
       "      <th>1</th>\n",
       "      <td>2012-10-01T03:00</td>\n",
       "      <td>16.330000</td>\n",
       "    </tr>\n",
       "    <tr>\n",
       "      <th>2</th>\n",
       "      <td>2012-10-01T04:00</td>\n",
       "      <td>16.324993</td>\n",
       "    </tr>\n",
       "    <tr>\n",
       "      <th>3</th>\n",
       "      <td>2012-10-01T05:00</td>\n",
       "      <td>16.310618</td>\n",
       "    </tr>\n",
       "    <tr>\n",
       "      <th>4</th>\n",
       "      <td>2012-10-01T06:00</td>\n",
       "      <td>16.296243</td>\n",
       "    </tr>\n",
       "  </tbody>\n",
       "</table>\n",
       "</div>"
      ],
      "text/plain": [
       "           datetime  San Francisco\n",
       "0  2012-10-01T02:00      16.330000\n",
       "1  2012-10-01T03:00      16.330000\n",
       "2  2012-10-01T04:00      16.324993\n",
       "3  2012-10-01T05:00      16.310618\n",
       "4  2012-10-01T06:00      16.296243"
      ]
     },
     "execution_count": 9,
     "metadata": {},
     "output_type": "execute_result"
    }
   ],
   "source": [
    "# Konversi dari Kelvin menjadi Celcius\n",
    "tdf_sf_c = tdf_sf['San Francisco'].apply(lambda x: x - 273.15)\n",
    "\n",
    "# Konversi datetime menjadi format yang sama dengan datetime Open-meteo (untuk memudahkan enriching nantinya)\n",
    "tdf_sf_dt_om = pd.to_datetime(tdf_sf['datetime'])\n",
    "\n",
    "source_tz = 'Etc/GMT-3'\n",
    "tdf_sf_dt_om = tdf_sf_dt_om.dt.tz_localize(source_tz)\n",
    "\n",
    "target_tz = 'Etc/GMT+7'\n",
    "tdf_sf_dt_om = tdf_sf_dt_om.dt.tz_convert(target_tz)\n",
    "\n",
    "new_om = []\n",
    "for dt in tdf_sf_dt_om:\n",
    "    temp = str(dt).split(' ')\n",
    "    temp_time = temp[1].split('-')\n",
    "    act_time = temp_time[0].split(':')\n",
    "    new_time = ':'.join((act_time[0], act_time[1]))\n",
    "    res = 'T'.join((temp[0], new_time))\n",
    "    new_om.append(res)\n",
    "\n",
    "tdf_sf_in_c = pd.DataFrame(data={\n",
    "    'datetime': new_om,\n",
    "    'San Francisco': tdf_sf_c\n",
    "})\n",
    "\n",
    "tdf_sf_in_c.head()"
   ]
  },
  {
   "cell_type": "code",
   "execution_count": 10,
   "id": "8106e8dd",
   "metadata": {},
   "outputs": [
    {
     "name": "stdout",
     "output_type": "stream",
     "text": [
      "<class 'pandas.core.frame.DataFrame'>\n",
      "Index: 44461 entries, 0 to 44460\n",
      "Data columns (total 2 columns):\n",
      " #   Column         Non-Null Count  Dtype  \n",
      "---  ------         --------------  -----  \n",
      " 0   datetime       44461 non-null  object \n",
      " 1   San Francisco  44461 non-null  float64\n",
      "dtypes: float64(1), object(1)\n",
      "memory usage: 1.0+ MB\n"
     ]
    }
   ],
   "source": [
    "tdf_sf_in_c = tdf_sf_in_c.dropna()\n",
    "tdf_sf_in_c.info()"
   ]
  },
  {
   "cell_type": "code",
   "execution_count": 11,
   "id": "bc0dad2e",
   "metadata": {},
   "outputs": [
    {
     "data": {
      "text/plain": [
       "datetime         2017-10-27T14:00\n",
       "San Francisco               28.92\n",
       "Name: 44460, dtype: object"
      ]
     },
     "execution_count": 11,
     "metadata": {},
     "output_type": "execute_result"
    }
   ],
   "source": [
    "tdf_sf_in_c.iloc[-1]"
   ]
  },
  {
   "cell_type": "markdown",
   "id": "a0739135",
   "metadata": {},
   "source": [
    "### Enriching"
   ]
  },
  {
   "cell_type": "markdown",
   "id": "cb98443d",
   "metadata": {},
   "source": [
    "Data pada dataset yang didapatkan dari kaggle hanya diekstraksi sampai tanggal 27 Oktober 2017 pukul 14:00. Menurut pemilik dataset, ekstraksi dilakukan menggunakan API dari OpenWeather. Namun, akses API dari OpenWeather untuk data historis berbayar, sehingga kami memutuskan untuk menggunakan API dari Open-meteo (https://open-meteo.com/en/docs/historical-weather-api) untuk melengkapi dataset ini sampai tanggal 1 Mei 2025.\n",
    "\n",
    "Akses API Open-meteo gratis dan dapat langsung mengunduh data dalam format .csv. Link yang kami gunakan untuk mendapatkan data historis sbb.\n",
    "\n",
    "```\n",
    "https://archive-api.open-meteo.com/v1/archive?latitude=37.77&longitude=-122.41&start_date=2017-10-27&end_date=2025-05-01&hourly=temperature_2m&timezone=auto\n",
    "```"
   ]
  },
  {
   "cell_type": "code",
   "execution_count": 12,
   "id": "3a7c2a2e",
   "metadata": {},
   "outputs": [],
   "source": [
    "url = \"https://archive-api.open-meteo.com/v1/archive?latitude=37.77&longitude=-122.41&start_date=2017-10-27&end_date=2025-05-01&hourly=temperature_2m&timezone=auto\""
   ]
  },
  {
   "cell_type": "code",
   "execution_count": 13,
   "id": "13ab7c58",
   "metadata": {},
   "outputs": [],
   "source": [
    "res = requests.get(url)"
   ]
  },
  {
   "cell_type": "code",
   "execution_count": 14,
   "id": "654bede0",
   "metadata": {},
   "outputs": [
    {
     "data": {
      "text/html": [
       "<div>\n",
       "<style scoped>\n",
       "    .dataframe tbody tr th:only-of-type {\n",
       "        vertical-align: middle;\n",
       "    }\n",
       "\n",
       "    .dataframe tbody tr th {\n",
       "        vertical-align: top;\n",
       "    }\n",
       "\n",
       "    .dataframe thead th {\n",
       "        text-align: right;\n",
       "    }\n",
       "</style>\n",
       "<table border=\"1\" class=\"dataframe\">\n",
       "  <thead>\n",
       "    <tr style=\"text-align: right;\">\n",
       "      <th></th>\n",
       "      <th>datetime</th>\n",
       "      <th>San Francisco</th>\n",
       "    </tr>\n",
       "  </thead>\n",
       "  <tbody>\n",
       "    <tr>\n",
       "      <th>0</th>\n",
       "      <td>2017-10-27T00:00</td>\n",
       "      <td>17.3</td>\n",
       "    </tr>\n",
       "    <tr>\n",
       "      <th>1</th>\n",
       "      <td>2017-10-27T01:00</td>\n",
       "      <td>18.8</td>\n",
       "    </tr>\n",
       "    <tr>\n",
       "      <th>2</th>\n",
       "      <td>2017-10-27T02:00</td>\n",
       "      <td>18.1</td>\n",
       "    </tr>\n",
       "    <tr>\n",
       "      <th>3</th>\n",
       "      <td>2017-10-27T03:00</td>\n",
       "      <td>17.5</td>\n",
       "    </tr>\n",
       "    <tr>\n",
       "      <th>4</th>\n",
       "      <td>2017-10-27T04:00</td>\n",
       "      <td>17.2</td>\n",
       "    </tr>\n",
       "  </tbody>\n",
       "</table>\n",
       "</div>"
      ],
      "text/plain": [
       "           datetime  San Francisco\n",
       "0  2017-10-27T00:00           17.3\n",
       "1  2017-10-27T01:00           18.8\n",
       "2  2017-10-27T02:00           18.1\n",
       "3  2017-10-27T03:00           17.5\n",
       "4  2017-10-27T04:00           17.2"
      ]
     },
     "execution_count": 14,
     "metadata": {},
     "output_type": "execute_result"
    }
   ],
   "source": [
    "if res.status_code == 200:\n",
    "    data = res.json()\n",
    "    df = pd.DataFrame(data={'datetime': data['hourly']['time'], 'San Francisco': data['hourly']['temperature_2m']})\n",
    "    df.head()\n",
    "else:\n",
    "    print(res.status_code)\n",
    "\n",
    "df.head()"
   ]
  },
  {
   "cell_type": "code",
   "execution_count": 15,
   "id": "4987f56c",
   "metadata": {},
   "outputs": [],
   "source": [
    "df.to_csv('../data/open-meteo-sf-temp2m-20171027-20250501.csv', index=False)"
   ]
  },
  {
   "cell_type": "code",
   "execution_count": 16,
   "id": "d1fd8a5e",
   "metadata": {},
   "outputs": [
    {
     "data": {
      "text/html": [
       "<div>\n",
       "<style scoped>\n",
       "    .dataframe tbody tr th:only-of-type {\n",
       "        vertical-align: middle;\n",
       "    }\n",
       "\n",
       "    .dataframe tbody tr th {\n",
       "        vertical-align: top;\n",
       "    }\n",
       "\n",
       "    .dataframe thead th {\n",
       "        text-align: right;\n",
       "    }\n",
       "</style>\n",
       "<table border=\"1\" class=\"dataframe\">\n",
       "  <thead>\n",
       "    <tr style=\"text-align: right;\">\n",
       "      <th></th>\n",
       "      <th>datetime</th>\n",
       "      <th>San Francisco</th>\n",
       "    </tr>\n",
       "  </thead>\n",
       "  <tbody>\n",
       "    <tr>\n",
       "      <th>0</th>\n",
       "      <td>2017-10-27T00:00</td>\n",
       "      <td>17.3</td>\n",
       "    </tr>\n",
       "    <tr>\n",
       "      <th>1</th>\n",
       "      <td>2017-10-27T01:00</td>\n",
       "      <td>18.8</td>\n",
       "    </tr>\n",
       "    <tr>\n",
       "      <th>2</th>\n",
       "      <td>2017-10-27T02:00</td>\n",
       "      <td>18.1</td>\n",
       "    </tr>\n",
       "    <tr>\n",
       "      <th>3</th>\n",
       "      <td>2017-10-27T03:00</td>\n",
       "      <td>17.5</td>\n",
       "    </tr>\n",
       "    <tr>\n",
       "      <th>4</th>\n",
       "      <td>2017-10-27T04:00</td>\n",
       "      <td>17.2</td>\n",
       "    </tr>\n",
       "  </tbody>\n",
       "</table>\n",
       "</div>"
      ],
      "text/plain": [
       "           datetime  San Francisco\n",
       "0  2017-10-27T00:00           17.3\n",
       "1  2017-10-27T01:00           18.8\n",
       "2  2017-10-27T02:00           18.1\n",
       "3  2017-10-27T03:00           17.5\n",
       "4  2017-10-27T04:00           17.2"
      ]
     },
     "execution_count": 16,
     "metadata": {},
     "output_type": "execute_result"
    }
   ],
   "source": [
    "tdf_om_sf = pd.read_csv('../data/open-meteo-sf-temp2m-20171027-20250501.csv')\n",
    "tdf_om_sf.head()"
   ]
  },
  {
   "cell_type": "code",
   "execution_count": 17,
   "id": "5aa306b2",
   "metadata": {},
   "outputs": [
    {
     "data": {
      "text/html": [
       "<div>\n",
       "<style scoped>\n",
       "    .dataframe tbody tr th:only-of-type {\n",
       "        vertical-align: middle;\n",
       "    }\n",
       "\n",
       "    .dataframe tbody tr th {\n",
       "        vertical-align: top;\n",
       "    }\n",
       "\n",
       "    .dataframe thead th {\n",
       "        text-align: right;\n",
       "    }\n",
       "</style>\n",
       "<table border=\"1\" class=\"dataframe\">\n",
       "  <thead>\n",
       "    <tr style=\"text-align: right;\">\n",
       "      <th></th>\n",
       "      <th>datetime</th>\n",
       "      <th>San Francisco</th>\n",
       "    </tr>\n",
       "  </thead>\n",
       "  <tbody>\n",
       "    <tr>\n",
       "      <th>0</th>\n",
       "      <td>2017-10-27T15:00</td>\n",
       "      <td>22.4</td>\n",
       "    </tr>\n",
       "    <tr>\n",
       "      <th>1</th>\n",
       "      <td>2017-10-27T16:00</td>\n",
       "      <td>19.8</td>\n",
       "    </tr>\n",
       "    <tr>\n",
       "      <th>2</th>\n",
       "      <td>2017-10-27T17:00</td>\n",
       "      <td>18.4</td>\n",
       "    </tr>\n",
       "    <tr>\n",
       "      <th>3</th>\n",
       "      <td>2017-10-27T18:00</td>\n",
       "      <td>17.8</td>\n",
       "    </tr>\n",
       "    <tr>\n",
       "      <th>4</th>\n",
       "      <td>2017-10-27T19:00</td>\n",
       "      <td>17.7</td>\n",
       "    </tr>\n",
       "  </tbody>\n",
       "</table>\n",
       "</div>"
      ],
      "text/plain": [
       "           datetime  San Francisco\n",
       "0  2017-10-27T15:00           22.4\n",
       "1  2017-10-27T16:00           19.8\n",
       "2  2017-10-27T17:00           18.4\n",
       "3  2017-10-27T18:00           17.8\n",
       "4  2017-10-27T19:00           17.7"
      ]
     },
     "execution_count": 17,
     "metadata": {},
     "output_type": "execute_result"
    }
   ],
   "source": [
    "tdf_om_sf_clean = pd.DataFrame(tdf_om_sf.iloc[15:,:2])\n",
    "tdf_om_sf_clean = tdf_om_sf_clean.reset_index()\n",
    "tdf_om_sf_clean = tdf_om_sf_clean.drop(columns=['index'])\n",
    "tdf_om_sf_clean = tdf_om_sf_clean.rename(columns={'latitude': 'datetime', 'longitude': 'San Francisco'})\n",
    "tdf_om_sf_clean = tdf_om_sf_clean.astype({'San Francisco': 'float64'})\n",
    "tdf_om_sf_clean.head()"
   ]
  },
  {
   "cell_type": "code",
   "execution_count": 18,
   "id": "f04c7e1e",
   "metadata": {},
   "outputs": [
    {
     "name": "stdout",
     "output_type": "stream",
     "text": [
      "<class 'pandas.core.frame.DataFrame'>\n",
      "RangeIndex: 65841 entries, 0 to 65840\n",
      "Data columns (total 2 columns):\n",
      " #   Column         Non-Null Count  Dtype  \n",
      "---  ------         --------------  -----  \n",
      " 0   datetime       65841 non-null  object \n",
      " 1   San Francisco  65841 non-null  float64\n",
      "dtypes: float64(1), object(1)\n",
      "memory usage: 1.0+ MB\n"
     ]
    }
   ],
   "source": [
    "tdf_om_sf_clean.info()"
   ]
  },
  {
   "cell_type": "code",
   "execution_count": 19,
   "id": "63ab5944",
   "metadata": {},
   "outputs": [
    {
     "data": {
      "text/html": [
       "<div>\n",
       "<style scoped>\n",
       "    .dataframe tbody tr th:only-of-type {\n",
       "        vertical-align: middle;\n",
       "    }\n",
       "\n",
       "    .dataframe tbody tr th {\n",
       "        vertical-align: top;\n",
       "    }\n",
       "\n",
       "    .dataframe thead th {\n",
       "        text-align: right;\n",
       "    }\n",
       "</style>\n",
       "<table border=\"1\" class=\"dataframe\">\n",
       "  <thead>\n",
       "    <tr style=\"text-align: right;\">\n",
       "      <th></th>\n",
       "      <th>datetime</th>\n",
       "      <th>San Francisco</th>\n",
       "    </tr>\n",
       "  </thead>\n",
       "  <tbody>\n",
       "    <tr>\n",
       "      <th>0</th>\n",
       "      <td>2012-10-01T02:00</td>\n",
       "      <td>16.330000</td>\n",
       "    </tr>\n",
       "    <tr>\n",
       "      <th>1</th>\n",
       "      <td>2012-10-01T03:00</td>\n",
       "      <td>16.330000</td>\n",
       "    </tr>\n",
       "    <tr>\n",
       "      <th>2</th>\n",
       "      <td>2012-10-01T04:00</td>\n",
       "      <td>16.324993</td>\n",
       "    </tr>\n",
       "    <tr>\n",
       "      <th>3</th>\n",
       "      <td>2012-10-01T05:00</td>\n",
       "      <td>16.310618</td>\n",
       "    </tr>\n",
       "    <tr>\n",
       "      <th>4</th>\n",
       "      <td>2012-10-01T06:00</td>\n",
       "      <td>16.296243</td>\n",
       "    </tr>\n",
       "  </tbody>\n",
       "</table>\n",
       "</div>"
      ],
      "text/plain": [
       "           datetime  San Francisco\n",
       "0  2012-10-01T02:00      16.330000\n",
       "1  2012-10-01T03:00      16.330000\n",
       "2  2012-10-01T04:00      16.324993\n",
       "3  2012-10-01T05:00      16.310618\n",
       "4  2012-10-01T06:00      16.296243"
      ]
     },
     "execution_count": 19,
     "metadata": {},
     "output_type": "execute_result"
    }
   ],
   "source": [
    "enr_tdf_sf = pd.concat([tdf_sf_in_c, tdf_om_sf_clean], ignore_index=True)\n",
    "enr_tdf_sf.head()"
   ]
  },
  {
   "cell_type": "code",
   "execution_count": 20,
   "id": "e56adac8",
   "metadata": {},
   "outputs": [
    {
     "data": {
      "text/html": [
       "<div>\n",
       "<style scoped>\n",
       "    .dataframe tbody tr th:only-of-type {\n",
       "        vertical-align: middle;\n",
       "    }\n",
       "\n",
       "    .dataframe tbody tr th {\n",
       "        vertical-align: top;\n",
       "    }\n",
       "\n",
       "    .dataframe thead th {\n",
       "        text-align: right;\n",
       "    }\n",
       "</style>\n",
       "<table border=\"1\" class=\"dataframe\">\n",
       "  <thead>\n",
       "    <tr style=\"text-align: right;\">\n",
       "      <th></th>\n",
       "      <th>datetime</th>\n",
       "      <th>San Francisco</th>\n",
       "    </tr>\n",
       "  </thead>\n",
       "  <tbody>\n",
       "    <tr>\n",
       "      <th>110297</th>\n",
       "      <td>2025-05-01T19:00</td>\n",
       "      <td>12.3</td>\n",
       "    </tr>\n",
       "    <tr>\n",
       "      <th>110298</th>\n",
       "      <td>2025-05-01T20:00</td>\n",
       "      <td>11.5</td>\n",
       "    </tr>\n",
       "    <tr>\n",
       "      <th>110299</th>\n",
       "      <td>2025-05-01T21:00</td>\n",
       "      <td>11.2</td>\n",
       "    </tr>\n",
       "    <tr>\n",
       "      <th>110300</th>\n",
       "      <td>2025-05-01T22:00</td>\n",
       "      <td>11.1</td>\n",
       "    </tr>\n",
       "    <tr>\n",
       "      <th>110301</th>\n",
       "      <td>2025-05-01T23:00</td>\n",
       "      <td>11.1</td>\n",
       "    </tr>\n",
       "  </tbody>\n",
       "</table>\n",
       "</div>"
      ],
      "text/plain": [
       "                datetime  San Francisco\n",
       "110297  2025-05-01T19:00           12.3\n",
       "110298  2025-05-01T20:00           11.5\n",
       "110299  2025-05-01T21:00           11.2\n",
       "110300  2025-05-01T22:00           11.1\n",
       "110301  2025-05-01T23:00           11.1"
      ]
     },
     "execution_count": 20,
     "metadata": {},
     "output_type": "execute_result"
    }
   ],
   "source": [
    "enr_tdf_sf.iloc[-5:]"
   ]
  },
  {
   "cell_type": "code",
   "execution_count": 21,
   "id": "de045b0c",
   "metadata": {},
   "outputs": [
    {
     "name": "stdout",
     "output_type": "stream",
     "text": [
      "<class 'pandas.core.frame.DataFrame'>\n",
      "RangeIndex: 110302 entries, 0 to 110301\n",
      "Data columns (total 2 columns):\n",
      " #   Column         Non-Null Count   Dtype  \n",
      "---  ------         --------------   -----  \n",
      " 0   datetime       110302 non-null  object \n",
      " 1   San Francisco  110302 non-null  float64\n",
      "dtypes: float64(1), object(1)\n",
      "memory usage: 1.7+ MB\n"
     ]
    }
   ],
   "source": [
    "enr_tdf_sf.info()"
   ]
  },
  {
   "cell_type": "markdown",
   "id": "bfdb0cc0",
   "metadata": {},
   "source": [
    "### Validating"
   ]
  },
  {
   "cell_type": "code",
   "execution_count": 22,
   "id": "cfb7b984",
   "metadata": {},
   "outputs": [
    {
     "data": {
      "text/html": [
       "<div>\n",
       "<style scoped>\n",
       "    .dataframe tbody tr th:only-of-type {\n",
       "        vertical-align: middle;\n",
       "    }\n",
       "\n",
       "    .dataframe tbody tr th {\n",
       "        vertical-align: top;\n",
       "    }\n",
       "\n",
       "    .dataframe thead th {\n",
       "        text-align: right;\n",
       "    }\n",
       "</style>\n",
       "<table border=\"1\" class=\"dataframe\">\n",
       "  <thead>\n",
       "    <tr style=\"text-align: right;\">\n",
       "      <th></th>\n",
       "      <th>San Francisco</th>\n",
       "    </tr>\n",
       "  </thead>\n",
       "  <tbody>\n",
       "    <tr>\n",
       "      <th>count</th>\n",
       "      <td>44461.000000</td>\n",
       "    </tr>\n",
       "    <tr>\n",
       "      <th>mean</th>\n",
       "      <td>15.005850</td>\n",
       "    </tr>\n",
       "    <tr>\n",
       "      <th>std</th>\n",
       "      <td>5.332806</td>\n",
       "    </tr>\n",
       "    <tr>\n",
       "      <th>min</th>\n",
       "      <td>-0.850000</td>\n",
       "    </tr>\n",
       "    <tr>\n",
       "      <th>25%</th>\n",
       "      <td>11.520000</td>\n",
       "    </tr>\n",
       "    <tr>\n",
       "      <th>50%</th>\n",
       "      <td>14.460000</td>\n",
       "    </tr>\n",
       "    <tr>\n",
       "      <th>75%</th>\n",
       "      <td>17.864667</td>\n",
       "    </tr>\n",
       "    <tr>\n",
       "      <th>max</th>\n",
       "      <td>40.470000</td>\n",
       "    </tr>\n",
       "  </tbody>\n",
       "</table>\n",
       "</div>"
      ],
      "text/plain": [
       "       San Francisco\n",
       "count   44461.000000\n",
       "mean       15.005850\n",
       "std         5.332806\n",
       "min        -0.850000\n",
       "25%        11.520000\n",
       "50%        14.460000\n",
       "75%        17.864667\n",
       "max        40.470000"
      ]
     },
     "execution_count": 22,
     "metadata": {},
     "output_type": "execute_result"
    }
   ],
   "source": [
    "tdf_sf_in_c.describe()"
   ]
  },
  {
   "cell_type": "code",
   "execution_count": 23,
   "id": "d31e56df",
   "metadata": {},
   "outputs": [
    {
     "data": {
      "text/html": [
       "<div>\n",
       "<style scoped>\n",
       "    .dataframe tbody tr th:only-of-type {\n",
       "        vertical-align: middle;\n",
       "    }\n",
       "\n",
       "    .dataframe tbody tr th {\n",
       "        vertical-align: top;\n",
       "    }\n",
       "\n",
       "    .dataframe thead th {\n",
       "        text-align: right;\n",
       "    }\n",
       "</style>\n",
       "<table border=\"1\" class=\"dataframe\">\n",
       "  <thead>\n",
       "    <tr style=\"text-align: right;\">\n",
       "      <th></th>\n",
       "      <th>datetime</th>\n",
       "      <th>San Francisco</th>\n",
       "    </tr>\n",
       "  </thead>\n",
       "  <tbody>\n",
       "    <tr>\n",
       "      <th>44455</th>\n",
       "      <td>2017-10-27T09:00</td>\n",
       "      <td>21.90</td>\n",
       "    </tr>\n",
       "    <tr>\n",
       "      <th>44456</th>\n",
       "      <td>2017-10-27T10:00</td>\n",
       "      <td>23.91</td>\n",
       "    </tr>\n",
       "    <tr>\n",
       "      <th>44457</th>\n",
       "      <td>2017-10-27T11:00</td>\n",
       "      <td>25.99</td>\n",
       "    </tr>\n",
       "    <tr>\n",
       "      <th>44458</th>\n",
       "      <td>2017-10-27T12:00</td>\n",
       "      <td>27.41</td>\n",
       "    </tr>\n",
       "    <tr>\n",
       "      <th>44459</th>\n",
       "      <td>2017-10-27T13:00</td>\n",
       "      <td>27.91</td>\n",
       "    </tr>\n",
       "    <tr>\n",
       "      <th>44460</th>\n",
       "      <td>2017-10-27T14:00</td>\n",
       "      <td>28.92</td>\n",
       "    </tr>\n",
       "  </tbody>\n",
       "</table>\n",
       "</div>"
      ],
      "text/plain": [
       "               datetime  San Francisco\n",
       "44455  2017-10-27T09:00          21.90\n",
       "44456  2017-10-27T10:00          23.91\n",
       "44457  2017-10-27T11:00          25.99\n",
       "44458  2017-10-27T12:00          27.41\n",
       "44459  2017-10-27T13:00          27.91\n",
       "44460  2017-10-27T14:00          28.92"
      ]
     },
     "execution_count": 23,
     "metadata": {},
     "output_type": "execute_result"
    }
   ],
   "source": [
    "tdf_sf_in_c.iloc[-6:]"
   ]
  },
  {
   "cell_type": "code",
   "execution_count": 24,
   "id": "dfdbd696",
   "metadata": {},
   "outputs": [
    {
     "data": {
      "text/html": [
       "<div>\n",
       "<style scoped>\n",
       "    .dataframe tbody tr th:only-of-type {\n",
       "        vertical-align: middle;\n",
       "    }\n",
       "\n",
       "    .dataframe tbody tr th {\n",
       "        vertical-align: top;\n",
       "    }\n",
       "\n",
       "    .dataframe thead th {\n",
       "        text-align: right;\n",
       "    }\n",
       "</style>\n",
       "<table border=\"1\" class=\"dataframe\">\n",
       "  <thead>\n",
       "    <tr style=\"text-align: right;\">\n",
       "      <th></th>\n",
       "      <th>datetime</th>\n",
       "      <th>San Francisco</th>\n",
       "    </tr>\n",
       "  </thead>\n",
       "  <tbody>\n",
       "    <tr>\n",
       "      <th>0</th>\n",
       "      <td>2017-10-27T15:00</td>\n",
       "      <td>22.4</td>\n",
       "    </tr>\n",
       "    <tr>\n",
       "      <th>1</th>\n",
       "      <td>2017-10-27T16:00</td>\n",
       "      <td>19.8</td>\n",
       "    </tr>\n",
       "    <tr>\n",
       "      <th>2</th>\n",
       "      <td>2017-10-27T17:00</td>\n",
       "      <td>18.4</td>\n",
       "    </tr>\n",
       "    <tr>\n",
       "      <th>3</th>\n",
       "      <td>2017-10-27T18:00</td>\n",
       "      <td>17.8</td>\n",
       "    </tr>\n",
       "    <tr>\n",
       "      <th>4</th>\n",
       "      <td>2017-10-27T19:00</td>\n",
       "      <td>17.7</td>\n",
       "    </tr>\n",
       "  </tbody>\n",
       "</table>\n",
       "</div>"
      ],
      "text/plain": [
       "           datetime  San Francisco\n",
       "0  2017-10-27T15:00           22.4\n",
       "1  2017-10-27T16:00           19.8\n",
       "2  2017-10-27T17:00           18.4\n",
       "3  2017-10-27T18:00           17.8\n",
       "4  2017-10-27T19:00           17.7"
      ]
     },
     "execution_count": 24,
     "metadata": {},
     "output_type": "execute_result"
    }
   ],
   "source": [
    "tdf_om_sf_clean.head()"
   ]
  },
  {
   "cell_type": "code",
   "execution_count": 25,
   "id": "491feeb6",
   "metadata": {},
   "outputs": [
    {
     "data": {
      "text/html": [
       "<div>\n",
       "<style scoped>\n",
       "    .dataframe tbody tr th:only-of-type {\n",
       "        vertical-align: middle;\n",
       "    }\n",
       "\n",
       "    .dataframe tbody tr th {\n",
       "        vertical-align: top;\n",
       "    }\n",
       "\n",
       "    .dataframe thead th {\n",
       "        text-align: right;\n",
       "    }\n",
       "</style>\n",
       "<table border=\"1\" class=\"dataframe\">\n",
       "  <thead>\n",
       "    <tr style=\"text-align: right;\">\n",
       "      <th></th>\n",
       "      <th>San Francisco</th>\n",
       "    </tr>\n",
       "  </thead>\n",
       "  <tbody>\n",
       "    <tr>\n",
       "      <th>count</th>\n",
       "      <td>65841.000000</td>\n",
       "    </tr>\n",
       "    <tr>\n",
       "      <th>mean</th>\n",
       "      <td>13.401104</td>\n",
       "    </tr>\n",
       "    <tr>\n",
       "      <th>std</th>\n",
       "      <td>3.489584</td>\n",
       "    </tr>\n",
       "    <tr>\n",
       "      <th>min</th>\n",
       "      <td>2.900000</td>\n",
       "    </tr>\n",
       "    <tr>\n",
       "      <th>25%</th>\n",
       "      <td>11.000000</td>\n",
       "    </tr>\n",
       "    <tr>\n",
       "      <th>50%</th>\n",
       "      <td>13.300000</td>\n",
       "    </tr>\n",
       "    <tr>\n",
       "      <th>75%</th>\n",
       "      <td>15.500000</td>\n",
       "    </tr>\n",
       "    <tr>\n",
       "      <th>max</th>\n",
       "      <td>37.900000</td>\n",
       "    </tr>\n",
       "  </tbody>\n",
       "</table>\n",
       "</div>"
      ],
      "text/plain": [
       "       San Francisco\n",
       "count   65841.000000\n",
       "mean       13.401104\n",
       "std         3.489584\n",
       "min         2.900000\n",
       "25%        11.000000\n",
       "50%        13.300000\n",
       "75%        15.500000\n",
       "max        37.900000"
      ]
     },
     "execution_count": 25,
     "metadata": {},
     "output_type": "execute_result"
    }
   ],
   "source": [
    "tdf_om_sf_clean.describe()"
   ]
  },
  {
   "cell_type": "code",
   "execution_count": 26,
   "id": "4c5ca332",
   "metadata": {},
   "outputs": [
    {
     "data": {
      "text/plain": [
       "datetime         2025-05-01T23:00\n",
       "San Francisco                11.1\n",
       "Name: 65840, dtype: object"
      ]
     },
     "execution_count": 26,
     "metadata": {},
     "output_type": "execute_result"
    }
   ],
   "source": [
    "tdf_om_sf_clean.iloc[-1]"
   ]
  },
  {
   "cell_type": "markdown",
   "id": "03c5ea51",
   "metadata": {},
   "source": [
    "Terdapat perbedaan suhu sebesar 6 derajat celcius dari 27 Oktober 2017 pukul 14:00 ke 15:00. Hal ini dapat disebabkan oleh kedua sumber API menggunakan pembacaan suhu dari stasiun cuaca yang berbeda atau dengan alat yang berbeda walaupun ditetapkan pada koordinat yang sama. Tetapi, dari persebaran data terlihat bahwa tiap kuartil tidak berbeda jauh satu sama lain, sehingga walaupun pembacaan suhu mungkin dilakukan dengan alat yang berbeda, data akan masih konsisten. Selain itu, perubahan drastis tersebut berkemungkinan kecil berdampak pada tahap pemodelan karena hanya merupakan satu kasus tertentu dibanding suatu kejadian yang berulang. "
   ]
  },
  {
   "cell_type": "markdown",
   "id": "a0dc6bb0",
   "metadata": {},
   "source": [
    "Untuk mempermudah insertion ke database, kolom `datetime` diubah menjadi format `YYYY-MM-DD HH-MM-SS+/-TZ`, misalnya `2025-01-01 14:00:00-07`. Hal ini tidak dilakukan di awal karena bisa saja sumber data yang berbeda menggunakan format timestamp yang berbeda pula. Perubahan yang dilakukan sebelumnya hanya untuk memungkinkan data disimpan dalam bentuk .csv untuk mempermudah pengerjaan."
   ]
  },
  {
   "cell_type": "code",
   "execution_count": 27,
   "id": "8759eb40",
   "metadata": {},
   "outputs": [],
   "source": [
    "enr_tdf_sf_sqltz = enr_tdf_sf.copy()"
   ]
  },
  {
   "cell_type": "code",
   "execution_count": 28,
   "id": "9970f8d3",
   "metadata": {},
   "outputs": [],
   "source": [
    "for i, dt in enumerate(enr_tdf_sf_sqltz['datetime']):\n",
    "    temp = dt.split('T')\n",
    "    postfix = ':00-07'\n",
    "    temp_time = temp[1] + postfix\n",
    "    res = ' '.join((temp[0], temp_time))\n",
    "    enr_tdf_sf_sqltz.iloc[i, 0] = res"
   ]
  },
  {
   "cell_type": "code",
   "execution_count": 29,
   "id": "4a6ccabe",
   "metadata": {},
   "outputs": [
    {
     "data": {
      "text/html": [
       "<div>\n",
       "<style scoped>\n",
       "    .dataframe tbody tr th:only-of-type {\n",
       "        vertical-align: middle;\n",
       "    }\n",
       "\n",
       "    .dataframe tbody tr th {\n",
       "        vertical-align: top;\n",
       "    }\n",
       "\n",
       "    .dataframe thead th {\n",
       "        text-align: right;\n",
       "    }\n",
       "</style>\n",
       "<table border=\"1\" class=\"dataframe\">\n",
       "  <thead>\n",
       "    <tr style=\"text-align: right;\">\n",
       "      <th></th>\n",
       "      <th>datetime</th>\n",
       "      <th>San Francisco</th>\n",
       "    </tr>\n",
       "  </thead>\n",
       "  <tbody>\n",
       "    <tr>\n",
       "      <th>0</th>\n",
       "      <td>2012-10-01 02:00:00-07</td>\n",
       "      <td>16.330000</td>\n",
       "    </tr>\n",
       "    <tr>\n",
       "      <th>1</th>\n",
       "      <td>2012-10-01 03:00:00-07</td>\n",
       "      <td>16.330000</td>\n",
       "    </tr>\n",
       "    <tr>\n",
       "      <th>2</th>\n",
       "      <td>2012-10-01 04:00:00-07</td>\n",
       "      <td>16.324993</td>\n",
       "    </tr>\n",
       "    <tr>\n",
       "      <th>3</th>\n",
       "      <td>2012-10-01 05:00:00-07</td>\n",
       "      <td>16.310618</td>\n",
       "    </tr>\n",
       "    <tr>\n",
       "      <th>4</th>\n",
       "      <td>2012-10-01 06:00:00-07</td>\n",
       "      <td>16.296243</td>\n",
       "    </tr>\n",
       "  </tbody>\n",
       "</table>\n",
       "</div>"
      ],
      "text/plain": [
       "                 datetime  San Francisco\n",
       "0  2012-10-01 02:00:00-07      16.330000\n",
       "1  2012-10-01 03:00:00-07      16.330000\n",
       "2  2012-10-01 04:00:00-07      16.324993\n",
       "3  2012-10-01 05:00:00-07      16.310618\n",
       "4  2012-10-01 06:00:00-07      16.296243"
      ]
     },
     "execution_count": 29,
     "metadata": {},
     "output_type": "execute_result"
    }
   ],
   "source": [
    "enr_tdf_sf_sqltz.head()"
   ]
  },
  {
   "cell_type": "code",
   "execution_count": 30,
   "id": "7cc2c9bb",
   "metadata": {},
   "outputs": [
    {
     "name": "stdout",
     "output_type": "stream",
     "text": [
      "<class 'pandas.core.frame.DataFrame'>\n",
      "RangeIndex: 110302 entries, 0 to 110301\n",
      "Data columns (total 2 columns):\n",
      " #   Column         Non-Null Count   Dtype  \n",
      "---  ------         --------------   -----  \n",
      " 0   datetime       110302 non-null  object \n",
      " 1   San Francisco  110302 non-null  float64\n",
      "dtypes: float64(1), object(1)\n",
      "memory usage: 1.7+ MB\n"
     ]
    }
   ],
   "source": [
    "enr_tdf_sf_sqltz.info()"
   ]
  },
  {
   "cell_type": "markdown",
   "id": "40ab4a21",
   "metadata": {},
   "source": [
    "## Load ke target"
   ]
  },
  {
   "cell_type": "markdown",
   "id": "954e31de",
   "metadata": {},
   "source": [
    "### Publishing ke lokal"
   ]
  },
  {
   "cell_type": "code",
   "execution_count": 31,
   "id": "3274d543",
   "metadata": {},
   "outputs": [],
   "source": [
    "# Save local\n",
    "enr_tdf_sf.to_csv('../data/historial-hourly-temp-sf-2012-2025.csv')"
   ]
  },
  {
   "cell_type": "markdown",
   "id": "495e7bb4",
   "metadata": {},
   "source": [
    "### Publishing ke CouchDB"
   ]
  },
  {
   "cell_type": "code",
   "execution_count": 54,
   "id": "987d46bd",
   "metadata": {},
   "outputs": [],
   "source": [
    "# Save ke CouchDB di remote server (10.34.100.114)\n",
    "import os\n",
    "from dotenv import load_dotenv\n",
    "load_dotenv()\n",
    "import couchdb\n",
    "from couchdb import *"
   ]
  },
  {
   "cell_type": "code",
   "execution_count": 55,
   "id": "ef51c381",
   "metadata": {},
   "outputs": [
    {
     "data": {
      "text/plain": [
       "<Server 'http://10.34.100.114:5984'>"
      ]
     },
     "execution_count": 55,
     "metadata": {},
     "output_type": "execute_result"
    }
   ],
   "source": [
    "COUCHDB_HOST = os.getenv(\"COUCHDB_HOST\")\n",
    "COUCH_PORT = os.getenv(\"COUCH_PORT\")\n",
    "COUCHDB_USERNAME = os.getenv(\"COUCHDB_USERNAME\")\n",
    "COUCHDB_PASSWORD = os.getenv(\"COUCHDB_PASSWORD\")\n",
    "\n",
    "server = couchdb.Server(f\"http://{COUCHDB_USERNAME}:{COUCHDB_PASSWORD}@{COUCHDB_HOST}:{COUCH_PORT}\")\n",
    "server"
   ]
  },
  {
   "cell_type": "code",
   "execution_count": 56,
   "id": "18f0a9b8",
   "metadata": {},
   "outputs": [
    {
     "data": {
      "text/plain": [
       "<Database 'tugas_1'>"
      ]
     },
     "execution_count": 56,
     "metadata": {},
     "output_type": "execute_result"
    }
   ],
   "source": [
    "db = server['tugas_1']\n",
    "db"
   ]
  },
  {
   "cell_type": "code",
   "execution_count": 58,
   "id": "b4a7838b",
   "metadata": {},
   "outputs": [
    {
     "name": "stdout",
     "output_type": "stream",
     "text": [
      "[<Document None@None {'id': '5cf18fc8fab8d61c8cc7750b03b437f5a7ae1b57c2a6db82b1a02de442df42e0', 'datetime': '2012-10-01 02:00:00-07', 'temperature': 16.33000000000004}>, <Document None@None {'id': '9e2c05828903c8519a8a7b40abdff7e231fcbf29a083b74626be80e8b7981729', 'datetime': '2012-10-01 03:00:00-07', 'temperature': 16.33000000000004}>, <Document None@None {'id': 'f48d920adb4a2c64e0d297516683383b6cdf9a7ca8943486fd99fe6c8f33c6ec', 'datetime': '2012-10-01 04:00:00-07', 'temperature': 16.324992812999994}>, <Document None@None {'id': '4d4e4b8884fdd2b8f3e383ea4191a7262918e2a4a49159b674f15b39f672b6ae', 'datetime': '2012-10-01 05:00:00-07', 'temperature': 16.310618112000043}>, <Document None@None {'id': 'b5d59d815d7b6fb4295ac9a7c62902d01c90c8f54b2bdef740993534853c3032', 'datetime': '2012-10-01 06:00:00-07', 'temperature': 16.296243412000024}>]\n",
      "110302\n"
     ]
    }
   ],
   "source": [
    "import hashlib\n",
    "import traceback\n",
    "\n",
    "obj_list = []\n",
    "\n",
    "for index, row in enr_tdf_sf_sqltz.iterrows():\n",
    "    id = hashlib.sha256((str(row['datetime']) + str(row['San Francisco'])).encode()).hexdigest()\n",
    "    obj_list.append(Document(\n",
    "        id=id, \n",
    "        datetime=(str(row['datetime'])), \n",
    "        temperature=float(row['San Francisco'])\n",
    "    ))\n",
    "\n",
    "print(obj_list[:5])\n",
    "print(len(obj_list))"
   ]
  },
  {
   "cell_type": "code",
   "execution_count": 65,
   "id": "e5464976",
   "metadata": {},
   "outputs": [],
   "source": [
    "write_res = []\n",
    "\n",
    "def write_json_to_couchdb_bulk(db: Database, json_obj_list):\n",
    "    try:\n",
    "        res = db.update(json_obj_list)\n",
    "    except Exception as e:\n",
    "        print(e)\n",
    "        traceback.print_exc()\n",
    "\n",
    "    try:\n",
    "        for doc in res:\n",
    "            write_res.append(repr(doc[0]))\n",
    "    except Exception as e:\n",
    "        print(e)"
   ]
  },
  {
   "cell_type": "code",
   "execution_count": 66,
   "id": "53c64301",
   "metadata": {},
   "outputs": [
    {
     "name": "stdout",
     "output_type": "stream",
     "text": [
      "'ResponseBody' object has no attribute 'decode'\n"
     ]
    },
    {
     "name": "stderr",
     "output_type": "stream",
     "text": [
      "Traceback (most recent call last):\n",
      "  File \"C:\\Users\\guido\\AppData\\Local\\Temp\\ipykernel_21024\\3534482508.py\", line 5, in write_json_to_couchdb_bulk\n",
      "    res = db.update(json_obj_list)\n",
      "  File \"c:\\Users\\guido\\miniconda3\\envs\\rdvenv\\lib\\site-packages\\couchdb\\client.py\", line 945, in update\n",
      "    _, _, data = self.resource.post_json('_bulk_docs', body=content)\n",
      "  File \"c:\\Users\\guido\\miniconda3\\envs\\rdvenv\\lib\\site-packages\\couchdb\\http.py\", line 573, in post_json\n",
      "    return self._request_json('POST', path, body=body, headers=headers,\n",
      "  File \"c:\\Users\\guido\\miniconda3\\envs\\rdvenv\\lib\\site-packages\\couchdb\\http.py\", line 595, in _request_json\n",
      "    status, headers, data = self._request(method, path, body=body,\n",
      "  File \"c:\\Users\\guido\\miniconda3\\envs\\rdvenv\\lib\\site-packages\\couchdb\\http.py\", line 590, in _request\n",
      "    return self.session.request(method, url, body=body,\n",
      "  File \"c:\\Users\\guido\\miniconda3\\envs\\rdvenv\\lib\\site-packages\\couchdb\\http.py\", line 411, in request\n",
      "    data = json.decode(data.decode('utf-8'))\n",
      "AttributeError: 'ResponseBody' object has no attribute 'decode'\n"
     ]
    },
    {
     "name": "stdout",
     "output_type": "stream",
     "text": [
      "local variable 'res' referenced before assignment\n"
     ]
    }
   ],
   "source": [
    "write_json_to_couchdb_bulk(db=db, json_obj_list=obj_list)"
   ]
  },
  {
   "cell_type": "markdown",
   "id": "661c53a5",
   "metadata": {},
   "source": [
    "### Publishing ke PostgreSQL"
   ]
  },
  {
   "cell_type": "code",
   "execution_count": 100,
   "id": "69347aee",
   "metadata": {},
   "outputs": [],
   "source": [
    "# Save ke PostgreSQL di remote server (10.34.100.114)\n",
    "import psycopg2"
   ]
  },
  {
   "cell_type": "code",
   "execution_count": 137,
   "id": "0c679f3d",
   "metadata": {},
   "outputs": [],
   "source": [
    "try:\n",
    "    conn = psycopg2.connect(database=\"proyekakhir\",\n",
    "                        host=\"10.34.100.114\",\n",
    "                        user=\"postgres\",\n",
    "                        password=\"SKTgroup1new\",\n",
    "                        port=\"5432\")\n",
    "    cursor = conn.cursor()\n",
    "except Exception as e:\n",
    "    print(e)"
   ]
  },
  {
   "cell_type": "markdown",
   "id": "b49edba0",
   "metadata": {},
   "source": [
    "Tahapan di bawah ini dapat memakan waktu cukup lama"
   ]
  },
  {
   "cell_type": "code",
   "execution_count": 158,
   "id": "c9f8c409",
   "metadata": {},
   "outputs": [
    {
     "name": "stdout",
     "output_type": "stream",
     "text": [
      "[UniqueViolation('duplicate key value violates unique constraint \"sf_temp_pkey\"\\nDETAIL:  Key (datetime)=(2012-10-01 09:00:00+00) already exists.\\n'), UniqueViolation('duplicate key value violates unique constraint \"sf_temp_pkey\"\\nDETAIL:  Key (datetime)=(2012-10-01 10:00:00+00) already exists.\\n'), UniqueViolation('duplicate key value violates unique constraint \"sf_temp_pkey\"\\nDETAIL:  Key (datetime)=(2012-10-01 11:00:00+00) already exists.\\n'), UniqueViolation('duplicate key value violates unique constraint \"sf_temp_pkey\"\\nDETAIL:  Key (datetime)=(2012-10-01 12:00:00+00) already exists.\\n'), UniqueViolation('duplicate key value violates unique constraint \"sf_temp_pkey\"\\nDETAIL:  Key (datetime)=(2012-10-01 13:00:00+00) already exists.\\n'), UniqueViolation('duplicate key value violates unique constraint \"sf_temp_pkey\"\\nDETAIL:  Key (datetime)=(2012-10-01 14:00:00+00) already exists.\\n'), UniqueViolation('duplicate key value violates unique constraint \"sf_temp_pkey\"\\nDETAIL:  Key (datetime)=(2012-10-01 15:00:00+00) already exists.\\n'), UniqueViolation('duplicate key value violates unique constraint \"sf_temp_pkey\"\\nDETAIL:  Key (datetime)=(2012-10-01 16:00:00+00) already exists.\\n'), UniqueViolation('duplicate key value violates unique constraint \"sf_temp_pkey\"\\nDETAIL:  Key (datetime)=(2012-10-01 17:00:00+00) already exists.\\n'), UniqueViolation('duplicate key value violates unique constraint \"sf_temp_pkey\"\\nDETAIL:  Key (datetime)=(2012-10-01 18:00:00+00) already exists.\\n'), UniqueViolation('duplicate key value violates unique constraint \"sf_temp_pkey\"\\nDETAIL:  Key (datetime)=(2012-10-01 19:00:00+00) already exists.\\n'), UniqueViolation('duplicate key value violates unique constraint \"sf_temp_pkey\"\\nDETAIL:  Key (datetime)=(2012-10-01 20:00:00+00) already exists.\\n'), UniqueViolation('duplicate key value violates unique constraint \"sf_temp_pkey\"\\nDETAIL:  Key (datetime)=(2012-10-01 21:00:00+00) already exists.\\n'), UniqueViolation('duplicate key value violates unique constraint \"sf_temp_pkey\"\\nDETAIL:  Key (datetime)=(2012-10-01 22:00:00+00) already exists.\\n'), UniqueViolation('duplicate key value violates unique constraint \"sf_temp_pkey\"\\nDETAIL:  Key (datetime)=(2012-10-01 23:00:00+00) already exists.\\n'), UniqueViolation('duplicate key value violates unique constraint \"sf_temp_pkey\"\\nDETAIL:  Key (datetime)=(2012-10-02 00:00:00+00) already exists.\\n'), UniqueViolation('duplicate key value violates unique constraint \"sf_temp_pkey\"\\nDETAIL:  Key (datetime)=(2012-10-02 01:00:00+00) already exists.\\n'), UniqueViolation('duplicate key value violates unique constraint \"sf_temp_pkey\"\\nDETAIL:  Key (datetime)=(2012-10-02 02:00:00+00) already exists.\\n'), UniqueViolation('duplicate key value violates unique constraint \"sf_temp_pkey\"\\nDETAIL:  Key (datetime)=(2012-10-02 03:00:00+00) already exists.\\n'), UniqueViolation('duplicate key value violates unique constraint \"sf_temp_pkey\"\\nDETAIL:  Key (datetime)=(2012-10-02 04:00:00+00) already exists.\\n'), UniqueViolation('duplicate key value violates unique constraint \"sf_temp_pkey\"\\nDETAIL:  Key (datetime)=(2012-10-02 05:00:00+00) already exists.\\n'), UniqueViolation('duplicate key value violates unique constraint \"sf_temp_pkey\"\\nDETAIL:  Key (datetime)=(2012-10-02 06:00:00+00) already exists.\\n'), UniqueViolation('duplicate key value violates unique constraint \"sf_temp_pkey\"\\nDETAIL:  Key (datetime)=(2012-10-02 07:00:00+00) already exists.\\n'), UniqueViolation('duplicate key value violates unique constraint \"sf_temp_pkey\"\\nDETAIL:  Key (datetime)=(2012-10-02 08:00:00+00) already exists.\\n'), UniqueViolation('duplicate key value violates unique constraint \"sf_temp_pkey\"\\nDETAIL:  Key (datetime)=(2012-10-02 09:00:00+00) already exists.\\n'), UniqueViolation('duplicate key value violates unique constraint \"sf_temp_pkey\"\\nDETAIL:  Key (datetime)=(2012-10-02 10:00:00+00) already exists.\\n'), UniqueViolation('duplicate key value violates unique constraint \"sf_temp_pkey\"\\nDETAIL:  Key (datetime)=(2012-10-02 11:00:00+00) already exists.\\n'), UniqueViolation('duplicate key value violates unique constraint \"sf_temp_pkey\"\\nDETAIL:  Key (datetime)=(2012-10-02 12:00:00+00) already exists.\\n'), UniqueViolation('duplicate key value violates unique constraint \"sf_temp_pkey\"\\nDETAIL:  Key (datetime)=(2012-10-02 13:00:00+00) already exists.\\n'), UniqueViolation('duplicate key value violates unique constraint \"sf_temp_pkey\"\\nDETAIL:  Key (datetime)=(2012-10-02 14:00:00+00) already exists.\\n'), UniqueViolation('duplicate key value violates unique constraint \"sf_temp_pkey\"\\nDETAIL:  Key (datetime)=(2012-10-02 15:00:00+00) already exists.\\n'), UniqueViolation('duplicate key value violates unique constraint \"sf_temp_pkey\"\\nDETAIL:  Key (datetime)=(2012-10-02 16:00:00+00) already exists.\\n'), UniqueViolation('duplicate key value violates unique constraint \"sf_temp_pkey\"\\nDETAIL:  Key (datetime)=(2012-10-02 17:00:00+00) already exists.\\n'), UniqueViolation('duplicate key value violates unique constraint \"sf_temp_pkey\"\\nDETAIL:  Key (datetime)=(2012-10-02 18:00:00+00) already exists.\\n'), UniqueViolation('duplicate key value violates unique constraint \"sf_temp_pkey\"\\nDETAIL:  Key (datetime)=(2012-10-02 19:00:00+00) already exists.\\n'), UniqueViolation('duplicate key value violates unique constraint \"sf_temp_pkey\"\\nDETAIL:  Key (datetime)=(2012-10-02 20:00:00+00) already exists.\\n'), UniqueViolation('duplicate key value violates unique constraint \"sf_temp_pkey\"\\nDETAIL:  Key (datetime)=(2012-10-02 21:00:00+00) already exists.\\n'), UniqueViolation('duplicate key value violates unique constraint \"sf_temp_pkey\"\\nDETAIL:  Key (datetime)=(2012-10-02 22:00:00+00) already exists.\\n'), UniqueViolation('duplicate key value violates unique constraint \"sf_temp_pkey\"\\nDETAIL:  Key (datetime)=(2012-10-02 23:00:00+00) already exists.\\n'), UniqueViolation('duplicate key value violates unique constraint \"sf_temp_pkey\"\\nDETAIL:  Key (datetime)=(2012-10-03 00:00:00+00) already exists.\\n'), UniqueViolation('duplicate key value violates unique constraint \"sf_temp_pkey\"\\nDETAIL:  Key (datetime)=(2012-10-03 01:00:00+00) already exists.\\n'), UniqueViolation('duplicate key value violates unique constraint \"sf_temp_pkey\"\\nDETAIL:  Key (datetime)=(2012-10-03 02:00:00+00) already exists.\\n'), UniqueViolation('duplicate key value violates unique constraint \"sf_temp_pkey\"\\nDETAIL:  Key (datetime)=(2012-10-03 03:00:00+00) already exists.\\n'), UniqueViolation('duplicate key value violates unique constraint \"sf_temp_pkey\"\\nDETAIL:  Key (datetime)=(2012-10-03 04:00:00+00) already exists.\\n'), UniqueViolation('duplicate key value violates unique constraint \"sf_temp_pkey\"\\nDETAIL:  Key (datetime)=(2012-10-03 05:00:00+00) already exists.\\n'), UniqueViolation('duplicate key value violates unique constraint \"sf_temp_pkey\"\\nDETAIL:  Key (datetime)=(2012-10-03 06:00:00+00) already exists.\\n'), UniqueViolation('duplicate key value violates unique constraint \"sf_temp_pkey\"\\nDETAIL:  Key (datetime)=(2012-10-03 07:00:00+00) already exists.\\n'), UniqueViolation('duplicate key value violates unique constraint \"sf_temp_pkey\"\\nDETAIL:  Key (datetime)=(2012-10-03 08:00:00+00) already exists.\\n'), UniqueViolation('duplicate key value violates unique constraint \"sf_temp_pkey\"\\nDETAIL:  Key (datetime)=(2012-10-03 09:00:00+00) already exists.\\n'), UniqueViolation('duplicate key value violates unique constraint \"sf_temp_pkey\"\\nDETAIL:  Key (datetime)=(2012-10-03 10:00:00+00) already exists.\\n')]\n",
      "50\n"
     ]
    }
   ],
   "source": [
    "errs = []\n",
    "insert_query = \"INSERT INTO sf_temp (datetime, temperature) VALUES (%s, %s);\"\n",
    "\n",
    "for index, row in enr_tdf_sf_sqltz.iterrows():\n",
    "    values = (str(row['datetime']), str(row['San Francisco']))\n",
    "\n",
    "    try:\n",
    "        cursor.execute(insert_query, values)\n",
    "    except Exception as e:\n",
    "        errs.append(e)\n",
    "\n",
    "    conn.commit()\n",
    "\n",
    "print(errs)\n",
    "print(len(errs))"
   ]
  },
  {
   "cell_type": "code",
   "execution_count": 159,
   "id": "9bb3eef7",
   "metadata": {},
   "outputs": [],
   "source": [
    "conn.close()"
   ]
  }
 ],
 "metadata": {
  "kernelspec": {
   "display_name": "rdvenv",
   "language": "python",
   "name": "python3"
  },
  "language_info": {
   "codemirror_mode": {
    "name": "ipython",
    "version": 3
   },
   "file_extension": ".py",
   "mimetype": "text/x-python",
   "name": "python",
   "nbconvert_exporter": "python",
   "pygments_lexer": "ipython3",
   "version": "3.9.22"
  }
 },
 "nbformat": 4,
 "nbformat_minor": 5
}
