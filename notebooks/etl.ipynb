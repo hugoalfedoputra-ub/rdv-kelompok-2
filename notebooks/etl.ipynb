{
 "cells": [
  {
   "cell_type": "markdown",
   "id": "47bd25a5",
   "metadata": {},
   "source": [
    "# Capstone 1: Implementasi ETL"
   ]
  },
  {
   "cell_type": "markdown",
   "id": "3669d0dc",
   "metadata": {},
   "source": [
    "## Unduh data dari source\n",
    "\n",
    "Data diunduh dengan menggunakan API Kaggle. Jalankan command berikut di dalam folder `data`.\n",
    "\n",
    "```kaggle datasets download selfishgene/historical-hourly-weather-data```"
   ]
  },
  {
   "cell_type": "code",
   "execution_count": null,
   "id": "dbcaf0f0",
   "metadata": {},
   "outputs": [],
   "source": []
  },
  {
   "cell_type": "markdown",
   "id": "9477ceee",
   "metadata": {},
   "source": [
    "## Transform data"
   ]
  },
  {
   "cell_type": "code",
   "execution_count": null,
   "id": "a22a9986",
   "metadata": {},
   "outputs": [],
   "source": []
  },
  {
   "cell_type": "markdown",
   "id": "40ab4a21",
   "metadata": {},
   "source": [
    "## Load ke target"
   ]
  },
  {
   "cell_type": "code",
   "execution_count": null,
   "id": "3274d543",
   "metadata": {},
   "outputs": [],
   "source": []
  }
 ],
 "metadata": {
  "kernelspec": {
   "display_name": "rdvenv",
   "language": "python",
   "name": "python3"
  },
  "language_info": {
   "codemirror_mode": {
    "name": "ipython",
    "version": 3
   },
   "file_extension": ".py",
   "mimetype": "text/x-python",
   "name": "python",
   "nbconvert_exporter": "python",
   "pygments_lexer": "ipython3",
   "version": "3.13.3"
  }
 },
 "nbformat": 4,
 "nbformat_minor": 5
}
