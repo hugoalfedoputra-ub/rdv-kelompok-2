{
 "cells": [
  {
   "cell_type": "code",
   "execution_count": 1,
   "id": "a3f8174e",
   "metadata": {},
   "outputs": [],
   "source": [
    "import os\n",
    "import sys\n",
    "import time\n",
    "import json\n",
    "import requests\n",
    "\n",
    "from dotenv import load_dotenv\n",
    "from functools import reduce\n",
    "from datetime import datetime, timedelta\n",
    "from pyspark.sql import SparkSession\n",
    "from pyspark.sql.functions import col, sum, row_number, lit\n",
    "from pyspark.sql.window import Window"
   ]
  },
  {
   "cell_type": "markdown",
   "id": "ce88b589",
   "metadata": {},
   "source": [
    "# Pemrosesan Data Menggunakan Apache Spark"
   ]
  },
  {
   "cell_type": "markdown",
   "id": "38c60b9b",
   "metadata": {},
   "source": [
    "Percobaan kali ini secara proses hampir sama seperti yang dilakukan pada proses etl sebelumnya, namun satu yang berbeda adalah penggunaan *Apache Spark* untuk pemrosesan data. Yang mana sebelumnya hanya menggunakan dataframe dari pandas. Kekurangan dari penggunaan pandas adalah pada *Eager Execution* dimana ketika butuh proses transformasi yang berulang akan cukup merepotkan. Oleh karena itulah disini spark digunakan, dimana kita bisa menyusun tahapan-tahapan transformasi terlebih dahulu tanpa langsung melakukan transformasi secara eksplisit."
   ]
  },
  {
   "cell_type": "markdown",
   "id": "182ec3b0",
   "metadata": {},
   "source": [
    "Ada yang berbeda juga kali ini dimana data sebelumnya ada di kota *San Fransisco*, untuk kali ini kami melakukan beberapa penyesuaian yaitu dengan merubah tempat menjadi *Kota Malang*. Adapun untuk sumber data yang kami gunakan masih tetap berasal dari API Open-meteo (https://open-meteo.com/en/docs/historical-weather-api)"
   ]
  },
  {
   "cell_type": "code",
   "execution_count": 2,
   "id": "834397b9",
   "metadata": {},
   "outputs": [],
   "source": [
    "# Tambahkan 2 baris ini agar spark mengenali env python\n",
    "os.environ['PYSPARK_PYTHON'] = sys.executable\n",
    "os.environ['PYSPARK_DRIVER_PYTHON'] = sys.executable"
   ]
  },
  {
   "cell_type": "code",
   "execution_count": 3,
   "id": "2fddfd2d",
   "metadata": {},
   "outputs": [],
   "source": [
    "# Buat spark session terlebih dahulu\n",
    "spark = SparkSession.builder \\\n",
    "    .appName(\"rdv-project\") \\\n",
    "    .master(\"local[*]\") \\\n",
    "    .getOrCreate()"
   ]
  },
  {
   "cell_type": "markdown",
   "id": "db389eb8",
   "metadata": {},
   "source": [
    "# Extract Data"
   ]
  },
  {
   "cell_type": "markdown",
   "id": "cf30719e",
   "metadata": {},
   "source": [
    "Ekstraksi data yang dilakukan juga akan berbeda dari tugas sebelumnya. Pada tugas sebelumnya hanya menggunakan satu fitur saja yaitu temperature_2m. Namun pada kali ini karena spark memanfaatkan memori untuk pemrosesan data, kami akan mengambil lebih banyak fitur."
   ]
  },
  {
   "cell_type": "markdown",
   "id": "23ed1e2f",
   "metadata": {},
   "source": [
    "List fitur yang akan dipakai : \n",
    "- temperature_2m,\n",
    "- relative_humidity_2m,\n",
    "- precipitation,\n",
    "- weather_code,\n",
    "- wind_speed_10m,\n",
    "- wind_speed_100m,\n",
    "- wind_direction_10m,\n",
    "- wind_direction_100m,\n",
    "- wind_gusts_10m,\n",
    "- rain,\n",
    "- apparent_temperature,\n",
    "- surface_pressure,\n",
    "- cloud_cover,\n",
    "- cloud_cover_low,\n",
    "- cloud_cover_mid,\n",
    "- cloud_cover_high,\n",
    "- et0_fao_evapotranspiration,\n",
    "- vapour_pressure_deficit,\n",
    "- pressure_msl,\n",
    "- dew_point_2m"
   ]
  },
  {
   "cell_type": "markdown",
   "id": "ab0c6710",
   "metadata": {},
   "source": [
    "Bisa dilihat bahwa fitur yang diambil bisa dibilang cukup banyak. Jika hanya untuk dashboard saja yang tujuannya untuk monitoring cuaca saat ini, fitur-fitur seperti informasi keadaan tanah dan lain-lain yang terlalu spesifik mungkin tidak diperlukan. Akan tetapi kebutuhan akan berbeda ketika ada pertimbangan untuk melakukan **prediksi** kode cuaca (*weather code*) dari semua fitur yang ada."
   ]
  },
  {
   "cell_type": "code",
   "execution_count": 4,
   "id": "35b51456",
   "metadata": {},
   "outputs": [],
   "source": [
    "\"\"\"\n",
    "Malang sendiri sebenarnya tidak memiliki stasiun pengukuran dari BMKG\n",
    "Oleh karena itu latitude dan longitude di bawah ini menunjukkan \n",
    "koordinat dari kota malang seluruhnya\n",
    "\"\"\"\n",
    "# --------------------------- Parameter API -------------------------\n",
    "\n",
    "# Latitude & Longitude utk Malang\n",
    "locations = {\n",
    "    \"Klojen\":(-7.969421375342755, 112.6285308513895),\n",
    "    \"Blimbing\":(-7.945926995201971, 112.64310740385885),\n",
    "    \"Sukun\":(-7.987926536974757, 112.6100743302227),\n",
    "    \"Lowokwaru\":(-7.9348455775950795, 112.60665573821122),\n",
    "    \"Lawang\":(-7.828716329007881, 112.70181673602366),\n",
    "    \"Singosari\":(-7.875350536265517, 112.64837233274164),\n",
    "    \"Kepanjen\":(-8.11761411293624, 112.57906911889476),\n",
    "    \"Pakis\":(-7.958180248694484, 112.71010117082125),\n",
    "    \"Wagir\":(-7.980111689103741, 112.49397160866646),\n",
    "    \"Tumpang\":(-8.007270828630284, 112.74768804369178)\n",
    "}\n",
    "\n",
    "# Tanggal\n",
    "today = datetime.today() - timedelta(days=3) # dikurang 2 hari karena 2 hari sebelum hari ini selalu kosong/nan\n",
    "end_date = today.strftime(\"%Y-%m-%d\")\n",
    "\n",
    "# List Fitur\n",
    "feature_list = [\n",
    "    \"temperature_2m\",\n",
    "    \"relative_humidity_2m\",\n",
    "    \"precipitation\",\n",
    "    \"weather_code\",\n",
    "    \"wind_speed_10m\",\n",
    "    \"wind_speed_100m\",\n",
    "    \"wind_direction_10m\",\n",
    "    \"wind_direction_100m\",\n",
    "    \"wind_gusts_10m\",\n",
    "    \"rain\",\n",
    "    \"apparent_temperature\",\n",
    "    \"surface_pressure\",\n",
    "    \"cloud_cover\",\n",
    "    \"cloud_cover_low\",\n",
    "    \"cloud_cover_mid\",\n",
    "    \"cloud_cover_high\",\n",
    "    \"et0_fao_evapotranspiration\",\n",
    "    \"vapour_pressure_deficit\",\n",
    "    \"pressure_msl\",\n",
    "    \"dew_point_2m\"\n",
    "]\n",
    "features = \",\".join(feature_list)"
   ]
  },
  {
   "cell_type": "code",
   "execution_count": null,
   "id": "15bc8ff7",
   "metadata": {},
   "outputs": [
    {
     "name": "stdout",
     "output_type": "stream",
     "text": [
      "Start fetch data for Klojen\n",
      "Getting data for 2017 from 2017-01-01 to 2017-12-31\n",
      "Successfully fetched 8760 records for 2017.\n",
      "Getting data for 2018 from 2018-01-01 to 2018-12-31\n",
      "Successfully fetched 8760 records for 2018.\n",
      "Getting data for 2019 from 2019-01-01 to 2019-12-31\n",
      "Successfully fetched 8760 records for 2019.\n",
      "Getting data for 2020 from 2020-01-01 to 2020-12-31\n",
      "Successfully fetched 8784 records for 2020.\n",
      "Getting data for 2021 from 2021-01-01 to 2021-12-31\n",
      "Successfully fetched 8760 records for 2021.\n",
      "Getting data for 2022 from 2022-01-01 to 2022-12-31\n",
      "Successfully fetched 8760 records for 2022.\n",
      "Getting data for 2023 from 2023-01-01 to 2023-12-31\n",
      "Successfully fetched 8760 records for 2023.\n",
      "Getting data for 2024 from 2024-01-01 to 2024-12-31\n",
      "Successfully fetched 8784 records for 2024.\n",
      "Getting data for 2025 from 2025-01-01 to 2025-05-14\n",
      "Rate limit reached, retrying... (Attempt 1/3)\n",
      "Getting data for 2025 from 2025-01-01 to 2025-05-14\n",
      "Rate limit reached, retrying... (Attempt 2/3)\n",
      "Getting data for 2025 from 2025-01-01 to 2025-05-14\n",
      "Rate limit reached, retrying... (Attempt 3/3)\n",
      "Failed to retrieve data for 2025 after 3 attempts.\n",
      "Total records fetched: 70128\n",
      "Done fetch data for Klojen\n",
      "Start fetch data for Blimbing\n",
      "Getting data for 2017 from 2017-01-01 to 2017-12-31\n",
      "Rate limit reached, retrying... (Attempt 1/3)\n",
      "Getting data for 2017 from 2017-01-01 to 2017-12-31\n",
      "Rate limit reached, retrying... (Attempt 2/3)\n",
      "Getting data for 2017 from 2017-01-01 to 2017-12-31\n",
      "Rate limit reached, retrying... (Attempt 3/3)\n",
      "Failed to retrieve data for 2017 after 3 attempts.\n",
      "Getting data for 2018 from 2018-01-01 to 2018-12-31\n",
      "Rate limit reached, retrying... (Attempt 1/3)\n",
      "Getting data for 2018 from 2018-01-01 to 2018-12-31\n",
      "Rate limit reached, retrying... (Attempt 2/3)\n",
      "Getting data for 2018 from 2018-01-01 to 2018-12-31\n",
      "Rate limit reached, retrying... (Attempt 3/3)\n",
      "Failed to retrieve data for 2018 after 3 attempts.\n",
      "Getting data for 2019 from 2019-01-01 to 2019-12-31\n",
      "Rate limit reached, retrying... (Attempt 1/3)\n",
      "Getting data for 2019 from 2019-01-01 to 2019-12-31\n",
      "Rate limit reached, retrying... (Attempt 2/3)\n",
      "Getting data for 2019 from 2019-01-01 to 2019-12-31\n",
      "Rate limit reached, retrying... (Attempt 3/3)\n",
      "Failed to retrieve data for 2019 after 3 attempts.\n",
      "Getting data for 2020 from 2020-01-01 to 2020-12-31\n",
      "Rate limit reached, retrying... (Attempt 1/3)\n",
      "Getting data for 2020 from 2020-01-01 to 2020-12-31\n",
      "Rate limit reached, retrying... (Attempt 2/3)\n",
      "Getting data for 2020 from 2020-01-01 to 2020-12-31\n",
      "Rate limit reached, retrying... (Attempt 3/3)\n",
      "Failed to retrieve data for 2020 after 3 attempts.\n",
      "Getting data for 2021 from 2021-01-01 to 2021-12-31\n",
      "Rate limit reached, retrying... (Attempt 1/3)\n",
      "Getting data for 2021 from 2021-01-01 to 2021-12-31\n",
      "Rate limit reached, retrying... (Attempt 2/3)\n",
      "Getting data for 2021 from 2021-01-01 to 2021-12-31\n",
      "Rate limit reached, retrying... (Attempt 3/3)\n",
      "Failed to retrieve data for 2021 after 3 attempts.\n",
      "Getting data for 2022 from 2022-01-01 to 2022-12-31\n",
      "Rate limit reached, retrying... (Attempt 1/3)\n",
      "Getting data for 2022 from 2022-01-01 to 2022-12-31\n",
      "Rate limit reached, retrying... (Attempt 2/3)\n",
      "Getting data for 2022 from 2022-01-01 to 2022-12-31\n",
      "Rate limit reached, retrying... (Attempt 3/3)\n",
      "Failed to retrieve data for 2022 after 3 attempts.\n",
      "Getting data for 2023 from 2023-01-01 to 2023-12-31\n",
      "Rate limit reached, retrying... (Attempt 1/3)\n",
      "Getting data for 2023 from 2023-01-01 to 2023-12-31\n",
      "Rate limit reached, retrying... (Attempt 2/3)\n",
      "Getting data for 2023 from 2023-01-01 to 2023-12-31\n",
      "Rate limit reached, retrying... (Attempt 3/3)\n",
      "Failed to retrieve data for 2023 after 3 attempts.\n",
      "Getting data for 2024 from 2024-01-01 to 2024-12-31\n",
      "Rate limit reached, retrying... (Attempt 1/3)\n",
      "Getting data for 2024 from 2024-01-01 to 2024-12-31\n",
      "Rate limit reached, retrying... (Attempt 2/3)\n",
      "Getting data for 2024 from 2024-01-01 to 2024-12-31\n",
      "Rate limit reached, retrying... (Attempt 3/3)\n",
      "Failed to retrieve data for 2024 after 3 attempts.\n",
      "Getting data for 2025 from 2025-01-01 to 2025-05-14\n",
      "Rate limit reached, retrying... (Attempt 1/3)\n",
      "Getting data for 2025 from 2025-01-01 to 2025-05-14\n",
      "Rate limit reached, retrying... (Attempt 2/3)\n",
      "Getting data for 2025 from 2025-01-01 to 2025-05-14\n",
      "Rate limit reached, retrying... (Attempt 3/3)\n",
      "Failed to retrieve data for 2025 after 3 attempts.\n",
      "Total records fetched: 70128\n",
      "Done fetch data for Blimbing\n",
      "Start fetch data for Sukun\n",
      "Getting data for 2017 from 2017-01-01 to 2017-12-31\n",
      "Rate limit reached, retrying... (Attempt 1/3)\n",
      "Getting data for 2017 from 2017-01-01 to 2017-12-31\n",
      "Rate limit reached, retrying... (Attempt 2/3)\n",
      "Getting data for 2017 from 2017-01-01 to 2017-12-31\n",
      "Rate limit reached, retrying... (Attempt 3/3)\n",
      "Failed to retrieve data for 2017 after 3 attempts.\n",
      "Getting data for 2018 from 2018-01-01 to 2018-12-31\n",
      "Rate limit reached, retrying... (Attempt 1/3)\n",
      "Getting data for 2018 from 2018-01-01 to 2018-12-31\n",
      "Rate limit reached, retrying... (Attempt 2/3)\n",
      "Getting data for 2018 from 2018-01-01 to 2018-12-31\n",
      "Rate limit reached, retrying... (Attempt 3/3)\n",
      "Failed to retrieve data for 2018 after 3 attempts.\n",
      "Getting data for 2019 from 2019-01-01 to 2019-12-31\n",
      "Rate limit reached, retrying... (Attempt 1/3)\n",
      "Getting data for 2019 from 2019-01-01 to 2019-12-31\n",
      "Rate limit reached, retrying... (Attempt 2/3)\n",
      "Getting data for 2019 from 2019-01-01 to 2019-12-31\n",
      "Rate limit reached, retrying... (Attempt 3/3)\n",
      "Failed to retrieve data for 2019 after 3 attempts.\n",
      "Getting data for 2020 from 2020-01-01 to 2020-12-31\n",
      "Rate limit reached, retrying... (Attempt 1/3)\n",
      "Getting data for 2020 from 2020-01-01 to 2020-12-31\n",
      "Rate limit reached, retrying... (Attempt 2/3)\n",
      "Getting data for 2020 from 2020-01-01 to 2020-12-31\n",
      "Rate limit reached, retrying... (Attempt 3/3)\n",
      "Failed to retrieve data for 2020 after 3 attempts.\n",
      "Getting data for 2021 from 2021-01-01 to 2021-12-31\n",
      "Rate limit reached, retrying... (Attempt 1/3)\n",
      "Getting data for 2021 from 2021-01-01 to 2021-12-31\n",
      "Rate limit reached, retrying... (Attempt 2/3)\n",
      "Getting data for 2021 from 2021-01-01 to 2021-12-31\n",
      "Rate limit reached, retrying... (Attempt 3/3)\n",
      "Failed to retrieve data for 2021 after 3 attempts.\n",
      "Getting data for 2022 from 2022-01-01 to 2022-12-31\n",
      "Rate limit reached, retrying... (Attempt 1/3)\n",
      "Getting data for 2022 from 2022-01-01 to 2022-12-31\n",
      "Rate limit reached, retrying... (Attempt 2/3)\n",
      "Getting data for 2022 from 2022-01-01 to 2022-12-31\n",
      "Rate limit reached, retrying... (Attempt 3/3)\n",
      "Failed to retrieve data for 2022 after 3 attempts.\n",
      "Getting data for 2023 from 2023-01-01 to 2023-12-31\n",
      "Rate limit reached, retrying... (Attempt 1/3)\n",
      "Getting data for 2023 from 2023-01-01 to 2023-12-31\n",
      "Rate limit reached, retrying... (Attempt 2/3)\n",
      "Getting data for 2023 from 2023-01-01 to 2023-12-31\n",
      "Rate limit reached, retrying... (Attempt 3/3)\n",
      "Failed to retrieve data for 2023 after 3 attempts.\n",
      "Getting data for 2024 from 2024-01-01 to 2024-12-31\n",
      "Rate limit reached, retrying... (Attempt 1/3)\n",
      "Getting data for 2024 from 2024-01-01 to 2024-12-31\n",
      "Rate limit reached, retrying... (Attempt 2/3)\n",
      "Getting data for 2024 from 2024-01-01 to 2024-12-31\n",
      "Rate limit reached, retrying... (Attempt 3/3)\n",
      "Failed to retrieve data for 2024 after 3 attempts.\n",
      "Getting data for 2025 from 2025-01-01 to 2025-05-14\n",
      "Rate limit reached, retrying... (Attempt 1/3)\n",
      "Getting data for 2025 from 2025-01-01 to 2025-05-14\n",
      "Rate limit reached, retrying... (Attempt 2/3)\n",
      "Getting data for 2025 from 2025-01-01 to 2025-05-14\n",
      "Rate limit reached, retrying... (Attempt 3/3)\n",
      "Failed to retrieve data for 2025 after 3 attempts.\n",
      "Total records fetched: 70128\n",
      "Done fetch data for Sukun\n",
      "Start fetch data for Lowokwaru\n",
      "Getting data for 2017 from 2017-01-01 to 2017-12-31\n",
      "Rate limit reached, retrying... (Attempt 1/3)\n",
      "Getting data for 2017 from 2017-01-01 to 2017-12-31\n",
      "Rate limit reached, retrying... (Attempt 2/3)\n",
      "Getting data for 2017 from 2017-01-01 to 2017-12-31\n",
      "Rate limit reached, retrying... (Attempt 3/3)\n",
      "Failed to retrieve data for 2017 after 3 attempts.\n",
      "Getting data for 2018 from 2018-01-01 to 2018-12-31\n",
      "Rate limit reached, retrying... (Attempt 1/3)\n"
     ]
    }
   ],
   "source": [
    "final_psdf = None\n",
    "\n",
    "for district in locations.keys() :\n",
    "    print(f\"Start fetch data for {district}\")\n",
    "    latitude = locations[district][0]\n",
    "    longitude = locations[district][1]\n",
    "    for year in range(2017, 2025+1):\n",
    "        start_date = f\"{year}-01-01\"\n",
    "        temp_end_date = f\"{year}-12-31\"\n",
    "        \n",
    "        if year == 2025:\n",
    "            temp_end_date = end_date\n",
    "            \n",
    "        url = f\"https://archive-api.open-meteo.com/v1/archive?latitude={latitude}&longitude={longitude}&start_date={start_date}&end_date={temp_end_date}&hourly={features}&timezone=auto\"\n",
    "        \n",
    "        success = False\n",
    "        attempts = 0\n",
    "\n",
    "        while not success and attempts < 3:\n",
    "            try:\n",
    "                print(f\"Getting data for {year} from {start_date} to {temp_end_date}\")\n",
    "                res = requests.get(url)\n",
    "\n",
    "                if res.status_code == 200:\n",
    "                    data = res.json()['hourly']\n",
    "                    num_records = len(data['time'])\n",
    "                    \n",
    "                    rows = [\n",
    "                        {key: data[key][i] for key in data}\n",
    "                        for i in range(num_records)\n",
    "                    ]\n",
    "                    \n",
    "                    psdf = spark.read.json(spark.sparkContext.parallelize(rows))\n",
    "                    psdf = psdf.withColumn(\"district\", lit(district))\n",
    "                    psdf = psdf.withColumn(\"latitude\", lit(latitude))\n",
    "                    psdf = psdf.withColumn(\"longitude\", lit(longitude))\n",
    "\n",
    "                    if final_psdf is None:\n",
    "                        final_psdf = psdf\n",
    "                    else:\n",
    "                        final_psdf = final_psdf.unionByName(psdf)\n",
    "\n",
    "                    if \"_corrupt_record\" in psdf.columns:\n",
    "                        psdf = psdf.drop(\"_corrupt_record\")\n",
    "                    \n",
    "                    success = True\n",
    "                    print(f\"Successfully fetched {num_records} records for {year}.\")\n",
    "                    time.sleep(60)\n",
    "\n",
    "                elif res.status_code == 429:\n",
    "                    print(f\"Rate limit reached, retrying... (Attempt {attempts + 1}/3)\")\n",
    "                    time.sleep(60)\n",
    "                    attempts += 1\n",
    "                elif res.status_code == 443:\n",
    "                    print(f\"Error status code 443, retrying... (Attempt {attempts + 1}/3)\")\n",
    "                    time.sleep(60)\n",
    "                    attempts += 1\n",
    "                else:\n",
    "                    print(f\"Failed to get data for {year}. Status code: {res.status_code}\")\n",
    "                    break\n",
    "            except Exception as e:\n",
    "                print(f\"Error while getting data for {year}. Message: {e}. Retrying...\")\n",
    "                time.sleep(60)\n",
    "                attempts += 1\n",
    "\n",
    "        if not success:\n",
    "            print(f\"Failed to retrieve data for {year} after {attempts} attempts.\")\n",
    "\n",
    "    if final_psdf is not None:\n",
    "        print(f\"Total records fetched: {final_psdf.count()}\")\n",
    "    else:\n",
    "        print(\"No data was successfully retrieved.\")\n",
    "\n",
    "    print(f\"Done fetch data for {district}\")"
   ]
  },
  {
   "cell_type": "markdown",
   "id": "cf000281",
   "metadata": {},
   "source": [
    "Tanpa menambahkan timedelta(days=2) atau pengurangan 2 hari, akan muncul corrupt record yang mana berisi data yang semuanya adalah nan. Untuk mempermudah pemrosesan, langsung saja data 2 hari tersebut kami kurangi dari end_date"
   ]
  },
  {
   "cell_type": "markdown",
   "id": "682366a3",
   "metadata": {},
   "source": [
    "# Transform Data"
   ]
  },
  {
   "cell_type": "markdown",
   "id": "0d2d7558",
   "metadata": {},
   "source": [
    "## Structuring"
   ]
  },
  {
   "cell_type": "markdown",
   "id": "ff1e8f4a",
   "metadata": {},
   "source": [
    "Tahap structuring sudah dimulai bersamaan dengan ekstrak data dari API open-meteo. Adapun structuring yang dilakukan adalah sebagai berikut :\n",
    "* this is an example"
   ]
  },
  {
   "cell_type": "code",
   "execution_count": 23,
   "id": "d301a432",
   "metadata": {},
   "outputs": [
    {
     "data": {
      "text/plain": [
       "pyspark.sql.dataframe.DataFrame"
      ]
     },
     "execution_count": 23,
     "metadata": {},
     "output_type": "execute_result"
    }
   ],
   "source": [
    "# Cek tipe data apakah koalas / sql.dataframe\n",
    "type(final_psdf)"
   ]
  },
  {
   "cell_type": "code",
   "execution_count": 9,
   "id": "d540db67",
   "metadata": {},
   "outputs": [
    {
     "ename": "ConnectionRefusedError",
     "evalue": "[WinError 10061] No connection could be made because the target machine actively refused it",
     "output_type": "error",
     "traceback": [
      "\u001b[1;31m---------------------------------------------------------------------------\u001b[0m",
      "\u001b[1;31mConnectionResetError\u001b[0m                      Traceback (most recent call last)",
      "File \u001b[1;32mc:\\Users\\fadhil\\miniconda3\\envs\\rdvenv\\lib\\site-packages\\py4j\\clientserver.py:503\u001b[0m, in \u001b[0;36mClientServerConnection.send_command\u001b[1;34m(self, command)\u001b[0m\n\u001b[0;32m    502\u001b[0m \u001b[38;5;28;01mtry\u001b[39;00m:\n\u001b[1;32m--> 503\u001b[0m     \u001b[38;5;28;43mself\u001b[39;49m\u001b[38;5;241;43m.\u001b[39;49m\u001b[43msocket\u001b[49m\u001b[38;5;241;43m.\u001b[39;49m\u001b[43msendall\u001b[49m\u001b[43m(\u001b[49m\u001b[43mcommand\u001b[49m\u001b[38;5;241;43m.\u001b[39;49m\u001b[43mencode\u001b[49m\u001b[43m(\u001b[49m\u001b[38;5;124;43m\"\u001b[39;49m\u001b[38;5;124;43mutf-8\u001b[39;49m\u001b[38;5;124;43m\"\u001b[39;49m\u001b[43m)\u001b[49m\u001b[43m)\u001b[49m\n\u001b[0;32m    504\u001b[0m \u001b[38;5;28;01mexcept\u001b[39;00m \u001b[38;5;167;01mException\u001b[39;00m \u001b[38;5;28;01mas\u001b[39;00m e:\n",
      "\u001b[1;31mConnectionResetError\u001b[0m: [WinError 10054] An existing connection was forcibly closed by the remote host",
      "\nDuring handling of the above exception, another exception occurred:\n",
      "\u001b[1;31mPy4JNetworkError\u001b[0m                          Traceback (most recent call last)",
      "File \u001b[1;32mc:\\Users\\fadhil\\miniconda3\\envs\\rdvenv\\lib\\site-packages\\py4j\\java_gateway.py:1038\u001b[0m, in \u001b[0;36mGatewayClient.send_command\u001b[1;34m(self, command, retry, binary)\u001b[0m\n\u001b[0;32m   1037\u001b[0m \u001b[38;5;28;01mtry\u001b[39;00m:\n\u001b[1;32m-> 1038\u001b[0m     response \u001b[38;5;241m=\u001b[39m \u001b[43mconnection\u001b[49m\u001b[38;5;241;43m.\u001b[39;49m\u001b[43msend_command\u001b[49m\u001b[43m(\u001b[49m\u001b[43mcommand\u001b[49m\u001b[43m)\u001b[49m\n\u001b[0;32m   1039\u001b[0m     \u001b[38;5;28;01mif\u001b[39;00m binary:\n",
      "File \u001b[1;32mc:\\Users\\fadhil\\miniconda3\\envs\\rdvenv\\lib\\site-packages\\py4j\\clientserver.py:506\u001b[0m, in \u001b[0;36mClientServerConnection.send_command\u001b[1;34m(self, command)\u001b[0m\n\u001b[0;32m    505\u001b[0m     logger\u001b[38;5;241m.\u001b[39minfo(\u001b[38;5;124m\"\u001b[39m\u001b[38;5;124mError while sending or receiving.\u001b[39m\u001b[38;5;124m\"\u001b[39m, exc_info\u001b[38;5;241m=\u001b[39m\u001b[38;5;28;01mTrue\u001b[39;00m)\n\u001b[1;32m--> 506\u001b[0m     \u001b[38;5;28;01mraise\u001b[39;00m Py4JNetworkError(\n\u001b[0;32m    507\u001b[0m         \u001b[38;5;124m\"\u001b[39m\u001b[38;5;124mError while sending\u001b[39m\u001b[38;5;124m\"\u001b[39m, e, proto\u001b[38;5;241m.\u001b[39mERROR_ON_SEND)\n\u001b[0;32m    509\u001b[0m \u001b[38;5;28;01mtry\u001b[39;00m:\n",
      "\u001b[1;31mPy4JNetworkError\u001b[0m: Error while sending",
      "\nDuring handling of the above exception, another exception occurred:\n",
      "\u001b[1;31mConnectionRefusedError\u001b[0m                    Traceback (most recent call last)",
      "Cell \u001b[1;32mIn[9], line 2\u001b[0m\n\u001b[0;32m      1\u001b[0m \u001b[38;5;66;03m# df.head(20) alike\u001b[39;00m\n\u001b[1;32m----> 2\u001b[0m \u001b[43mfinal_psdf\u001b[49m\u001b[38;5;241;43m.\u001b[39;49m\u001b[43mshow\u001b[49m\u001b[43m(\u001b[49m\u001b[43m)\u001b[49m\n",
      "File \u001b[1;32mc:\\Users\\fadhil\\miniconda3\\envs\\rdvenv\\lib\\site-packages\\pyspark\\sql\\dataframe.py:947\u001b[0m, in \u001b[0;36mDataFrame.show\u001b[1;34m(self, n, truncate, vertical)\u001b[0m\n\u001b[0;32m    887\u001b[0m \u001b[38;5;28;01mdef\u001b[39;00m \u001b[38;5;21mshow\u001b[39m(\u001b[38;5;28mself\u001b[39m, n: \u001b[38;5;28mint\u001b[39m \u001b[38;5;241m=\u001b[39m \u001b[38;5;241m20\u001b[39m, truncate: Union[\u001b[38;5;28mbool\u001b[39m, \u001b[38;5;28mint\u001b[39m] \u001b[38;5;241m=\u001b[39m \u001b[38;5;28;01mTrue\u001b[39;00m, vertical: \u001b[38;5;28mbool\u001b[39m \u001b[38;5;241m=\u001b[39m \u001b[38;5;28;01mFalse\u001b[39;00m) \u001b[38;5;241m-\u001b[39m\u001b[38;5;241m>\u001b[39m \u001b[38;5;28;01mNone\u001b[39;00m:\n\u001b[0;32m    888\u001b[0m \u001b[38;5;250m    \u001b[39m\u001b[38;5;124;03m\"\"\"Prints the first ``n`` rows to the console.\u001b[39;00m\n\u001b[0;32m    889\u001b[0m \n\u001b[0;32m    890\u001b[0m \u001b[38;5;124;03m    .. versionadded:: 1.3.0\u001b[39;00m\n\u001b[1;32m   (...)\u001b[0m\n\u001b[0;32m    945\u001b[0m \u001b[38;5;124;03m    name | Bob\u001b[39;00m\n\u001b[0;32m    946\u001b[0m \u001b[38;5;124;03m    \"\"\"\u001b[39;00m\n\u001b[1;32m--> 947\u001b[0m     \u001b[38;5;28mprint\u001b[39m(\u001b[38;5;28;43mself\u001b[39;49m\u001b[38;5;241;43m.\u001b[39;49m\u001b[43m_show_string\u001b[49m\u001b[43m(\u001b[49m\u001b[43mn\u001b[49m\u001b[43m,\u001b[49m\u001b[43m \u001b[49m\u001b[43mtruncate\u001b[49m\u001b[43m,\u001b[49m\u001b[43m \u001b[49m\u001b[43mvertical\u001b[49m\u001b[43m)\u001b[49m)\n",
      "File \u001b[1;32mc:\\Users\\fadhil\\miniconda3\\envs\\rdvenv\\lib\\site-packages\\pyspark\\sql\\dataframe.py:965\u001b[0m, in \u001b[0;36mDataFrame._show_string\u001b[1;34m(self, n, truncate, vertical)\u001b[0m\n\u001b[0;32m    959\u001b[0m     \u001b[38;5;28;01mraise\u001b[39;00m PySparkTypeError(\n\u001b[0;32m    960\u001b[0m         error_class\u001b[38;5;241m=\u001b[39m\u001b[38;5;124m\"\u001b[39m\u001b[38;5;124mNOT_BOOL\u001b[39m\u001b[38;5;124m\"\u001b[39m,\n\u001b[0;32m    961\u001b[0m         message_parameters\u001b[38;5;241m=\u001b[39m{\u001b[38;5;124m\"\u001b[39m\u001b[38;5;124marg_name\u001b[39m\u001b[38;5;124m\"\u001b[39m: \u001b[38;5;124m\"\u001b[39m\u001b[38;5;124mvertical\u001b[39m\u001b[38;5;124m\"\u001b[39m, \u001b[38;5;124m\"\u001b[39m\u001b[38;5;124marg_type\u001b[39m\u001b[38;5;124m\"\u001b[39m: \u001b[38;5;28mtype\u001b[39m(vertical)\u001b[38;5;241m.\u001b[39m\u001b[38;5;18m__name__\u001b[39m},\n\u001b[0;32m    962\u001b[0m     )\n\u001b[0;32m    964\u001b[0m \u001b[38;5;28;01mif\u001b[39;00m \u001b[38;5;28misinstance\u001b[39m(truncate, \u001b[38;5;28mbool\u001b[39m) \u001b[38;5;129;01mand\u001b[39;00m truncate:\n\u001b[1;32m--> 965\u001b[0m     \u001b[38;5;28;01mreturn\u001b[39;00m \u001b[38;5;28;43mself\u001b[39;49m\u001b[38;5;241;43m.\u001b[39;49m\u001b[43m_jdf\u001b[49m\u001b[38;5;241;43m.\u001b[39;49m\u001b[43mshowString\u001b[49m\u001b[43m(\u001b[49m\u001b[43mn\u001b[49m\u001b[43m,\u001b[49m\u001b[43m \u001b[49m\u001b[38;5;241;43m20\u001b[39;49m\u001b[43m,\u001b[49m\u001b[43m \u001b[49m\u001b[43mvertical\u001b[49m\u001b[43m)\u001b[49m\n\u001b[0;32m    966\u001b[0m \u001b[38;5;28;01melse\u001b[39;00m:\n\u001b[0;32m    967\u001b[0m     \u001b[38;5;28;01mtry\u001b[39;00m:\n",
      "File \u001b[1;32mc:\\Users\\fadhil\\miniconda3\\envs\\rdvenv\\lib\\site-packages\\py4j\\java_gateway.py:1321\u001b[0m, in \u001b[0;36mJavaMember.__call__\u001b[1;34m(self, *args)\u001b[0m\n\u001b[0;32m   1314\u001b[0m args_command, temp_args \u001b[38;5;241m=\u001b[39m \u001b[38;5;28mself\u001b[39m\u001b[38;5;241m.\u001b[39m_build_args(\u001b[38;5;241m*\u001b[39margs)\n\u001b[0;32m   1316\u001b[0m command \u001b[38;5;241m=\u001b[39m proto\u001b[38;5;241m.\u001b[39mCALL_COMMAND_NAME \u001b[38;5;241m+\u001b[39m\\\n\u001b[0;32m   1317\u001b[0m     \u001b[38;5;28mself\u001b[39m\u001b[38;5;241m.\u001b[39mcommand_header \u001b[38;5;241m+\u001b[39m\\\n\u001b[0;32m   1318\u001b[0m     args_command \u001b[38;5;241m+\u001b[39m\\\n\u001b[0;32m   1319\u001b[0m     proto\u001b[38;5;241m.\u001b[39mEND_COMMAND_PART\n\u001b[1;32m-> 1321\u001b[0m answer \u001b[38;5;241m=\u001b[39m \u001b[38;5;28;43mself\u001b[39;49m\u001b[38;5;241;43m.\u001b[39;49m\u001b[43mgateway_client\u001b[49m\u001b[38;5;241;43m.\u001b[39;49m\u001b[43msend_command\u001b[49m\u001b[43m(\u001b[49m\u001b[43mcommand\u001b[49m\u001b[43m)\u001b[49m\n\u001b[0;32m   1322\u001b[0m return_value \u001b[38;5;241m=\u001b[39m get_return_value(\n\u001b[0;32m   1323\u001b[0m     answer, \u001b[38;5;28mself\u001b[39m\u001b[38;5;241m.\u001b[39mgateway_client, \u001b[38;5;28mself\u001b[39m\u001b[38;5;241m.\u001b[39mtarget_id, \u001b[38;5;28mself\u001b[39m\u001b[38;5;241m.\u001b[39mname)\n\u001b[0;32m   1325\u001b[0m \u001b[38;5;28;01mfor\u001b[39;00m temp_arg \u001b[38;5;129;01min\u001b[39;00m temp_args:\n",
      "File \u001b[1;32mc:\\Users\\fadhil\\miniconda3\\envs\\rdvenv\\lib\\site-packages\\py4j\\java_gateway.py:1053\u001b[0m, in \u001b[0;36mGatewayClient.send_command\u001b[1;34m(self, command, retry, binary)\u001b[0m\n\u001b[0;32m   1051\u001b[0m \u001b[38;5;28;01mif\u001b[39;00m \u001b[38;5;28mself\u001b[39m\u001b[38;5;241m.\u001b[39m_should_retry(retry, connection, pne):\n\u001b[0;32m   1052\u001b[0m     logging\u001b[38;5;241m.\u001b[39minfo(\u001b[38;5;124m\"\u001b[39m\u001b[38;5;124mException while sending command.\u001b[39m\u001b[38;5;124m\"\u001b[39m, exc_info\u001b[38;5;241m=\u001b[39m\u001b[38;5;28;01mTrue\u001b[39;00m)\n\u001b[1;32m-> 1053\u001b[0m     response \u001b[38;5;241m=\u001b[39m \u001b[38;5;28;43mself\u001b[39;49m\u001b[38;5;241;43m.\u001b[39;49m\u001b[43msend_command\u001b[49m\u001b[43m(\u001b[49m\u001b[43mcommand\u001b[49m\u001b[43m,\u001b[49m\u001b[43m \u001b[49m\u001b[43mbinary\u001b[49m\u001b[38;5;241;43m=\u001b[39;49m\u001b[43mbinary\u001b[49m\u001b[43m)\u001b[49m\n\u001b[0;32m   1054\u001b[0m \u001b[38;5;28;01melse\u001b[39;00m:\n\u001b[0;32m   1055\u001b[0m     logging\u001b[38;5;241m.\u001b[39mexception(\n\u001b[0;32m   1056\u001b[0m         \u001b[38;5;124m\"\u001b[39m\u001b[38;5;124mException while sending command.\u001b[39m\u001b[38;5;124m\"\u001b[39m)\n",
      "File \u001b[1;32mc:\\Users\\fadhil\\miniconda3\\envs\\rdvenv\\lib\\site-packages\\py4j\\java_gateway.py:1036\u001b[0m, in \u001b[0;36mGatewayClient.send_command\u001b[1;34m(self, command, retry, binary)\u001b[0m\n\u001b[0;32m   1015\u001b[0m \u001b[38;5;28;01mdef\u001b[39;00m \u001b[38;5;21msend_command\u001b[39m(\u001b[38;5;28mself\u001b[39m, command, retry\u001b[38;5;241m=\u001b[39m\u001b[38;5;28;01mTrue\u001b[39;00m, binary\u001b[38;5;241m=\u001b[39m\u001b[38;5;28;01mFalse\u001b[39;00m):\n\u001b[0;32m   1016\u001b[0m \u001b[38;5;250m    \u001b[39m\u001b[38;5;124;03m\"\"\"Sends a command to the JVM. This method is not intended to be\u001b[39;00m\n\u001b[0;32m   1017\u001b[0m \u001b[38;5;124;03m       called directly by Py4J users. It is usually called by\u001b[39;00m\n\u001b[0;32m   1018\u001b[0m \u001b[38;5;124;03m       :class:`JavaMember` instances.\u001b[39;00m\n\u001b[1;32m   (...)\u001b[0m\n\u001b[0;32m   1034\u001b[0m \u001b[38;5;124;03m     if `binary` is `True`.\u001b[39;00m\n\u001b[0;32m   1035\u001b[0m \u001b[38;5;124;03m    \"\"\"\u001b[39;00m\n\u001b[1;32m-> 1036\u001b[0m     connection \u001b[38;5;241m=\u001b[39m \u001b[38;5;28;43mself\u001b[39;49m\u001b[38;5;241;43m.\u001b[39;49m\u001b[43m_get_connection\u001b[49m\u001b[43m(\u001b[49m\u001b[43m)\u001b[49m\n\u001b[0;32m   1037\u001b[0m     \u001b[38;5;28;01mtry\u001b[39;00m:\n\u001b[0;32m   1038\u001b[0m         response \u001b[38;5;241m=\u001b[39m connection\u001b[38;5;241m.\u001b[39msend_command(command)\n",
      "File \u001b[1;32mc:\\Users\\fadhil\\miniconda3\\envs\\rdvenv\\lib\\site-packages\\py4j\\clientserver.py:284\u001b[0m, in \u001b[0;36mJavaClient._get_connection\u001b[1;34m(self)\u001b[0m\n\u001b[0;32m    281\u001b[0m     \u001b[38;5;28;01mpass\u001b[39;00m\n\u001b[0;32m    283\u001b[0m \u001b[38;5;28;01mif\u001b[39;00m connection \u001b[38;5;129;01mis\u001b[39;00m \u001b[38;5;28;01mNone\u001b[39;00m \u001b[38;5;129;01mor\u001b[39;00m connection\u001b[38;5;241m.\u001b[39msocket \u001b[38;5;129;01mis\u001b[39;00m \u001b[38;5;28;01mNone\u001b[39;00m:\n\u001b[1;32m--> 284\u001b[0m     connection \u001b[38;5;241m=\u001b[39m \u001b[38;5;28;43mself\u001b[39;49m\u001b[38;5;241;43m.\u001b[39;49m\u001b[43m_create_new_connection\u001b[49m\u001b[43m(\u001b[49m\u001b[43m)\u001b[49m\n\u001b[0;32m    285\u001b[0m \u001b[38;5;28;01mreturn\u001b[39;00m connection\n",
      "File \u001b[1;32mc:\\Users\\fadhil\\miniconda3\\envs\\rdvenv\\lib\\site-packages\\py4j\\clientserver.py:291\u001b[0m, in \u001b[0;36mJavaClient._create_new_connection\u001b[1;34m(self)\u001b[0m\n\u001b[0;32m    287\u001b[0m \u001b[38;5;28;01mdef\u001b[39;00m \u001b[38;5;21m_create_new_connection\u001b[39m(\u001b[38;5;28mself\u001b[39m):\n\u001b[0;32m    288\u001b[0m     connection \u001b[38;5;241m=\u001b[39m ClientServerConnection(\n\u001b[0;32m    289\u001b[0m         \u001b[38;5;28mself\u001b[39m\u001b[38;5;241m.\u001b[39mjava_parameters, \u001b[38;5;28mself\u001b[39m\u001b[38;5;241m.\u001b[39mpython_parameters,\n\u001b[0;32m    290\u001b[0m         \u001b[38;5;28mself\u001b[39m\u001b[38;5;241m.\u001b[39mgateway_property, \u001b[38;5;28mself\u001b[39m)\n\u001b[1;32m--> 291\u001b[0m     \u001b[43mconnection\u001b[49m\u001b[38;5;241;43m.\u001b[39;49m\u001b[43mconnect_to_java_server\u001b[49m\u001b[43m(\u001b[49m\u001b[43m)\u001b[49m\n\u001b[0;32m    292\u001b[0m     \u001b[38;5;28mself\u001b[39m\u001b[38;5;241m.\u001b[39mset_thread_connection(connection)\n\u001b[0;32m    293\u001b[0m     \u001b[38;5;28;01mreturn\u001b[39;00m connection\n",
      "File \u001b[1;32mc:\\Users\\fadhil\\miniconda3\\envs\\rdvenv\\lib\\site-packages\\py4j\\clientserver.py:438\u001b[0m, in \u001b[0;36mClientServerConnection.connect_to_java_server\u001b[1;34m(self)\u001b[0m\n\u001b[0;32m    435\u001b[0m \u001b[38;5;28;01mif\u001b[39;00m \u001b[38;5;28mself\u001b[39m\u001b[38;5;241m.\u001b[39mssl_context:\n\u001b[0;32m    436\u001b[0m     \u001b[38;5;28mself\u001b[39m\u001b[38;5;241m.\u001b[39msocket \u001b[38;5;241m=\u001b[39m \u001b[38;5;28mself\u001b[39m\u001b[38;5;241m.\u001b[39mssl_context\u001b[38;5;241m.\u001b[39mwrap_socket(\n\u001b[0;32m    437\u001b[0m         \u001b[38;5;28mself\u001b[39m\u001b[38;5;241m.\u001b[39msocket, server_hostname\u001b[38;5;241m=\u001b[39m\u001b[38;5;28mself\u001b[39m\u001b[38;5;241m.\u001b[39mjava_address)\n\u001b[1;32m--> 438\u001b[0m \u001b[38;5;28;43mself\u001b[39;49m\u001b[38;5;241;43m.\u001b[39;49m\u001b[43msocket\u001b[49m\u001b[38;5;241;43m.\u001b[39;49m\u001b[43mconnect\u001b[49m\u001b[43m(\u001b[49m\u001b[43m(\u001b[49m\u001b[38;5;28;43mself\u001b[39;49m\u001b[38;5;241;43m.\u001b[39;49m\u001b[43mjava_address\u001b[49m\u001b[43m,\u001b[49m\u001b[43m \u001b[49m\u001b[38;5;28;43mself\u001b[39;49m\u001b[38;5;241;43m.\u001b[39;49m\u001b[43mjava_port\u001b[49m\u001b[43m)\u001b[49m\u001b[43m)\u001b[49m\n\u001b[0;32m    439\u001b[0m \u001b[38;5;28mself\u001b[39m\u001b[38;5;241m.\u001b[39mstream \u001b[38;5;241m=\u001b[39m \u001b[38;5;28mself\u001b[39m\u001b[38;5;241m.\u001b[39msocket\u001b[38;5;241m.\u001b[39mmakefile(\u001b[38;5;124m\"\u001b[39m\u001b[38;5;124mrb\u001b[39m\u001b[38;5;124m\"\u001b[39m)\n\u001b[0;32m    440\u001b[0m \u001b[38;5;28mself\u001b[39m\u001b[38;5;241m.\u001b[39mis_connected \u001b[38;5;241m=\u001b[39m \u001b[38;5;28;01mTrue\u001b[39;00m\n",
      "\u001b[1;31mConnectionRefusedError\u001b[0m: [WinError 10061] No connection could be made because the target machine actively refused it"
     ]
    }
   ],
   "source": [
    "# df.head(20) alike\n",
    "final_psdf.show()"
   ]
  },
  {
   "cell_type": "code",
   "execution_count": null,
   "id": "be1293f2",
   "metadata": {},
   "outputs": [
    {
     "name": "stdout",
     "output_type": "stream",
     "text": [
      "Jumlah Kolom yang terambil : 29\n"
     ]
    },
    {
     "data": {
      "text/plain": [
       "['apparent_temperature',\n",
       " 'cloud_cover',\n",
       " 'cloud_cover_high',\n",
       " 'cloud_cover_low',\n",
       " 'cloud_cover_mid',\n",
       " 'dew_point_2m',\n",
       " 'et0_fao_evapotranspiration',\n",
       " 'precipitation',\n",
       " 'pressure_msl',\n",
       " 'rain',\n",
       " 'relative_humidity_2m',\n",
       " 'soil_moisture_0_to_7cm',\n",
       " 'soil_moisture_100_to_255cm',\n",
       " 'soil_moisture_28_to_100cm',\n",
       " 'soil_moisture_7_to_28cm',\n",
       " 'soil_temperature_0_to_7cm',\n",
       " 'soil_temperature_100_to_255cm',\n",
       " 'soil_temperature_28_to_100cm',\n",
       " 'soil_temperature_7_to_28cm',\n",
       " 'surface_pressure',\n",
       " 'temperature_2m',\n",
       " 'time',\n",
       " 'vapour_pressure_deficit',\n",
       " 'weather_code',\n",
       " 'wind_direction_100m',\n",
       " 'wind_direction_10m',\n",
       " 'wind_gusts_10m',\n",
       " 'wind_speed_100m',\n",
       " 'wind_speed_10m']"
      ]
     },
     "execution_count": 23,
     "metadata": {},
     "output_type": "execute_result"
    }
   ],
   "source": [
    "# Cek apakah semua kolom berhasil terambil, jika semua terambil maka jumlahnya adalah 29\n",
    "print(f\"Jumlah Kolom yang terambil : {len(final_psdf.columns)}\")\n",
    "final_psdf.columns"
   ]
  },
  {
   "cell_type": "code",
   "execution_count": 25,
   "id": "4510990a",
   "metadata": {},
   "outputs": [
    {
     "name": "stdout",
     "output_type": "stream",
     "text": [
      "659664\n"
     ]
    }
   ],
   "source": [
    "# Cek jumlah baris data\n",
    "rows = final_psdf.count()\n",
    "print(rows)"
   ]
  },
  {
   "cell_type": "markdown",
   "id": "25abb245",
   "metadata": {},
   "source": [
    "## Enriching"
   ]
  },
  {
   "cell_type": "markdown",
   "id": "6b36a263",
   "metadata": {},
   "source": [
    "Enriching pada projek ini dilakukan dengan tujuan untuk mendapatkan sebagian data yang tidak ada. Pada open-meteo data yang kita minta tidak bersifat real-time. Semisal mengambil data hingga hari ini, maka 40 data sebelumnya semuanya *missing*. Oleh karena itu kami melakukan enriching pada 40 data yang hilang tersebut pada API lain yaitu `weatherapi.com`"
   ]
  },
  {
   "cell_type": "markdown",
   "id": "cc540819",
   "metadata": {},
   "source": [
    "### Cari tahu pada tanggal berapa data missing"
   ]
  },
  {
   "cell_type": "code",
   "execution_count": 26,
   "id": "2454adca",
   "metadata": {},
   "outputs": [],
   "source": [
    "# Pengecekan Missing Values\n",
    "missing_counts = final_psdf.select([\n",
    "    sum(col(c).isNull().cast(\"int\")).alias(c) for c in final_psdf.columns\n",
    "])"
   ]
  },
  {
   "cell_type": "code",
   "execution_count": 27,
   "id": "f511066d",
   "metadata": {},
   "outputs": [
    {
     "name": "stdout",
     "output_type": "stream",
     "text": [
      "Missing Values Tiap-Tiap Kolom\n",
      "+--------------------+-----------+----------------+---------------+---------------+------------+--------------------------+-------------+------------+----+--------------------+----------------------+--------------------------+-------------------------+-----------------------+-------------------------+-----------------------------+----------------------------+--------------------------+----------------+--------------+----+-----------------------+------------+-------------------+------------------+--------------+---------------+--------------+--------+\n",
      "|apparent_temperature|cloud_cover|cloud_cover_high|cloud_cover_low|cloud_cover_mid|dew_point_2m|et0_fao_evapotranspiration|precipitation|pressure_msl|rain|relative_humidity_2m|soil_moisture_0_to_7cm|soil_moisture_100_to_255cm|soil_moisture_28_to_100cm|soil_moisture_7_to_28cm|soil_temperature_0_to_7cm|soil_temperature_100_to_255cm|soil_temperature_28_to_100cm|soil_temperature_7_to_28cm|surface_pressure|temperature_2m|time|vapour_pressure_deficit|weather_code|wind_direction_100m|wind_direction_10m|wind_gusts_10m|wind_speed_100m|wind_speed_10m|district|\n",
      "+--------------------+-----------+----------------+---------------+---------------+------------+--------------------------+-------------+------------+----+--------------------+----------------------+--------------------------+-------------------------+-----------------------+-------------------------+-----------------------------+----------------------------+--------------------------+----------------+--------------+----+-----------------------+------------+-------------------+------------------+--------------+---------------+--------------+--------+\n",
      "|                   0|          0|               0|              0|              0|           0|                         0|            0|           0|   0|                   0|                     0|                         0|                        0|                      0|                        0|                            0|                           0|                         0|               0|             0|   0|                      0|           0|                  0|                 0|             0|              0|             0|       0|\n",
      "+--------------------+-----------+----------------+---------------+---------------+------------+--------------------------+-------------+------------+----+--------------------+----------------------+--------------------------+-------------------------+-----------------------+-------------------------+-----------------------------+----------------------------+--------------------------+----------------+--------------+----+-----------------------+------------+-------------------+------------------+--------------+---------------+--------------+--------+\n",
      "\n"
     ]
    }
   ],
   "source": [
    "print(\"Missing Values Tiap-Tiap Kolom\")\n",
    "missing_counts.show()"
   ]
  },
  {
   "cell_type": "code",
   "execution_count": 28,
   "id": "212b5c6e",
   "metadata": {},
   "outputs": [
    {
     "name": "stdout",
     "output_type": "stream",
     "text": [
      "+--------------------+-----------+----------------+---------------+---------------+------------+--------------------------+-------------+------------+----+--------------------+----------------------+--------------------------+-------------------------+-----------------------+-------------------------+-----------------------------+----------------------------+--------------------------+----------------+--------------+----------------+-----------------------+------------+-------------------+------------------+--------------+---------------+--------------+---------+\n",
      "|apparent_temperature|cloud_cover|cloud_cover_high|cloud_cover_low|cloud_cover_mid|dew_point_2m|et0_fao_evapotranspiration|precipitation|pressure_msl|rain|relative_humidity_2m|soil_moisture_0_to_7cm|soil_moisture_100_to_255cm|soil_moisture_28_to_100cm|soil_moisture_7_to_28cm|soil_temperature_0_to_7cm|soil_temperature_100_to_255cm|soil_temperature_28_to_100cm|soil_temperature_7_to_28cm|surface_pressure|temperature_2m|            time|vapour_pressure_deficit|weather_code|wind_direction_100m|wind_direction_10m|wind_gusts_10m|wind_speed_100m|wind_speed_10m| district|\n",
      "+--------------------+-----------+----------------+---------------+---------------+------------+--------------------------+-------------+------------+----+--------------------+----------------------+--------------------------+-------------------------+-----------------------+-------------------------+-----------------------------+----------------------------+--------------------------+----------------+--------------+----------------+-----------------------+------------+-------------------+------------------+--------------+---------------+--------------+---------+\n",
      "|                26.3|        100|             100|             27|             63|        21.5|                       0.0|          4.4|      1011.4| 4.4|                  97|                 0.408|                      0.35|                    0.348|                  0.391|                     23.2|                         25.2|                        25.2|                      24.7|           959.3|          22.0|2025-05-12T23:00|                   0.09|          63|                  5|               321|           4.7|            2.2|           2.6|   Klojen|\n",
      "|                16.3|        100|             100|              1|             48|        13.9|                       0.0|          2.2|      1012.3| 2.2|                  92|                 0.435|                     0.414|                    0.374|                   0.42|                     14.9|                         16.0|                        15.9|                      16.0|           833.0|          15.2|2025-05-12T23:00|                   0.14|          61|                122|                60|          10.1|            3.4|           1.5|    Wagir|\n",
      "|                26.1|        100|             100|             27|             63|        21.3|                       0.0|          4.4|      1011.4| 4.4|                  97|                 0.408|                      0.35|                    0.348|                  0.391|                     23.0|                         25.1|                        25.0|                      24.5|           956.7|          21.9|2025-05-12T23:00|                   0.09|          63|                  5|               321|           4.7|            2.2|           2.6|    Pakis|\n",
      "|                27.2|        100|             100|             24|             70|        22.4|                       0.0|          2.0|      1010.9| 2.0|                  99|                 0.428|                     0.392|                    0.388|                  0.417|                     23.5|                         25.0|                        24.9|                      24.7|           972.1|          22.6|2025-05-12T23:00|                   0.02|          61|                 57|                73|           7.6|            6.9|           3.8| Kepanjen|\n",
      "|                25.4|        100|             100|             87|             88|        20.6|                       0.0|          3.6|      1011.4| 3.6|                  95|                 0.365|                      0.29|                    0.209|                   0.34|                     22.0|                         23.8|                        23.8|                      23.3|           948.4|          21.4|2025-05-12T23:00|                   0.12|          63|                342|               315|           4.0|            1.1|           1.5|Singosari|\n",
      "+--------------------+-----------+----------------+---------------+---------------+------------+--------------------------+-------------+------------+----+--------------------+----------------------+--------------------------+-------------------------+-----------------------+-------------------------+-----------------------------+----------------------------+--------------------------+----------------+--------------+----------------+-----------------------+------------+-------------------+------------------+--------------+---------------+--------------+---------+\n",
      "\n"
     ]
    }
   ],
   "source": [
    "# Cek apakah data yang missing itu pada data terbaru\n",
    "tail_df = final_psdf.orderBy(\"time\", ascending=False).limit(5)\n",
    "tail_df.show()"
   ]
  },
  {
   "cell_type": "markdown",
   "id": "6606a00a",
   "metadata": {},
   "source": [
    "Ternyata data paling baru ada di tanggal 2025-05-12 pada jam 07.00 dan nilai yang hilang bukan di akhir timestamp"
   ]
  },
  {
   "cell_type": "code",
   "execution_count": null,
   "id": "12914c73",
   "metadata": {},
   "outputs": [
    {
     "name": "stdout",
     "output_type": "stream",
     "text": [
      "Indeks yang null pada kolom 'apparent_temperature':\n",
      "+---------+\n",
      "|row_index|\n",
      "+---------+\n",
      "+---------+\n",
      "\n",
      "Indeks yang null pada kolom 'cloud_cover':\n",
      "+---------+\n",
      "|row_index|\n",
      "+---------+\n",
      "+---------+\n",
      "\n",
      "Indeks yang null pada kolom 'cloud_cover_high':\n",
      "+---------+\n",
      "|row_index|\n",
      "+---------+\n",
      "+---------+\n",
      "\n",
      "Indeks yang null pada kolom 'cloud_cover_low':\n",
      "+---------+\n",
      "|row_index|\n",
      "+---------+\n",
      "+---------+\n",
      "\n",
      "Indeks yang null pada kolom 'cloud_cover_mid':\n",
      "+---------+\n",
      "|row_index|\n",
      "+---------+\n",
      "+---------+\n",
      "\n",
      "Indeks yang null pada kolom 'dew_point_2m':\n",
      "+---------+\n",
      "|row_index|\n",
      "+---------+\n",
      "+---------+\n",
      "\n",
      "Indeks yang null pada kolom 'et0_fao_evapotranspiration':\n",
      "+---------+\n",
      "|row_index|\n",
      "+---------+\n",
      "+---------+\n",
      "\n",
      "Indeks yang null pada kolom 'precipitation':\n",
      "+---------+\n",
      "|row_index|\n",
      "+---------+\n",
      "+---------+\n",
      "\n",
      "Indeks yang null pada kolom 'pressure_msl':\n",
      "+---------+\n",
      "|row_index|\n",
      "+---------+\n",
      "+---------+\n",
      "\n",
      "Indeks yang null pada kolom 'rain':\n",
      "+---------+\n",
      "|row_index|\n",
      "+---------+\n",
      "+---------+\n",
      "\n",
      "Indeks yang null pada kolom 'relative_humidity_2m':\n",
      "+---------+\n",
      "|row_index|\n",
      "+---------+\n",
      "+---------+\n",
      "\n",
      "Indeks yang null pada kolom 'soil_moisture_0_to_7cm':\n",
      "+---------+\n",
      "|row_index|\n",
      "+---------+\n",
      "+---------+\n",
      "\n",
      "Indeks yang null pada kolom 'soil_moisture_100_to_255cm':\n",
      "+---------+\n",
      "|row_index|\n",
      "+---------+\n",
      "+---------+\n",
      "\n",
      "Indeks yang null pada kolom 'soil_moisture_28_to_100cm':\n",
      "+---------+\n",
      "|row_index|\n",
      "+---------+\n",
      "+---------+\n",
      "\n",
      "Indeks yang null pada kolom 'soil_moisture_7_to_28cm':\n",
      "+---------+\n",
      "|row_index|\n",
      "+---------+\n",
      "+---------+\n",
      "\n",
      "Indeks yang null pada kolom 'soil_temperature_0_to_7cm':\n",
      "+---------+\n",
      "|row_index|\n",
      "+---------+\n",
      "+---------+\n",
      "\n",
      "Indeks yang null pada kolom 'soil_temperature_100_to_255cm':\n",
      "+---------+\n",
      "|row_index|\n",
      "+---------+\n",
      "+---------+\n",
      "\n",
      "Indeks yang null pada kolom 'soil_temperature_28_to_100cm':\n",
      "+---------+\n",
      "|row_index|\n",
      "+---------+\n",
      "+---------+\n",
      "\n",
      "Indeks yang null pada kolom 'soil_temperature_7_to_28cm':\n",
      "+---------+\n",
      "|row_index|\n",
      "+---------+\n",
      "+---------+\n",
      "\n",
      "Indeks yang null pada kolom 'surface_pressure':\n",
      "+---------+\n",
      "|row_index|\n",
      "+---------+\n",
      "+---------+\n",
      "\n",
      "Indeks yang null pada kolom 'temperature_2m':\n",
      "+---------+\n",
      "|row_index|\n",
      "+---------+\n",
      "+---------+\n",
      "\n",
      "Indeks yang null pada kolom 'time':\n",
      "+---------+\n",
      "|row_index|\n",
      "+---------+\n",
      "+---------+\n",
      "\n",
      "Indeks yang null pada kolom 'vapour_pressure_deficit':\n",
      "+---------+\n",
      "|row_index|\n",
      "+---------+\n",
      "+---------+\n",
      "\n",
      "Indeks yang null pada kolom 'weather_code':\n",
      "+---------+\n",
      "|row_index|\n",
      "+---------+\n",
      "+---------+\n",
      "\n",
      "Indeks yang null pada kolom 'wind_direction_100m':\n",
      "+---------+\n",
      "|row_index|\n",
      "+---------+\n",
      "+---------+\n",
      "\n",
      "Indeks yang null pada kolom 'wind_direction_10m':\n",
      "+---------+\n",
      "|row_index|\n",
      "+---------+\n",
      "+---------+\n",
      "\n",
      "Indeks yang null pada kolom 'wind_gusts_10m':\n",
      "+---------+\n",
      "|row_index|\n",
      "+---------+\n",
      "+---------+\n",
      "\n",
      "Indeks yang null pada kolom 'wind_speed_100m':\n",
      "+---------+\n",
      "|row_index|\n",
      "+---------+\n",
      "+---------+\n",
      "\n",
      "Indeks yang null pada kolom 'wind_speed_10m':\n",
      "+---------+\n",
      "|row_index|\n",
      "+---------+\n",
      "+---------+\n",
      "\n"
     ]
    }
   ],
   "source": [
    "# Cek index dari data yang bernilai nan\n",
    "window_spec = Window.orderBy(lit(1))\n",
    "df_with_index = final_psdf.withColumn(\"row_index\", row_number().over(window_spec) - 1)\n",
    "\n",
    "for column in psdf.columns:\n",
    "    null_condition = df_with_index.filter(col(column).isNull())\n",
    "    \n",
    "    null_indices = null_condition.select(\"row_index\")\n",
    "    print(f\"Indeks yang null pada kolom '{column}':\")\n",
    "    null_indices.show(truncate=False)"
   ]
  },
  {
   "cell_type": "markdown",
   "id": "617d8b6a",
   "metadata": {},
   "source": [
    "Kita sudah menemukan masalahnya, ternyata data hilang dari index 3152 (berlaku untuk semua kolom). Itu artinya data hilang dari index tanggal 1 Januari 2017 pukul 00.00 hingga 1 Januari 2017 adalah 12 Mei 2017. Setelah kami cek secara langsung ternyata memang dari `weatherapi.com` tidak memiliki data pada rentang itu. Hasil outputnya ketika requests tanggal tersebut hanya tanggal/timestamp saja."
   ]
  },
  {
   "cell_type": "markdown",
   "id": "207ea23a",
   "metadata": {},
   "source": [
    "### Impute nilai missing dari `weatherapi.com`"
   ]
  },
  {
   "cell_type": "code",
   "execution_count": null,
   "id": "efa1395d",
   "metadata": {},
   "outputs": [],
   "source": [
    "load_dotenv()\n",
    "FREEWEATHER_KEY = os.getenv(\"FREEWEATHER_KEY\")"
   ]
  },
  {
   "cell_type": "code",
   "execution_count": 92,
   "id": "830c6a10",
   "metadata": {},
   "outputs": [],
   "source": [
    "# Parameter untuk melengkapi data hingga tanggal saat ini terlebih dahulu\n",
    "# Hanya untuk start date, end date masih sama\n",
    "# start_date = \"2025-01-01\"\n",
    "start_date = \"2025-02-05\"\n",
    "today = datetime.today()\n",
    "end_date = today.strftime(\"%Y-%m-%d\")\n",
    "\n",
    "weatherapi_url = f\"http://api.weatherapi.com/v1/history.json?key={FREEWEATHER_KEY}&q={latitude},{longitude}&dt=2025-01-01&end_dt={end_date}\"\n",
    "\n",
    "# Melakukan pengambilan data baru\n",
    "response = requests.get(weatherapi_url)\n",
    "if response.status_code == 200:\n",
    "    recent_data = response.json()\n",
    "else :\n",
    "    print(f\"Can't fetch data, status code: {response.status_code}\")"
   ]
  },
  {
   "cell_type": "code",
   "execution_count": null,
   "id": "c8409011",
   "metadata": {},
   "outputs": [
    {
     "name": "stdout",
     "output_type": "stream",
     "text": [
      "Can't fetch data, status code: 400\n"
     ]
    }
   ],
   "source": [
    "# Melakukan pengambilan data yang hilang dari api lain\n",
    "start_date = \"2017-01-01\"\n",
    "end_date = \"2017-05-12\"\n",
    "\n",
    "weatherapi_url = f\"http://api.weatherapi.com/v1/history.json?key={FREEWEATHER_KEY}&q={latitude},{longitude}&dt={start_date}&end_dt={end_date}\"\n",
    "\n",
    "response = requests.get(weatherapi_url)\n",
    "if response.status_code == 200:\n",
    "    missing_data = response.json()\n",
    "else :\n",
    "    print(f\"Can't fetch data, status code: {response.status_code}\")"
   ]
  },
  {
   "cell_type": "markdown",
   "id": "eb78f30a",
   "metadata": {},
   "source": [
    "Setelah kami lihat lebih detail ternyata response data dari `weatherapi.com` hanya mencakup sampai tanggal 5 Feburari 2025 saja, sedangkan yang kami butuhkan adalah data 2 hari sebelum tanggal saat ini. Selain itu karena juga ada batasan data terkait *constraint* tahun, dimana data dari tahun 2017 hingga 2022 selalu ada nilai yang hilang. Akhirnya pada notebook sebelumnya data dimulai dari 2012, kami mengubahnya menjadi mulai dari tahun 2023."
   ]
  },
  {
   "cell_type": "markdown",
   "id": "de932f03",
   "metadata": {},
   "source": [
    "## Cleaning"
   ]
  },
  {
   "cell_type": "markdown",
   "id": "c10baf73",
   "metadata": {},
   "source": [
    "Untuk mengatasi masalah nilai yang hilang pada 2 hari sebelum hari ini, kami memutuskan untuk menggunakan data forecast dari open-meteo."
   ]
  },
  {
   "cell_type": "code",
   "execution_count": 31,
   "id": "57cfdb29",
   "metadata": {},
   "outputs": [
    {
     "name": "stdout",
     "output_type": "stream",
     "text": [
      "temperature_2m,relative_humidity_2m,precipitation,weather_code,wind_speed_10m,wind_speed_100m,wind_direction_10m,wind_direction_100m,wind_gusts_10m,rain,apparent_temperature,surface_pressure,cloud_cover,cloud_cover_low,cloud_cover_mid,cloud_cover_high,soil_temperature_0_to_7cm,soil_temperature_7_to_28cm,soil_temperature_28_to_100cm,soil_temperature_100_to_255cm,soil_moisture_0_to_7cm,soil_moisture_7_to_28cm,soil_moisture_28_to_100cm,soil_moisture_100_to_255cm,et0_fao_evapotranspiration,vapour_pressure_deficit,pressure_msl,dew_point_2m\n"
     ]
    }
   ],
   "source": [
    "print(features)"
   ]
  },
  {
   "cell_type": "code",
   "execution_count": null,
   "id": "b605d90e",
   "metadata": {},
   "outputs": [],
   "source": [
    "for district in locations:\n",
    "    latitude = locations[district][0]\n",
    "    longitude = locations[district][1]\n",
    "    \n",
    "    forecast_url = f\"https://api.open-meteo.com/v1/forecast?latitude={latitude}&longitude={longitude}&hourly={features}&start_date=2025-05-12&end_date={end_date}\"\n",
    "\n",
    "    response = requests.get(forecast_url)\n",
    "    if response.status_code == 200:\n",
    "        missing_data = response.json()['hourly']\n",
    "        rows_oriented_missing = [\n",
    "            {key: missing_data[key][i] for key in missing_data}\n",
    "            for i in range(len(missing_data['time']))\n",
    "        ]\n",
    "        missing_psdf = spark.read.json(spark.sparkContext.parallelize(rows_oriented_missing))\n",
    "        missing_psdf = missing_psdf.withColumn(\"district\", lit(district))\n",
    "        # Gabungkan data yang baru (2 hari sebelum hari ini) dengan data historis\n",
    "        cleaned_psdf = final_psdf.unionByName(missing_psdf)\n",
    "        cleaned_psdf = final_psdf.dropDuplicates()\n",
    "    else :\n",
    "        print(f\"Can't fetch data, status code: {response.status_code}\")"
   ]
  },
  {
   "cell_type": "code",
   "execution_count": 47,
   "id": "28a29a40",
   "metadata": {},
   "outputs": [],
   "source": [
    "cleaned_psdf = cleaned_psdf.orderBy(\"district\", \"time\")"
   ]
  },
  {
   "cell_type": "code",
   "execution_count": 48,
   "id": "a34fbb0e",
   "metadata": {},
   "outputs": [
    {
     "name": "stdout",
     "output_type": "stream",
     "text": [
      "+--------------------+-----------+----------------+---------------+---------------+------------+--------------------------+-------------+------------+----+--------------------+----------------+--------------+----------------+-----------------------+------------+-------------------+------------------+--------------+---------------+--------------+--------+\n",
      "|apparent_temperature|cloud_cover|cloud_cover_high|cloud_cover_low|cloud_cover_mid|dew_point_2m|et0_fao_evapotranspiration|precipitation|pressure_msl|rain|relative_humidity_2m|surface_pressure|temperature_2m|            time|vapour_pressure_deficit|weather_code|wind_direction_100m|wind_direction_10m|wind_gusts_10m|wind_speed_100m|wind_speed_10m|district|\n",
      "+--------------------+-----------+----------------+---------------+---------------+------------+--------------------------+-------------+------------+----+--------------------+----------------+--------------+----------------+-----------------------+------------+-------------------+------------------+--------------+---------------+--------------+--------+\n",
      "|                27.0|         93|              80|             29|             20|        22.3|                       0.0|          0.0|      1010.3| 0.0|                  98|           957.4|          22.6|2017-01-01T00:00|                   0.04|           3|                251|               258|          11.5|            6.5|           5.2|Blimbing|\n",
      "|                27.0|         83|              62|             35|             24|        22.3|                       0.0|          0.0|      1010.0| 0.0|                  98|           957.1|          22.5|2017-01-01T01:00|                   0.04|           3|                260|               265|          10.4|            6.2|           4.3|Blimbing|\n",
      "|                26.7|         76|              42|             30|             25|        21.9|                       0.0|          0.0|      1009.5| 0.0|                  97|           956.6|          22.4|2017-01-01T02:00|                   0.08|           2|                279|               285|          10.4|            6.9|           4.1|Blimbing|\n",
      "|                26.4|         82|              43|             25|             39|        21.9|                       0.0|          0.0|      1009.1| 0.0|                  98|           956.2|          22.3|2017-01-01T03:00|                   0.06|           3|                298|               309|          10.1|            6.9|           5.1|Blimbing|\n",
      "|                26.4|         59|              38|             18|             57|        21.8|                       0.0|          0.0|      1009.1| 0.0|                  98|           956.2|          22.2|2017-01-01T04:00|                   0.06|           2|                321|               333|           9.7|            7.4|           4.8|Blimbing|\n",
      "|                26.4|         57|              48|              2|             43|        21.7|                       0.0|          0.0|      1008.8| 0.0|                  97|           955.9|          22.2|2017-01-01T05:00|                   0.07|           2|                337|               354|           9.0|            4.7|           3.6|Blimbing|\n",
      "|                27.3|         73|              17|             15|             27|        22.0|                      0.02|          0.0|      1009.5| 0.0|                  96|           956.7|          22.7|2017-01-01T06:00|                   0.11|           2|                342|               360|           8.3|            2.3|           2.2|Blimbing|\n",
      "|                28.0|         73|              59|             11|             26|        21.6|                      0.11|          0.0|      1011.2| 0.0|                  88|           958.4|          23.7|2017-01-01T07:00|                   0.35|           2|                131|               124|          10.4|            3.3|           2.6|Blimbing|\n",
      "|                29.8|         91|              84|             26|             20|        22.2|                      0.28|          0.0|      1010.4| 0.0|                  82|           958.0|          25.6|2017-01-01T08:00|                   0.61|           3|                159|               148|          17.3|            6.2|           5.5|Blimbing|\n",
      "|                31.1|         94|              93|             27|             23|        21.8|                      0.43|          0.3|      1010.1| 0.3|                  75|           957.9|          26.7|2017-01-01T09:00|                   0.89|          51|                177|               165|          19.1|            6.8|           5.6|Blimbing|\n",
      "|                31.0|         92|              91|             15|             38|        21.8|                      0.43|          0.4|      1009.8| 0.4|                  74|           957.7|          26.9|2017-01-01T10:00|                   0.93|          51|                188|               177|          22.0|            9.8|           7.6|Blimbing|\n",
      "|                32.4|         94|              90|             24|             21|        22.1|                      0.48|          0.1|      1009.0| 0.1|                  72|           957.0|          27.5|2017-01-01T11:00|                   1.01|          51|                175|               159|          22.3|            7.6|           6.2|Blimbing|\n",
      "|                33.6|         95|              94|             18|             32|        22.1|                      0.54|          0.0|      1008.2| 0.0|                  70|           956.3|          28.0|2017-01-01T12:00|                   1.12|           3|                196|               170|          23.0|            5.2|           4.0|Blimbing|\n",
      "|                31.3|         97|              94|             20|             61|        21.1|                      0.51|          0.2|      1007.9| 0.2|                  70|           955.9|          27.1|2017-01-01T13:00|                   1.08|          51|                188|               180|          23.0|           10.2|           8.3|Blimbing|\n",
      "|                29.6|         96|              92|             27|             44|        21.5|                      0.38|          0.2|      1007.5| 0.2|                  76|           955.3|          26.1|2017-01-01T14:00|                   0.82|          51|                195|               185|          22.7|           10.0|           7.6|Blimbing|\n",
      "|                28.2|         99|              97|             38|             52|        21.8|                      0.25|          0.1|      1007.7| 0.1|                  82|           955.4|          25.2|2017-01-01T15:00|                   0.59|          51|                201|               193|          29.9|           17.3|          12.6|Blimbing|\n",
      "|                28.8|         98|              97|             40|             41|        22.1|                      0.17|          0.0|      1007.7| 0.0|                  84|           955.3|          24.9|2017-01-01T16:00|                   0.49|           3|                176|               162|          28.8|            9.4|           7.2|Blimbing|\n",
      "|                27.6|        100|              96|            100|             28|        21.4|                      0.09|          1.4|      1008.2| 1.4|                  87|           955.6|          23.8|2017-01-01T17:00|                   0.39|          61|                158|               146|          19.4|            7.8|           5.2|Blimbing|\n",
      "|                27.9|         96|              95|             37|             30|        22.1|                      0.02|          0.2|      1008.5| 0.2|                  93|           955.8|          23.2|2017-01-01T18:00|                   0.19|          51|                172|               101|          13.7|            2.5|           1.8|Blimbing|\n",
      "|                28.3|         98|              96|             42|             23|        22.4|                       0.0|          0.0|      1009.0| 0.0|                  93|           956.3|          23.5|2017-01-01T19:00|                    0.2|           3|                193|               157|           5.4|            6.6|           2.7|Blimbing|\n",
      "+--------------------+-----------+----------------+---------------+---------------+------------+--------------------------+-------------+------------+----+--------------------+----------------+--------------+----------------+-----------------------+------------+-------------------+------------------+--------------+---------------+--------------+--------+\n",
      "only showing top 20 rows\n",
      "\n"
     ]
    }
   ],
   "source": [
    "cleaned_psdf.show()"
   ]
  },
  {
   "cell_type": "code",
   "execution_count": 49,
   "id": "8d3c2ac9",
   "metadata": {},
   "outputs": [
    {
     "name": "stdout",
     "output_type": "stream",
     "text": [
      "+--------------------+-----------+----------------+---------------+---------------+------------+--------------------------+-------------+------------+----+--------------------+----------------+--------------+----------------+-----------------------+------------+-------------------+------------------+--------------+---------------+--------------+---------+\n",
      "|apparent_temperature|cloud_cover|cloud_cover_high|cloud_cover_low|cloud_cover_mid|dew_point_2m|et0_fao_evapotranspiration|precipitation|pressure_msl|rain|relative_humidity_2m|surface_pressure|temperature_2m|            time|vapour_pressure_deficit|weather_code|wind_direction_100m|wind_direction_10m|wind_gusts_10m|wind_speed_100m|wind_speed_10m| district|\n",
      "+--------------------+-----------+----------------+---------------+---------------+------------+--------------------------+-------------+------------+----+--------------------+----------------+--------------+----------------+-----------------------+------------+-------------------+------------------+--------------+---------------+--------------+---------+\n",
      "|                26.2|        100|             100|             27|             63|        21.4|                       0.0|          4.4|      1011.4| 4.4|                  97|           958.3|          22.0|2025-05-12T23:00|                   0.09|          63|                  5|               321|           4.7|            2.2|           2.6| Blimbing|\n",
      "|                25.4|        100|             100|             87|             88|        20.6|                       0.0|          3.6|      1011.4| 3.6|                  95|           948.4|          21.4|2025-05-12T23:00|                   0.12|          63|                342|               315|           4.0|            1.1|           1.5|Singosari|\n",
      "|                26.6|        100|             100|             27|             63|        21.7|                       0.0|          4.4|      1011.4| 4.4|                  97|           962.3|          22.2|2025-05-12T23:00|                   0.09|          63|                  5|               321|           4.7|            2.2|           2.6|    Sukun|\n",
      "|                16.3|        100|             100|              1|             48|        13.9|                       0.0|          2.2|      1012.3| 2.2|                  92|           833.0|          15.2|2025-05-12T23:00|                   0.14|          61|                122|                60|          10.1|            3.4|           1.5|    Wagir|\n",
      "|                25.7|        100|             100|             87|             88|        20.8|                       0.0|          3.6|      1011.4| 3.6|                  95|           952.0|          21.6|2025-05-12T23:00|                   0.12|          63|                342|               315|           4.0|            1.1|           1.5|Lowokwaru|\n",
      "+--------------------+-----------+----------------+---------------+---------------+------------+--------------------------+-------------+------------+----+--------------------+----------------+--------------+----------------+-----------------------+------------+-------------------+------------------+--------------+---------------+--------------+---------+\n",
      "\n"
     ]
    }
   ],
   "source": [
    "# Cek apakah data yang missing itu pada data terbaru\n",
    "tail_df = cleaned_psdf.orderBy(\"time\", ascending=False).limit(5)\n",
    "tail_df.show()"
   ]
  },
  {
   "cell_type": "markdown",
   "id": "363b2545",
   "metadata": {},
   "source": [
    "## Validating"
   ]
  },
  {
   "cell_type": "code",
   "execution_count": null,
   "id": "b49a036f",
   "metadata": {},
   "outputs": [],
   "source": []
  },
  {
   "cell_type": "markdown",
   "id": "02ae7241",
   "metadata": {},
   "source": [
    "# Load Data"
   ]
  },
  {
   "cell_type": "code",
   "execution_count": null,
   "id": "2cd1c976",
   "metadata": {},
   "outputs": [],
   "source": [
    "def save_to_couchdb(df, couchdb_url, db_name, username=None, password=None):\n",
    "    # Convert DataFrame ke list of dicts\n",
    "    records = df.toPandas().to_dict(orient='records')  # Jika data besar, gunakan df.rdd.map\n",
    "\n",
    "    # Auth\n",
    "    auth = (username, password) if username and password else None\n",
    "\n",
    "    # Buat database jika belum ada\n",
    "    db_url = f\"{couchdb_url}/{db_name}\"\n",
    "    response = requests.put(db_url, auth=auth)\n",
    "    if response.status_code not in [201, 412]:  # 412 = already exists\n",
    "        raise Exception(f\"Gagal membuat database: {response.text}\")\n",
    "\n",
    "    # Kirim data dalam bulk\n",
    "    bulk_url = f\"{db_url}/_bulk_docs\"\n",
    "    payload = {\"docs\": records}\n",
    "    headers = {\"Content-Type\": \"application/json\"}\n",
    "\n",
    "    response = requests.post(bulk_url, data=json.dumps(payload), headers=headers, auth=auth)\n",
    "    if response.status_code != 201:\n",
    "        raise Exception(f\"Gagal menyimpan data: {response.text}\")\n",
    "    else:\n",
    "        print(\"Data berhasil disimpan ke CouchDB.\")\n",
    "\n",
    "# Contoh penggunaan\n",
    "save_to_couchdb(df, couchdb_url=\"http://localhost:5984\", db_name=\"mydb\", username=\"admin\", password=\"password\")\n"
   ]
  },
  {
   "cell_type": "code",
   "execution_count": 5,
   "id": "5d5ad866",
   "metadata": {},
   "outputs": [
    {
     "data": {
      "text/plain": [
       "'2025-05-17T10:57:20.922109'"
      ]
     },
     "execution_count": 5,
     "metadata": {},
     "output_type": "execute_result"
    }
   ],
   "source": [
    "import datetime\n",
    "datetime.datetime.now().isoformat()"
   ]
  }
 ],
 "metadata": {
  "kernelspec": {
   "display_name": "rdvenv",
   "language": "python",
   "name": "python3"
  },
  "language_info": {
   "codemirror_mode": {
    "name": "ipython",
    "version": 3
   },
   "file_extension": ".py",
   "mimetype": "text/x-python",
   "name": "python",
   "nbconvert_exporter": "python",
   "pygments_lexer": "ipython3",
   "version": "3.9.22"
  }
 },
 "nbformat": 4,
 "nbformat_minor": 5
}
