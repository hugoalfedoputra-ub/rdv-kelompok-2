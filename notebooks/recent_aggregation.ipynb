{
 "cells": [
  {
   "cell_type": "markdown",
   "id": "37ea981e",
   "metadata": {},
   "source": [
    "# Goals\n",
    "* Menyamakan fitur dari tiap-tiap sumber adapun semua fitur yang telah diseleksi adalah sebagai berikut :\n",
    "1. `Temperature` (C)\n",
    "2. `Apparent Temperature / feels like` (C)\n",
    "3. `Precipitation` (mm)\n",
    "4. `Dewpoint` (C)\n",
    "5. `Humidity` (%)\n",
    "6. `Cloud` (Total)\n",
    "7. `wind speed` (km/h)\n",
    "8. `wind degree` (km/h)\n",
    "9. `wind gust` (km/h)\n",
    "\n",
    "* Menyamakan satuan tiap fitur, adapun yang perlu dilakukan :\n",
    "1. Pada weatherapi.com ada pilihan field untuk satuan yang berbeda, yang perlu dilakukan hanya seleksi\n",
    "2. Pada open-meteo juga ada pilihan query untuk memilih satuan, tidak perlu dilakukan pengubahan satuan ukur\n",
    "3. Pada openweathermap.com tidak ada pilihan untuk mengubah satuan, yang perlu diganti adalah pada semua fitur `wind`\n",
    "\n",
    "* Melakukan aggregasi"
   ]
  },
  {
   "cell_type": "code",
   "execution_count": 103,
   "id": "2810b007",
   "metadata": {},
   "outputs": [],
   "source": [
    "import os\n",
    "import sys\n",
    "import requests\n",
    "\n",
    "from pyspark.sql import DataFrame\n",
    "from dotenv import load_dotenv\n",
    "from datetime import datetime, timedelta\n",
    "from pyspark.sql import SparkSession\n",
    "from pyspark.sql.functions import col, sum, row_number, lit, avg"
   ]
  },
  {
   "cell_type": "code",
   "execution_count": 41,
   "id": "4440c573",
   "metadata": {},
   "outputs": [],
   "source": [
    "# Load api key\n",
    "load_dotenv()\n",
    "FREEWEATHER_KEY = os.getenv(\"FREEWEATHER_KEY\")\n",
    "OPENWEATHERMAP_KEY = os.getenv(\"OPENWEATHERMAP_KEY\")\n",
    "\n",
    "# Tambahkan 2 baris ini agar spark mengenali env python\n",
    "os.environ['PYSPARK_PYTHON'] = sys.executable\n",
    "os.environ['PYSPARK_DRIVER_PYTHON'] = sys.executable"
   ]
  },
  {
   "cell_type": "code",
   "execution_count": 4,
   "id": "75294fec",
   "metadata": {},
   "outputs": [],
   "source": [
    "# Buat spark session terlebih dahulu\n",
    "spark = SparkSession.builder \\\n",
    "    .appName(\"rdv-project\") \\\n",
    "    .master(\"local[*]\") \\\n",
    "    .getOrCreate()"
   ]
  },
  {
   "cell_type": "code",
   "execution_count": null,
   "id": "2539e3c9",
   "metadata": {},
   "outputs": [],
   "source": [
    "\"\"\"\n",
    "Malang sendiri sebenarnya tidak memiliki stasiun pengukuran dari BMKG\n",
    "Oleh karena itu latitude dan longitude di bawah ini menunjukkan \n",
    "koordinat dari kota malang seluruhnya\n",
    "\"\"\"\n",
    "# --------------------------- Parameter API -------------------------\n",
    "\n",
    "# Latitude & Longitude utk Malang\n",
    "locations = {\n",
    "    \"Klojen\":(-7.969421375342755, 112.6285308513895),\n",
    "    \"Blimbing\":(-7.945926995201971, 112.64310740385885),\n",
    "    \"Sukun\":(-7.987926536974757, 112.6100743302227),\n",
    "    \"Lowokwaru\":(-7.9348455775950795, 112.60665573821122),\n",
    "    \"Lawang\":(-7.828716329007881, 112.70181673602366),\n",
    "    \"Singosari\":(-7.875350536265517, 112.64837233274164),\n",
    "    \"Kepanjen\":(-8.11761411293624, 112.57906911889476),\n",
    "    \"Pakis\":(-7.958180248694484, 112.71010117082125),\n",
    "    \"Wagir\":(-7.980111689103741, 112.49397160866646),\n",
    "    \"Tumpang\":(-8.007270828630284, 112.74768804369178)\n",
    "}\n",
    "\n",
    "# List Fitur untuk open-meteo\n",
    "feature_list = [\n",
    "    \"temperature_2m\",\n",
    "    \"relative_humidity_2m\",\n",
    "    \"precipitation\",\n",
    "    \"wind_speed_10m\",\n",
    "    \"wind_direction_10m\",\n",
    "    \"wind_gusts_10m\",\n",
    "    \"apparent_temperature\",\n",
    "    \"cloud_cover\",\n",
    "    \"dew_point_2m\"\n",
    "]\n",
    "features = \",\".join(feature_list)\n",
    "\n",
    "# Timestamp hari ini\n",
    "today = datetime.today()\n",
    "today_str = today.strftime(\"%Y-%m-%d\")\n",
    "timestamp_today = today.timestamp()"
   ]
  },
  {
   "cell_type": "code",
   "execution_count": 24,
   "id": "a6fdae4e",
   "metadata": {},
   "outputs": [
    {
     "name": "stdout",
     "output_type": "stream",
     "text": [
      "Getting recent data for Klojen\n",
      "Getting recent data for Blimbing\n",
      "Getting recent data for Sukun\n",
      "Getting recent data for Lowokwaru\n",
      "Getting recent data for Lawang\n",
      "Getting recent data for Singosari\n",
      "Getting recent data for Kepanjen\n",
      "Getting recent data for Pakis\n",
      "Getting recent data for Wagir\n",
      "Getting recent data for Tumpang\n"
     ]
    }
   ],
   "source": [
    "weatherapi_psdf = None\n",
    "\n",
    "for district in locations.keys() :\n",
    "    latitude = locations[district][0]\n",
    "    longitude = locations[district][1]\n",
    "\n",
    "    # recent weather url call for weatherapi\n",
    "    weatherapi_url = f\"http://api.weatherapi.com/v1/current.json?key={FREEWEATHER_KEY}&q={latitude},{longitude}\"\n",
    "\n",
    "    success = False\n",
    "    attempts = 0\n",
    "    \n",
    "    # openmeteo call\n",
    "    while not success and attempts < 3:\n",
    "        try:\n",
    "            print(f\"Getting recent data for {district}\")\n",
    "            response = requests.get(weatherapi_url)\n",
    "            if response.status_code == 200:\n",
    "                data = response.json()['current']\n",
    "                num_records = len(data)\n",
    "                rows = [data]\n",
    "                psdf = spark.read.json(spark.sparkContext.parallelize(rows))\n",
    "                psdf = psdf.withColumn(\"district\", lit(district)) \\\n",
    "                        .withColumn(\"latitude\", lit(latitude)) \\\n",
    "                        .withColumn(\"longitude\", lit(longitude))\n",
    "\n",
    "                if weatherapi_psdf is None:\n",
    "                    weatherapi_psdf = psdf\n",
    "                else:\n",
    "                    weatherapi_psdf = weatherapi_psdf.unionByName(psdf)\n",
    "\n",
    "                if \"_corrupt_record\" in weatherapi_psdf.columns:\n",
    "                    weatherapi_psdf = weatherapi_psdf.drop(\"_corrupt_record\")\n",
    "                \n",
    "                success = True\n",
    "\n",
    "            else :\n",
    "                print(f\"Can't fetch data, status code: {response.status_code}\")\n",
    "                print(f\"Retrying... (Attempts {attempts+1}/3)\")\n",
    "                attempts += 1\n",
    "\n",
    "        except Exception as e:\n",
    "            print(f\"Error while getting recent data for {district}. Message: {e}. Retrying...\")\n",
    "            print(f\"Retrying... (Attempts {attempts+1}/3)\")\n",
    "            attempts += 1"
   ]
  },
  {
   "cell_type": "code",
   "execution_count": 25,
   "id": "5b6fbf47",
   "metadata": {},
   "outputs": [
    {
     "name": "stdout",
     "output_type": "stream",
     "text": [
      "+-----+--------------------+----------+----------+-----------+-----------+--------+--------+-----------+-----------+--------+------+----------------+------------------+---------+---------+-----------+-----------+------+------+---+------+---------+-----------+--------+--------+--------+-----------+-----------+---------+-------------------+------------------+\n",
      "|cloud|           condition|dewpoint_c|dewpoint_f|feelslike_c|feelslike_f|gust_kph|gust_mph|heatindex_c|heatindex_f|humidity|is_day|    last_updated|last_updated_epoch|precip_in|precip_mm|pressure_in|pressure_mb|temp_c|temp_f| uv|vis_km|vis_miles|wind_degree|wind_dir|wind_kph|wind_mph|windchill_c|windchill_f| district|           latitude|         longitude|\n",
      "+-----+--------------------+----------+----------+-----------+-----------+--------+--------+-----------+-----------+--------+------+----------------+------------------+---------+---------+-----------+-----------+------+------+---+------+---------+-----------+--------+--------+--------+-----------+-----------+---------+-------------------+------------------+\n",
      "|   83|{1240, //cdn.weat...|      22.5|      72.4|       28.3|       83.0|    10.8|     6.7|       28.3|       83.0|      82|     1|2025-05-21 11:45|        1747802700|     0.03|     0.71|      29.86|     1011.0|  25.8|  78.4|7.1|  10.0|      6.0|        223|      SW|     3.6|     2.2|       25.8|       78.4|   Klojen| -7.969421375342755| 112.6285308513895|\n",
      "|   83|{1240, //cdn.weat...|      22.5|      72.4|       28.3|       83.0|    10.8|     6.7|       28.3|       83.0|      82|     1|2025-05-21 11:45|        1747802700|     0.03|     0.71|      29.86|     1011.0|  25.8|  78.4|7.1|  10.0|      6.0|        223|      SW|     3.6|     2.2|       25.8|       78.4| Blimbing| -7.945926995201971|112.64310740385885|\n",
      "|   83|{1240, //cdn.weat...|      22.5|      72.4|       28.3|       83.0|    10.8|     6.7|       28.3|       83.0|      82|     1|2025-05-21 11:45|        1747802700|     0.03|     0.71|      29.86|     1011.0|  25.8|  78.4|7.1|  10.0|      6.0|        223|      SW|     3.6|     2.2|       25.8|       78.4|    Sukun| -7.987926536974757| 112.6100743302227|\n",
      "|   83|{1240, //cdn.weat...|      22.5|      72.4|       28.3|       83.0|    10.8|     6.7|       28.3|       83.0|      82|     1|2025-05-21 11:45|        1747802700|     0.03|     0.71|      29.86|     1011.0|  25.8|  78.4|7.1|  10.0|      6.0|        223|      SW|     3.6|     2.2|       25.8|       78.4|Lowokwaru|-7.9348455775950795|112.60665573821122|\n",
      "|   25|{1240, //cdn.weat...|      22.1|      71.7|       39.5|      103.0|     4.1|     2.5|       29.1|       84.3|      75|     1|2025-05-21 11:45|        1747802700|     0.03|     0.84|      29.77|     1008.0|  31.1|  88.0|7.2|  10.0|      6.0|        357|       N|     3.6|     2.2|       26.5|       79.8|   Lawang| -7.828716329007881|112.70181673602366|\n",
      "|   25|{1240, //cdn.weat...|      22.1|      71.7|       39.5|      103.0|     4.1|     2.5|       29.1|       84.3|      75|     1|2025-05-21 11:45|        1747802700|     0.03|     0.84|      29.77|     1008.0|  31.1|  88.0|7.2|  10.0|      6.0|        357|       N|     3.6|     2.2|       26.5|       79.8|Singosari| -7.875350536265517|112.64837233274164|\n",
      "|   74|{1240, //cdn.weat...|      22.6|      72.7|       29.5|       85.0|    11.5|     7.1|       29.5|       85.0|      78|     1|2025-05-21 11:45|        1747802700|     0.03|     0.87|      29.82|     1010.0|  26.6|  80.0|8.8|  10.0|      6.0|        147|     SSE|     8.3|     5.1|       26.7|       80.0| Kepanjen|  -8.11761411293624|112.57906911889476|\n",
      "|   25|{1240, //cdn.weat...|      22.1|      71.7|       39.5|      103.0|     4.1|     2.5|       29.1|       84.3|      75|     1|2025-05-21 11:45|        1747802700|     0.03|     0.84|      29.77|     1008.0|  31.1|  88.0|7.2|  10.0|      6.0|        357|       N|     3.6|     2.2|       26.5|       79.8|    Pakis| -7.958180248694484|112.71010117082125|\n",
      "|   96|{1240, //cdn.weat...|      21.2|      70.2|       25.4|       77.6|    10.8|     6.7|       25.4|       77.6|      89|     1|2025-05-21 11:45|        1747802700|     0.05|     1.21|      29.84|     1011.0|  23.2|  73.7|6.2|  10.0|      6.0|        188|       S|     3.6|     2.2|       23.2|       73.7|    Wagir| -7.980111689103741|112.49397160866646|\n",
      "|   98|{1240, //cdn.weat...|      22.8|      73.0|       28.1|       82.5|    10.8|     6.7|       28.1|       82.5|      85|     1|2025-05-21 12:00|        1747803600|     0.05|     1.21|      29.83|     1010.0|  25.4|  77.8|4.8|  10.0|      6.0|        219|      SW|     3.6|     2.2|       25.5|       77.8|  Tumpang| -8.007270828630284|112.74768804369178|\n",
      "+-----+--------------------+----------+----------+-----------+-----------+--------+--------+-----------+-----------+--------+------+----------------+------------------+---------+---------+-----------+-----------+------+------+---+------+---------+-----------+--------+--------+--------+-----------+-----------+---------+-------------------+------------------+\n",
      "\n"
     ]
    }
   ],
   "source": [
    "weatherapi_psdf.show()"
   ]
  },
  {
   "cell_type": "code",
   "execution_count": 30,
   "id": "4e0b9d94",
   "metadata": {},
   "outputs": [
    {
     "name": "stdout",
     "output_type": "stream",
     "text": [
      "Getting recent data for Klojen\n",
      "Getting recent data for Blimbing\n",
      "Getting recent data for Sukun\n",
      "Getting recent data for Lowokwaru\n",
      "Getting recent data for Lawang\n",
      "Getting recent data for Singosari\n",
      "Getting recent data for Kepanjen\n",
      "Getting recent data for Pakis\n",
      "Getting recent data for Wagir\n",
      "Getting recent data for Tumpang\n"
     ]
    }
   ],
   "source": [
    "openmeteo_psdf = None\n",
    "\n",
    "for district in locations.keys() :\n",
    "    latitude = locations[district][0]\n",
    "    longitude = locations[district][1]\n",
    "    today = datetime.today()\n",
    "    end_date = today.strftime(\"%Y-%m-%d\")\n",
    "    start_date = end_date\n",
    "\n",
    "    # recent weather url call for openmeteo\n",
    "    openmeteo_url = f\"https://api.open-meteo.com/v1/forecast?latitude={latitude}&longitude={longitude}&hourly={features}&start_date={start_date}&end_date={end_date}\"\n",
    "\n",
    "    success = False\n",
    "    attempts = 0\n",
    "\n",
    "    # openmeteo call\n",
    "    while not success and attempts < 3:\n",
    "        try:\n",
    "            print(f\"Getting recent data for {district}\")\n",
    "            response = requests.get(openmeteo_url)\n",
    "            if response.status_code == 200:\n",
    "                data = response.json()['hourly']\n",
    "                num_records = len(data['time'])\n",
    "                rows = [\n",
    "                    {key: data[key][i] for key in data}\n",
    "                    for i in range(num_records)\n",
    "                ]\n",
    "                psdf = spark.read.json(spark.sparkContext.parallelize(rows))\n",
    "                psdf = psdf.withColumn(\"district\", lit(district)) \\\n",
    "                        .withColumn(\"latitude\", lit(latitude)) \\\n",
    "                        .withColumn(\"longitude\", lit(longitude))\n",
    "\n",
    "                if openmeteo_psdf is None:\n",
    "                    openmeteo_psdf = psdf\n",
    "                else:\n",
    "                    openmeteo_psdf = openmeteo_psdf.unionByName(psdf)\n",
    "\n",
    "                if \"_corrupt_record\" in psdf.columns:\n",
    "                    psdf = psdf.drop(\"_corrupt_record\")\n",
    "                \n",
    "                success = True\n",
    "\n",
    "            else :\n",
    "                print(f\"Can't fetch data, status code: {response.status_code}\")\n",
    "                print(f\"Retrying... (Attempts {attempts+1}/3)\")\n",
    "                attempts += 1\n",
    "\n",
    "        except Exception as e:\n",
    "            print(f\"Error while getting recent data for {district}. Message: {e}. Retrying...\")\n",
    "            print(f\"Retrying... (Attempts {attempts+1}/3)\")\n",
    "            attempts += 1"
   ]
  },
  {
   "cell_type": "code",
   "execution_count": 32,
   "id": "2215be21",
   "metadata": {},
   "outputs": [
    {
     "name": "stdout",
     "output_type": "stream",
     "text": [
      "+--------------------+-----------+------------+-------------+--------------------+--------------+----------------+------------------+--------------+--------------+--------+------------------+-----------------+\n",
      "|apparent_temperature|cloud_cover|dew_point_2m|precipitation|relative_humidity_2m|temperature_2m|            time|wind_direction_10m|wind_gusts_10m|wind_speed_10m|district|          latitude|        longitude|\n",
      "+--------------------+-----------+------------+-------------+--------------------+--------------+----------------+------------------+--------------+--------------+--------+------------------+-----------------+\n",
      "|                27.5|         93|        22.1|          0.0|                  95|          23.0|2025-05-21T00:00|               297|           9.7|           3.2|  Klojen|-7.969421375342755|112.6285308513895|\n",
      "|                29.4|        100|        22.1|          0.0|                  84|          25.0|2025-05-21T01:00|               241|           8.3|           3.7|  Klojen|-7.969421375342755|112.6285308513895|\n",
      "|                31.4|        100|        21.9|          0.0|                  74|          26.9|2025-05-21T02:00|               203|           8.3|           2.7|  Klojen|-7.969421375342755|112.6285308513895|\n",
      "|                33.3|        100|        21.9|          0.0|                  68|          28.4|2025-05-21T03:00|               163|           9.4|           3.8|  Klojen|-7.969421375342755|112.6285308513895|\n",
      "|                34.0|        100|        22.0|          0.0|                  65|          29.2|2025-05-21T04:00|               159|          15.1|           7.0|  Klojen|-7.969421375342755|112.6285308513895|\n",
      "|                34.2|        100|        22.4|          0.1|                  67|          29.2|2025-05-21T05:00|               173|          15.8|           6.2|  Klojen|-7.969421375342755|112.6285308513895|\n",
      "|                33.2|        100|        22.5|          0.0|                  69|          28.8|2025-05-21T06:00|               141|          18.0|           6.9|  Klojen|-7.969421375342755|112.6285308513895|\n",
      "|                32.1|         92|        22.3|          0.8|                  72|          27.8|2025-05-21T07:00|               128|          15.8|           5.9|  Klojen|-7.969421375342755|112.6285308513895|\n",
      "|                30.9|         90|        22.2|          0.8|                  75|          27.0|2025-05-21T08:00|               147|          16.9|           7.3|  Klojen|-7.969421375342755|112.6285308513895|\n",
      "|                30.3|         83|        22.2|          0.5|                  78|          26.4|2025-05-21T09:00|               151|          16.9|           7.4|  Klojen|-7.969421375342755|112.6285308513895|\n",
      "|                29.5|         86|        22.3|          0.4|                  83|          25.4|2025-05-21T10:00|               155|          15.8|           6.8|  Klojen|-7.969421375342755|112.6285308513895|\n",
      "|                29.1|         87|        22.3|          0.1|                  87|          24.6|2025-05-21T11:00|               143|          12.6|           3.6|  Klojen|-7.969421375342755|112.6285308513895|\n",
      "|                29.0|         90|        22.2|          0.1|                  89|          24.2|2025-05-21T12:00|               180|           6.8|           1.4|  Klojen|-7.969421375342755|112.6285308513895|\n",
      "|                28.6|         89|        22.3|          0.1|                  91|          23.9|2025-05-21T13:00|               236|           4.7|           2.6|  Klojen|-7.969421375342755|112.6285308513895|\n",
      "|                28.5|         90|        22.3|          0.0|                  92|          23.7|2025-05-21T14:00|               261|           4.7|           2.2|  Klojen|-7.969421375342755|112.6285308513895|\n",
      "|                28.4|         94|        22.4|          0.0|                  93|          23.6|2025-05-21T15:00|               270|           4.0|           2.2|  Klojen|-7.969421375342755|112.6285308513895|\n",
      "|                28.4|         94|        22.4|          0.0|                  94|          23.5|2025-05-21T16:00|               281|           4.0|           1.8|  Klojen|-7.969421375342755|112.6285308513895|\n",
      "|                28.1|         91|        22.2|          0.0|                  94|          23.3|2025-05-21T17:00|               307|           3.6|           1.8|  Klojen|-7.969421375342755|112.6285308513895|\n",
      "|                27.8|         91|        22.3|          0.0|                  96|          23.0|2025-05-21T18:00|               309|           4.0|           2.3|  Klojen|-7.969421375342755|112.6285308513895|\n",
      "|                27.7|         92|        22.3|          0.0|                  97|          22.8|2025-05-21T19:00|               304|           4.0|           1.3|  Klojen|-7.969421375342755|112.6285308513895|\n",
      "+--------------------+-----------+------------+-------------+--------------------+--------------+----------------+------------------+--------------+--------------+--------+------------------+-----------------+\n",
      "only showing top 20 rows\n",
      "\n"
     ]
    }
   ],
   "source": [
    "openmeteo_psdf.show()"
   ]
  },
  {
   "cell_type": "code",
   "execution_count": 83,
   "id": "33135f4d",
   "metadata": {},
   "outputs": [
    {
     "name": "stdout",
     "output_type": "stream",
     "text": [
      "Getting recent data for Klojen\n",
      "Getting recent data for Blimbing\n",
      "Getting recent data for Sukun\n",
      "Getting recent data for Lowokwaru\n",
      "Getting recent data for Lawang\n",
      "Getting recent data for Singosari\n",
      "Getting recent data for Kepanjen\n",
      "Getting recent data for Pakis\n",
      "Getting recent data for Wagir\n",
      "Getting recent data for Tumpang\n"
     ]
    }
   ],
   "source": [
    "openweathermap_psdf = None\n",
    "\n",
    "for district in locations.keys():\n",
    "    latitude = locations[district][0]\n",
    "    longitude = locations[district][1]\n",
    "    \n",
    "    openweathermap_url = f\"https://api.openweathermap.org/data/2.5/weather?lat={latitude}&lon={longitude}&appid={OPENWEATHERMAP_KEY}&units=metric\"\n",
    "\n",
    "    success = False\n",
    "    attempts = 0\n",
    "\n",
    "    while not success and attempts < 3:\n",
    "        try:\n",
    "            print(f\"Getting recent data for {district}\")\n",
    "            response = requests.get(openweathermap_url)\n",
    "            if response.status_code == 200:\n",
    "                data = response.json()\n",
    "\n",
    "                flat_weather = {\n",
    "                    \"temperature_c\": data['main'].get(\"temp\"),\n",
    "                    \"feels_like_c\": data['main'].get(\"feels_like\"),\n",
    "                    \"humidity_pct\": data['main'].get(\"humidity\"),\n",
    "                    \"cloud_total_pct\": data['clouds'].get(\"all\"),\n",
    "                    \"wind_speed_kmph\": round(data['wind'].get(\"speed\", 0) * 3.6, 2),\n",
    "                    \"wind_deg\": data['wind'].get(\"deg\"),\n",
    "                    \"wind_gust_kmph\": round(data['wind'].get(\"gust\", 0) * 3.6, 2)\n",
    "                }\n",
    "\n",
    "                psdf = spark.read.json(spark.sparkContext.parallelize([flat_weather]))\n",
    "                psdf = psdf.withColumn(\"district\", lit(district)) \\\n",
    "                           .withColumn(\"latitude\", lit(latitude)) \\\n",
    "                           .withColumn(\"longitude\", lit(longitude))\n",
    "\n",
    "                if openweathermap_psdf is None:\n",
    "                    openweathermap_psdf = psdf\n",
    "                else:\n",
    "                    openweathermap_psdf = openweathermap_psdf.unionByName(psdf)\n",
    "\n",
    "                if \"_corrupt_record\" in openweathermap_psdf.columns:\n",
    "                    openweathermap_psdf = openweathermap_psdf.drop(\"_corrupt_record\")\n",
    "\n",
    "                success = True\n",
    "\n",
    "            else:\n",
    "                print(f\"Can't fetch data, status code: {response.status_code}\")\n",
    "                print(f\"Retrying... (Attempts {attempts+1}/3)\")\n",
    "                attempts += 1\n",
    "\n",
    "        except Exception as e:\n",
    "            print(f\"Error while getting recent data for {district}. Message: {e}. Retrying...\")\n",
    "            attempts += 1"
   ]
  },
  {
   "cell_type": "code",
   "execution_count": 82,
   "id": "bb7fe863",
   "metadata": {},
   "outputs": [
    {
     "name": "stdout",
     "output_type": "stream",
     "text": [
      "+---------------+------------+------------+-------------+--------+--------------+---------------+--------+------------------+-----------------+\n",
      "|cloud_total_pct|feels_like_c|humidity_pct|temperature_c|wind_deg|wind_gust_kmph|wind_speed_kmph|district|          latitude|        longitude|\n",
      "+---------------+------------+------------+-------------+--------+--------------+---------------+--------+------------------+-----------------+\n",
      "|             98|       37.23|          98|        30.23|     222|          4.43|           3.89|  Klojen|-7.969421375342755|112.6285308513895|\n",
      "+---------------+------------+------------+-------------+--------+--------------+---------------+--------+------------------+-----------------+\n",
      "\n"
     ]
    }
   ],
   "source": [
    "openweathermap_psdf.show()"
   ]
  },
  {
   "cell_type": "markdown",
   "id": "65f18642",
   "metadata": {},
   "source": [
    "# Aggregat"
   ]
  },
  {
   "cell_type": "code",
   "execution_count": 93,
   "id": "05e9ba62",
   "metadata": {},
   "outputs": [],
   "source": [
    "standard_col_map = {\n",
    "    # Temperature\n",
    "    \"temperature_2m\": \"temperature_c\",\n",
    "    \"temp_c\": \"temperature_c\",\n",
    "    \"temperature_c\": \"temperature_c\",\n",
    "\n",
    "    # Feels like\n",
    "    \"feelslike_c\": \"feels_like_c\",\n",
    "    \"feels_like_c\": \"feels_like_c\",\n",
    "\n",
    "    # Humidity\n",
    "    \"relative_humidity_2m\": \"humidity_pct\",\n",
    "    \"humidity\": \"humidity_pct\",\n",
    "    \"humidity_pct\": \"humidity_pct\",\n",
    "\n",
    "    # Wind speed\n",
    "    \"wind_speed_10m\": \"wind_speed_kmph\",\n",
    "    \"wind_kph\": \"wind_speed_kmph\",\n",
    "    \"wind_speed_kmph\": \"wind_speed_kmph\",\n",
    "\n",
    "    # Wind gust\n",
    "    \"wind_gusts_10m\": \"wind_gust_kmph\",\n",
    "    \"gust_kph\": \"wind_gust_kmph\",\n",
    "    \"wind_gust_kmph\": \"wind_gust_kmph\",\n",
    "\n",
    "    # Wind degree\n",
    "    \"wind_direction_10m\": \"wind_deg\",\n",
    "    \"wind_degree\": \"wind_deg\",\n",
    "    \"wind_deg\": \"wind_deg\",\n",
    "\n",
    "    # Cloud\n",
    "    \"cloud_cover\": \"cloud_total_pct\",\n",
    "    \"cloud\": \"cloud_total_pct\",\n",
    "    \"cloud_total_pct\": \"cloud_total_pct\",\n",
    "\n",
    "    # Lokasi\n",
    "    \"district\": \"district\",\n",
    "    \"latitude\": \"latitude\",\n",
    "    \"longitude\": \"longitude\"\n",
    "}"
   ]
  },
  {
   "cell_type": "code",
   "execution_count": 94,
   "id": "aef1b1d4",
   "metadata": {},
   "outputs": [],
   "source": [
    "def standardize_columns(df, col_map):\n",
    "    renamed_cols = [col(c).alias(col_map[c]) for c in df.columns if c in col_map]\n",
    "    return df.select(*renamed_cols)"
   ]
  },
  {
   "cell_type": "code",
   "execution_count": 98,
   "id": "18f7c90a",
   "metadata": {},
   "outputs": [],
   "source": [
    "openmeteo_psdf = standardize_columns(openmeteo_psdf, standard_col_map)\n",
    "weatherapi_psdf = standardize_columns(weatherapi_psdf, standard_col_map)\n",
    "openweathermap_psdf = standardize_columns(openweathermap_psdf, standard_col_map)"
   ]
  },
  {
   "cell_type": "code",
   "execution_count": 100,
   "id": "5565901e",
   "metadata": {},
   "outputs": [
    {
     "name": "stdout",
     "output_type": "stream",
     "text": [
      "+---------------+------------+-------------+--------+--------------+---------------+--------+------------------+-----------------+\n",
      "|cloud_total_pct|humidity_pct|temperature_c|wind_deg|wind_gust_kmph|wind_speed_kmph|district|          latitude|        longitude|\n",
      "+---------------+------------+-------------+--------+--------------+---------------+--------+------------------+-----------------+\n",
      "|             93|          95|         23.0|     297|           9.7|            3.2|  Klojen|-7.969421375342755|112.6285308513895|\n",
      "|            100|          84|         25.0|     241|           8.3|            3.7|  Klojen|-7.969421375342755|112.6285308513895|\n",
      "|            100|          74|         26.9|     203|           8.3|            2.7|  Klojen|-7.969421375342755|112.6285308513895|\n",
      "|            100|          68|         28.4|     163|           9.4|            3.8|  Klojen|-7.969421375342755|112.6285308513895|\n",
      "|            100|          65|         29.2|     159|          15.1|            7.0|  Klojen|-7.969421375342755|112.6285308513895|\n",
      "|            100|          67|         29.2|     173|          15.8|            6.2|  Klojen|-7.969421375342755|112.6285308513895|\n",
      "|            100|          69|         28.8|     141|          18.0|            6.9|  Klojen|-7.969421375342755|112.6285308513895|\n",
      "|             92|          72|         27.8|     128|          15.8|            5.9|  Klojen|-7.969421375342755|112.6285308513895|\n",
      "|             90|          75|         27.0|     147|          16.9|            7.3|  Klojen|-7.969421375342755|112.6285308513895|\n",
      "|             83|          78|         26.4|     151|          16.9|            7.4|  Klojen|-7.969421375342755|112.6285308513895|\n",
      "|             86|          83|         25.4|     155|          15.8|            6.8|  Klojen|-7.969421375342755|112.6285308513895|\n",
      "|             87|          87|         24.6|     143|          12.6|            3.6|  Klojen|-7.969421375342755|112.6285308513895|\n",
      "|             90|          89|         24.2|     180|           6.8|            1.4|  Klojen|-7.969421375342755|112.6285308513895|\n",
      "|             89|          91|         23.9|     236|           4.7|            2.6|  Klojen|-7.969421375342755|112.6285308513895|\n",
      "|             90|          92|         23.7|     261|           4.7|            2.2|  Klojen|-7.969421375342755|112.6285308513895|\n",
      "|             94|          93|         23.6|     270|           4.0|            2.2|  Klojen|-7.969421375342755|112.6285308513895|\n",
      "|             94|          94|         23.5|     281|           4.0|            1.8|  Klojen|-7.969421375342755|112.6285308513895|\n",
      "|             91|          94|         23.3|     307|           3.6|            1.8|  Klojen|-7.969421375342755|112.6285308513895|\n",
      "|             91|          96|         23.0|     309|           4.0|            2.3|  Klojen|-7.969421375342755|112.6285308513895|\n",
      "|             92|          97|         22.8|     304|           4.0|            1.3|  Klojen|-7.969421375342755|112.6285308513895|\n",
      "+---------------+------------+-------------+--------+--------------+---------------+--------+------------------+-----------------+\n",
      "only showing top 20 rows\n",
      "\n"
     ]
    }
   ],
   "source": [
    "openmeteo_psdf.show()"
   ]
  },
  {
   "cell_type": "code",
   "execution_count": 101,
   "id": "76d8e858",
   "metadata": {},
   "outputs": [
    {
     "name": "stdout",
     "output_type": "stream",
     "text": [
      "+---------------+------------+--------------+------------+-------------+--------+---------------+---------+-------------------+------------------+\n",
      "|cloud_total_pct|feels_like_c|wind_gust_kmph|humidity_pct|temperature_c|wind_deg|wind_speed_kmph| district|           latitude|         longitude|\n",
      "+---------------+------------+--------------+------------+-------------+--------+---------------+---------+-------------------+------------------+\n",
      "|             83|        28.3|          10.8|          82|         25.8|     223|            3.6|   Klojen| -7.969421375342755| 112.6285308513895|\n",
      "|             83|        28.3|          10.8|          82|         25.8|     223|            3.6| Blimbing| -7.945926995201971|112.64310740385885|\n",
      "|             83|        28.3|          10.8|          82|         25.8|     223|            3.6|    Sukun| -7.987926536974757| 112.6100743302227|\n",
      "|             83|        28.3|          10.8|          82|         25.8|     223|            3.6|Lowokwaru|-7.9348455775950795|112.60665573821122|\n",
      "|             25|        39.5|           4.1|          75|         31.1|     357|            3.6|   Lawang| -7.828716329007881|112.70181673602366|\n",
      "|             25|        39.5|           4.1|          75|         31.1|     357|            3.6|Singosari| -7.875350536265517|112.64837233274164|\n",
      "|             74|        29.5|          11.5|          78|         26.6|     147|            8.3| Kepanjen|  -8.11761411293624|112.57906911889476|\n",
      "|             25|        39.5|           4.1|          75|         31.1|     357|            3.6|    Pakis| -7.958180248694484|112.71010117082125|\n",
      "|             96|        25.4|          10.8|          89|         23.2|     188|            3.6|    Wagir| -7.980111689103741|112.49397160866646|\n",
      "|             98|        28.1|          10.8|          85|         25.4|     219|            3.6|  Tumpang| -8.007270828630284|112.74768804369178|\n",
      "+---------------+------------+--------------+------------+-------------+--------+---------------+---------+-------------------+------------------+\n",
      "\n"
     ]
    }
   ],
   "source": [
    "weatherapi_psdf.show()"
   ]
  },
  {
   "cell_type": "code",
   "execution_count": 102,
   "id": "c8a97794",
   "metadata": {},
   "outputs": [
    {
     "name": "stdout",
     "output_type": "stream",
     "text": [
      "+---------------+------------+------------+-------------+--------+--------------+---------------+---------+-------------------+------------------+\n",
      "|cloud_total_pct|feels_like_c|humidity_pct|temperature_c|wind_deg|wind_gust_kmph|wind_speed_kmph| district|           latitude|         longitude|\n",
      "+---------------+------------+------------+-------------+--------+--------------+---------------+---------+-------------------+------------------+\n",
      "|             98|       37.23|          98|        30.23|     222|          4.43|           3.89|   Klojen| -7.969421375342755| 112.6285308513895|\n",
      "|             99|       36.99|          99|        29.99|     240|          3.71|           3.06| Blimbing| -7.945926995201971|112.64310740385885|\n",
      "|             98|       36.96|          98|        29.96|     210|          4.75|           4.14|    Sukun| -7.987926536974757| 112.6100743302227|\n",
      "|             98|       36.78|          98|        29.78|     224|          3.96|            3.1|Lowokwaru|-7.9348455775950795|112.60665573821122|\n",
      "|            100|       36.68|          93|        29.68|     342|          3.67|           4.54|   Lawang| -7.828716329007881|112.70181673602366|\n",
      "|            100|       35.88|          97|        28.88|     295|          3.13|           2.45|Singosari| -7.875350536265517|112.64837233274164|\n",
      "|             95|       38.03|          94|        31.03|     173|         11.88|           9.61| Kepanjen|  -8.11761411293624|112.57906911889476|\n",
      "|            100|       36.84|          97|        29.84|     267|          3.31|           3.13|    Pakis| -7.958180248694484|112.71010117082125|\n",
      "|             94|       20.23|          96|         19.7|     173|          6.48|           5.44|    Wagir| -7.980111689103741|112.49397160866646|\n",
      "|             99|       36.67|          96|        29.67|     232|          4.68|           3.53|  Tumpang| -8.007270828630284|112.74768804369178|\n",
      "+---------------+------------+------------+-------------+--------+--------------+---------------+---------+-------------------+------------------+\n",
      "\n"
     ]
    }
   ],
   "source": [
    "openweathermap_psdf.show()"
   ]
  },
  {
   "cell_type": "code",
   "execution_count": 104,
   "id": "83a0d287",
   "metadata": {},
   "outputs": [],
   "source": [
    "def aggregate_common_columns(dfs: list[DataFrame], group_cols: list[str] = [\"district\", \"latitude\", \"longitude\"]) -> DataFrame:\n",
    "    \"\"\"\n",
    "    Menggabungkan dan mengagregasi kolom-kolom yang sama dari beberapa DataFrame PySpark.\n",
    "    \n",
    "    Args:\n",
    "        dfs (List[DataFrame]): Daftar DataFrame PySpark.\n",
    "        group_cols (List[str]): Kolom yang dijadikan dasar pengelompokan/agregasi.\n",
    "    \n",
    "    Returns:\n",
    "        DataFrame: DataFrame hasil agregasi rata-rata kolom umum.\n",
    "    \"\"\"\n",
    "    if len(dfs) < 2:\n",
    "        raise ValueError(\"Minimal dua DataFrame diperlukan.\")\n",
    "\n",
    "    # 1. Ambil kolom yang sama di semua DataFrame\n",
    "    common_cols = set(dfs[0].columns)\n",
    "    for df in dfs[1:]:\n",
    "        common_cols &= set(df.columns)\n",
    "    common_cols = list(common_cols)\n",
    "\n",
    "    if not all(col in common_cols for col in group_cols):\n",
    "        raise ValueError(f\"Semua group_cols ({group_cols}) harus ada di kolom umum.\")\n",
    "\n",
    "    # 2. Select hanya kolom yang sama\n",
    "    dfs_selected = [df.select(common_cols) for df in dfs]\n",
    "\n",
    "    # 3. Union semua DataFrame\n",
    "    union_df = dfs_selected[0]\n",
    "    for df in dfs_selected[1:]:\n",
    "        union_df = union_df.unionByName(df)\n",
    "\n",
    "    # 4. Agregasi\n",
    "    value_cols = [col for col in common_cols if col not in group_cols]\n",
    "    agg_exprs = [avg(col).alias(f\"avg_{col}\") for col in value_cols]\n",
    "    result_df = union_df.groupBy(*group_cols).agg(*agg_exprs)\n",
    "\n",
    "    return result_df"
   ]
  },
  {
   "cell_type": "code",
   "execution_count": 105,
   "id": "e5c140e2",
   "metadata": {},
   "outputs": [
    {
     "name": "stdout",
     "output_type": "stream",
     "text": [
      "+---------+-------------------+------------------+------------------+-------------------+-------------------+------------------+-----------------+------------------+\n",
      "| district|           latitude|         longitude|      avg_wind_deg|avg_cloud_total_pct|avg_wind_speed_kmph| avg_temperature_c| avg_humidity_pct|avg_wind_gust_kmph|\n",
      "+---------+-------------------+------------------+------------------+-------------------+-------------------+------------------+-----------------+------------------+\n",
      "|   Klojen| -7.969421375342755| 112.6285308513895| 226.8846153846154|  91.38461538461539|  3.791923076923077| 25.16653846153846|85.92307692307692|  8.96653846153846|\n",
      "| Blimbing| -7.945926995201971|112.64310740385885|227.57692307692307|  91.42307692307692| 3.7600000000000002|25.091923076923077|85.96153846153847| 8.938846153846153|\n",
      "|    Sukun| -7.987926536974757| 112.6100743302227|226.42307692307693|  91.38461538461539| 3.8015384615384615|25.275384615384617|85.92307692307692| 8.978846153846153|\n",
      "|Lowokwaru|-7.9348455775950795|112.60665573821122|226.96153846153845|  91.38461538461539| 3.7615384615384615| 24.71461538461538|85.92307692307692| 8.948461538461538|\n",
      "|   Lawang| -7.828716329007881|112.70181673602366|167.30769230769232|  68.57692307692308|               5.54| 24.91076923076923|85.46153846153847|11.364230769230772|\n",
      "|Singosari| -7.875350536265517|112.64837233274164|234.84615384615384|  89.23076923076923| 3.7365384615384616|24.699230769230773|85.61538461538461| 8.658846153846152|\n",
      "| Kepanjen|  -8.11761411293624|112.57906911889476|135.07692307692307|  88.38461538461539| 10.338846153846154|25.251153846153848|83.23076923076923|25.549230769230764|\n",
      "|    Pakis| -7.958180248694484|112.71010117082125|184.46153846153845|  86.65384615384616| 4.4934615384615375| 25.64769230769231|81.26923076923077|  9.27346153846154|\n",
      "|    Wagir| -7.980111689103741|112.49397160866646|187.96153846153845|  94.23076923076923|  2.678461538461538|17.892307692307693|94.96153846153847| 8.753076923076925|\n",
      "|  Tumpang| -8.007270828630284|112.74768804369178| 227.1153846153846|               92.0| 3.7780769230769233|24.483461538461537|85.96153846153847| 8.976153846153846|\n",
      "+---------+-------------------+------------------+------------------+-------------------+-------------------+------------------+-----------------+------------------+\n",
      "\n"
     ]
    }
   ],
   "source": [
    "final_psdf = aggregate_common_columns([openmeteo_psdf, openweathermap_psdf, weatherapi_psdf])\n",
    "final_psdf.show()"
   ]
  }
 ],
 "metadata": {
  "kernelspec": {
   "display_name": "rdvenv",
   "language": "python",
   "name": "python3"
  },
  "language_info": {
   "codemirror_mode": {
    "name": "ipython",
    "version": 3
   },
   "file_extension": ".py",
   "mimetype": "text/x-python",
   "name": "python",
   "nbconvert_exporter": "python",
   "pygments_lexer": "ipython3",
   "version": "3.9.22"
  }
 },
 "nbformat": 4,
 "nbformat_minor": 5
}
